{
 "cells": [
  {
   "cell_type": "markdown",
   "id": "ab26bc62",
   "metadata": {},
   "source": [
    "# Лабораторная работа № 1\n",
    "### Боровских Вадим, 932003\n",
    "\n",
    "## B) Многоклассовый классификатор  fetal_health.csv\n"
   ]
  },
  {
   "cell_type": "code",
   "execution_count": 21,
   "id": "85013b3b",
   "metadata": {},
   "outputs": [],
   "source": [
    "import matplotlib.pyplot as plt\n",
    "import seaborn as sns\n",
    "import pandas as pd\n",
    "import numpy as np\n",
    "from sklearn.model_selection import train_test_split\n",
    "from sklearn.preprocessing import LabelEncoder\n",
    "from keras.models import Sequential\n",
    "from keras.layers import Dense\n",
    "from keras.callbacks import ModelCheckpoint, EarlyStopping"
   ]
  },
  {
   "cell_type": "code",
   "execution_count": 22,
   "id": "ba1eb89c",
   "metadata": {},
   "outputs": [
    {
     "data": {
      "text/html": [
       "<div>\n",
       "<style scoped>\n",
       "    .dataframe tbody tr th:only-of-type {\n",
       "        vertical-align: middle;\n",
       "    }\n",
       "\n",
       "    .dataframe tbody tr th {\n",
       "        vertical-align: top;\n",
       "    }\n",
       "\n",
       "    .dataframe thead th {\n",
       "        text-align: right;\n",
       "    }\n",
       "</style>\n",
       "<table border=\"1\" class=\"dataframe\">\n",
       "  <thead>\n",
       "    <tr style=\"text-align: right;\">\n",
       "      <th></th>\n",
       "      <th>baseline value</th>\n",
       "      <th>accelerations</th>\n",
       "      <th>fetal_movement</th>\n",
       "      <th>uterine_contractions</th>\n",
       "      <th>light_decelerations</th>\n",
       "      <th>severe_decelerations</th>\n",
       "      <th>prolongued_decelerations</th>\n",
       "      <th>abnormal_short_term_variability</th>\n",
       "      <th>mean_value_of_short_term_variability</th>\n",
       "      <th>percentage_of_time_with_abnormal_long_term_variability</th>\n",
       "      <th>...</th>\n",
       "      <th>histogram_min</th>\n",
       "      <th>histogram_max</th>\n",
       "      <th>histogram_number_of_peaks</th>\n",
       "      <th>histogram_number_of_zeroes</th>\n",
       "      <th>histogram_mode</th>\n",
       "      <th>histogram_mean</th>\n",
       "      <th>histogram_median</th>\n",
       "      <th>histogram_variance</th>\n",
       "      <th>histogram_tendency</th>\n",
       "      <th>fetal_health</th>\n",
       "    </tr>\n",
       "  </thead>\n",
       "  <tbody>\n",
       "    <tr>\n",
       "      <th>0</th>\n",
       "      <td>120.0</td>\n",
       "      <td>0.000</td>\n",
       "      <td>0.000</td>\n",
       "      <td>0.000</td>\n",
       "      <td>0.000</td>\n",
       "      <td>0.0</td>\n",
       "      <td>0.0</td>\n",
       "      <td>73.0</td>\n",
       "      <td>0.5</td>\n",
       "      <td>43.0</td>\n",
       "      <td>...</td>\n",
       "      <td>62.0</td>\n",
       "      <td>126.0</td>\n",
       "      <td>2.0</td>\n",
       "      <td>0.0</td>\n",
       "      <td>120.0</td>\n",
       "      <td>137.0</td>\n",
       "      <td>121.0</td>\n",
       "      <td>73.0</td>\n",
       "      <td>1.0</td>\n",
       "      <td>2.0</td>\n",
       "    </tr>\n",
       "    <tr>\n",
       "      <th>1</th>\n",
       "      <td>132.0</td>\n",
       "      <td>0.006</td>\n",
       "      <td>0.000</td>\n",
       "      <td>0.006</td>\n",
       "      <td>0.003</td>\n",
       "      <td>0.0</td>\n",
       "      <td>0.0</td>\n",
       "      <td>17.0</td>\n",
       "      <td>2.1</td>\n",
       "      <td>0.0</td>\n",
       "      <td>...</td>\n",
       "      <td>68.0</td>\n",
       "      <td>198.0</td>\n",
       "      <td>6.0</td>\n",
       "      <td>1.0</td>\n",
       "      <td>141.0</td>\n",
       "      <td>136.0</td>\n",
       "      <td>140.0</td>\n",
       "      <td>12.0</td>\n",
       "      <td>0.0</td>\n",
       "      <td>1.0</td>\n",
       "    </tr>\n",
       "    <tr>\n",
       "      <th>2</th>\n",
       "      <td>133.0</td>\n",
       "      <td>0.003</td>\n",
       "      <td>0.000</td>\n",
       "      <td>0.008</td>\n",
       "      <td>0.003</td>\n",
       "      <td>0.0</td>\n",
       "      <td>0.0</td>\n",
       "      <td>16.0</td>\n",
       "      <td>2.1</td>\n",
       "      <td>0.0</td>\n",
       "      <td>...</td>\n",
       "      <td>68.0</td>\n",
       "      <td>198.0</td>\n",
       "      <td>5.0</td>\n",
       "      <td>1.0</td>\n",
       "      <td>141.0</td>\n",
       "      <td>135.0</td>\n",
       "      <td>138.0</td>\n",
       "      <td>13.0</td>\n",
       "      <td>0.0</td>\n",
       "      <td>1.0</td>\n",
       "    </tr>\n",
       "    <tr>\n",
       "      <th>3</th>\n",
       "      <td>134.0</td>\n",
       "      <td>0.003</td>\n",
       "      <td>0.000</td>\n",
       "      <td>0.008</td>\n",
       "      <td>0.003</td>\n",
       "      <td>0.0</td>\n",
       "      <td>0.0</td>\n",
       "      <td>16.0</td>\n",
       "      <td>2.4</td>\n",
       "      <td>0.0</td>\n",
       "      <td>...</td>\n",
       "      <td>53.0</td>\n",
       "      <td>170.0</td>\n",
       "      <td>11.0</td>\n",
       "      <td>0.0</td>\n",
       "      <td>137.0</td>\n",
       "      <td>134.0</td>\n",
       "      <td>137.0</td>\n",
       "      <td>13.0</td>\n",
       "      <td>1.0</td>\n",
       "      <td>1.0</td>\n",
       "    </tr>\n",
       "    <tr>\n",
       "      <th>4</th>\n",
       "      <td>132.0</td>\n",
       "      <td>0.007</td>\n",
       "      <td>0.000</td>\n",
       "      <td>0.008</td>\n",
       "      <td>0.000</td>\n",
       "      <td>0.0</td>\n",
       "      <td>0.0</td>\n",
       "      <td>16.0</td>\n",
       "      <td>2.4</td>\n",
       "      <td>0.0</td>\n",
       "      <td>...</td>\n",
       "      <td>53.0</td>\n",
       "      <td>170.0</td>\n",
       "      <td>9.0</td>\n",
       "      <td>0.0</td>\n",
       "      <td>137.0</td>\n",
       "      <td>136.0</td>\n",
       "      <td>138.0</td>\n",
       "      <td>11.0</td>\n",
       "      <td>1.0</td>\n",
       "      <td>1.0</td>\n",
       "    </tr>\n",
       "    <tr>\n",
       "      <th>...</th>\n",
       "      <td>...</td>\n",
       "      <td>...</td>\n",
       "      <td>...</td>\n",
       "      <td>...</td>\n",
       "      <td>...</td>\n",
       "      <td>...</td>\n",
       "      <td>...</td>\n",
       "      <td>...</td>\n",
       "      <td>...</td>\n",
       "      <td>...</td>\n",
       "      <td>...</td>\n",
       "      <td>...</td>\n",
       "      <td>...</td>\n",
       "      <td>...</td>\n",
       "      <td>...</td>\n",
       "      <td>...</td>\n",
       "      <td>...</td>\n",
       "      <td>...</td>\n",
       "      <td>...</td>\n",
       "      <td>...</td>\n",
       "      <td>...</td>\n",
       "    </tr>\n",
       "    <tr>\n",
       "      <th>2121</th>\n",
       "      <td>140.0</td>\n",
       "      <td>0.000</td>\n",
       "      <td>0.000</td>\n",
       "      <td>0.007</td>\n",
       "      <td>0.000</td>\n",
       "      <td>0.0</td>\n",
       "      <td>0.0</td>\n",
       "      <td>79.0</td>\n",
       "      <td>0.2</td>\n",
       "      <td>25.0</td>\n",
       "      <td>...</td>\n",
       "      <td>137.0</td>\n",
       "      <td>177.0</td>\n",
       "      <td>4.0</td>\n",
       "      <td>0.0</td>\n",
       "      <td>153.0</td>\n",
       "      <td>150.0</td>\n",
       "      <td>152.0</td>\n",
       "      <td>2.0</td>\n",
       "      <td>0.0</td>\n",
       "      <td>2.0</td>\n",
       "    </tr>\n",
       "    <tr>\n",
       "      <th>2122</th>\n",
       "      <td>140.0</td>\n",
       "      <td>0.001</td>\n",
       "      <td>0.000</td>\n",
       "      <td>0.007</td>\n",
       "      <td>0.000</td>\n",
       "      <td>0.0</td>\n",
       "      <td>0.0</td>\n",
       "      <td>78.0</td>\n",
       "      <td>0.4</td>\n",
       "      <td>22.0</td>\n",
       "      <td>...</td>\n",
       "      <td>103.0</td>\n",
       "      <td>169.0</td>\n",
       "      <td>6.0</td>\n",
       "      <td>0.0</td>\n",
       "      <td>152.0</td>\n",
       "      <td>148.0</td>\n",
       "      <td>151.0</td>\n",
       "      <td>3.0</td>\n",
       "      <td>1.0</td>\n",
       "      <td>2.0</td>\n",
       "    </tr>\n",
       "    <tr>\n",
       "      <th>2123</th>\n",
       "      <td>140.0</td>\n",
       "      <td>0.001</td>\n",
       "      <td>0.000</td>\n",
       "      <td>0.007</td>\n",
       "      <td>0.000</td>\n",
       "      <td>0.0</td>\n",
       "      <td>0.0</td>\n",
       "      <td>79.0</td>\n",
       "      <td>0.4</td>\n",
       "      <td>20.0</td>\n",
       "      <td>...</td>\n",
       "      <td>103.0</td>\n",
       "      <td>170.0</td>\n",
       "      <td>5.0</td>\n",
       "      <td>0.0</td>\n",
       "      <td>153.0</td>\n",
       "      <td>148.0</td>\n",
       "      <td>152.0</td>\n",
       "      <td>4.0</td>\n",
       "      <td>1.0</td>\n",
       "      <td>2.0</td>\n",
       "    </tr>\n",
       "    <tr>\n",
       "      <th>2124</th>\n",
       "      <td>140.0</td>\n",
       "      <td>0.001</td>\n",
       "      <td>0.000</td>\n",
       "      <td>0.006</td>\n",
       "      <td>0.000</td>\n",
       "      <td>0.0</td>\n",
       "      <td>0.0</td>\n",
       "      <td>78.0</td>\n",
       "      <td>0.4</td>\n",
       "      <td>27.0</td>\n",
       "      <td>...</td>\n",
       "      <td>103.0</td>\n",
       "      <td>169.0</td>\n",
       "      <td>6.0</td>\n",
       "      <td>0.0</td>\n",
       "      <td>152.0</td>\n",
       "      <td>147.0</td>\n",
       "      <td>151.0</td>\n",
       "      <td>4.0</td>\n",
       "      <td>1.0</td>\n",
       "      <td>2.0</td>\n",
       "    </tr>\n",
       "    <tr>\n",
       "      <th>2125</th>\n",
       "      <td>142.0</td>\n",
       "      <td>0.002</td>\n",
       "      <td>0.002</td>\n",
       "      <td>0.008</td>\n",
       "      <td>0.000</td>\n",
       "      <td>0.0</td>\n",
       "      <td>0.0</td>\n",
       "      <td>74.0</td>\n",
       "      <td>0.4</td>\n",
       "      <td>36.0</td>\n",
       "      <td>...</td>\n",
       "      <td>117.0</td>\n",
       "      <td>159.0</td>\n",
       "      <td>2.0</td>\n",
       "      <td>1.0</td>\n",
       "      <td>145.0</td>\n",
       "      <td>143.0</td>\n",
       "      <td>145.0</td>\n",
       "      <td>1.0</td>\n",
       "      <td>0.0</td>\n",
       "      <td>1.0</td>\n",
       "    </tr>\n",
       "  </tbody>\n",
       "</table>\n",
       "<p>2126 rows × 22 columns</p>\n",
       "</div>"
      ],
      "text/plain": [
       "      baseline value  accelerations  fetal_movement  uterine_contractions  \\\n",
       "0              120.0          0.000           0.000                 0.000   \n",
       "1              132.0          0.006           0.000                 0.006   \n",
       "2              133.0          0.003           0.000                 0.008   \n",
       "3              134.0          0.003           0.000                 0.008   \n",
       "4              132.0          0.007           0.000                 0.008   \n",
       "...              ...            ...             ...                   ...   \n",
       "2121           140.0          0.000           0.000                 0.007   \n",
       "2122           140.0          0.001           0.000                 0.007   \n",
       "2123           140.0          0.001           0.000                 0.007   \n",
       "2124           140.0          0.001           0.000                 0.006   \n",
       "2125           142.0          0.002           0.002                 0.008   \n",
       "\n",
       "      light_decelerations  severe_decelerations  prolongued_decelerations  \\\n",
       "0                   0.000                   0.0                       0.0   \n",
       "1                   0.003                   0.0                       0.0   \n",
       "2                   0.003                   0.0                       0.0   \n",
       "3                   0.003                   0.0                       0.0   \n",
       "4                   0.000                   0.0                       0.0   \n",
       "...                   ...                   ...                       ...   \n",
       "2121                0.000                   0.0                       0.0   \n",
       "2122                0.000                   0.0                       0.0   \n",
       "2123                0.000                   0.0                       0.0   \n",
       "2124                0.000                   0.0                       0.0   \n",
       "2125                0.000                   0.0                       0.0   \n",
       "\n",
       "      abnormal_short_term_variability  mean_value_of_short_term_variability  \\\n",
       "0                                73.0                                   0.5   \n",
       "1                                17.0                                   2.1   \n",
       "2                                16.0                                   2.1   \n",
       "3                                16.0                                   2.4   \n",
       "4                                16.0                                   2.4   \n",
       "...                               ...                                   ...   \n",
       "2121                             79.0                                   0.2   \n",
       "2122                             78.0                                   0.4   \n",
       "2123                             79.0                                   0.4   \n",
       "2124                             78.0                                   0.4   \n",
       "2125                             74.0                                   0.4   \n",
       "\n",
       "      percentage_of_time_with_abnormal_long_term_variability  ...  \\\n",
       "0                                                  43.0       ...   \n",
       "1                                                   0.0       ...   \n",
       "2                                                   0.0       ...   \n",
       "3                                                   0.0       ...   \n",
       "4                                                   0.0       ...   \n",
       "...                                                 ...       ...   \n",
       "2121                                               25.0       ...   \n",
       "2122                                               22.0       ...   \n",
       "2123                                               20.0       ...   \n",
       "2124                                               27.0       ...   \n",
       "2125                                               36.0       ...   \n",
       "\n",
       "      histogram_min  histogram_max  histogram_number_of_peaks  \\\n",
       "0              62.0          126.0                        2.0   \n",
       "1              68.0          198.0                        6.0   \n",
       "2              68.0          198.0                        5.0   \n",
       "3              53.0          170.0                       11.0   \n",
       "4              53.0          170.0                        9.0   \n",
       "...             ...            ...                        ...   \n",
       "2121          137.0          177.0                        4.0   \n",
       "2122          103.0          169.0                        6.0   \n",
       "2123          103.0          170.0                        5.0   \n",
       "2124          103.0          169.0                        6.0   \n",
       "2125          117.0          159.0                        2.0   \n",
       "\n",
       "      histogram_number_of_zeroes  histogram_mode  histogram_mean  \\\n",
       "0                            0.0           120.0           137.0   \n",
       "1                            1.0           141.0           136.0   \n",
       "2                            1.0           141.0           135.0   \n",
       "3                            0.0           137.0           134.0   \n",
       "4                            0.0           137.0           136.0   \n",
       "...                          ...             ...             ...   \n",
       "2121                         0.0           153.0           150.0   \n",
       "2122                         0.0           152.0           148.0   \n",
       "2123                         0.0           153.0           148.0   \n",
       "2124                         0.0           152.0           147.0   \n",
       "2125                         1.0           145.0           143.0   \n",
       "\n",
       "      histogram_median  histogram_variance  histogram_tendency  fetal_health  \n",
       "0                121.0                73.0                 1.0           2.0  \n",
       "1                140.0                12.0                 0.0           1.0  \n",
       "2                138.0                13.0                 0.0           1.0  \n",
       "3                137.0                13.0                 1.0           1.0  \n",
       "4                138.0                11.0                 1.0           1.0  \n",
       "...                ...                 ...                 ...           ...  \n",
       "2121             152.0                 2.0                 0.0           2.0  \n",
       "2122             151.0                 3.0                 1.0           2.0  \n",
       "2123             152.0                 4.0                 1.0           2.0  \n",
       "2124             151.0                 4.0                 1.0           2.0  \n",
       "2125             145.0                 1.0                 0.0           1.0  \n",
       "\n",
       "[2126 rows x 22 columns]"
      ]
     },
     "execution_count": 22,
     "metadata": {},
     "output_type": "execute_result"
    }
   ],
   "source": [
    "df = pd.read_csv(\"fetal_health.csv\", quotechar='\"', index_col = 0)\n",
    "df=df.reset_index() \n",
    "df"
   ]
  },
  {
   "cell_type": "code",
   "execution_count": 23,
   "id": "63785aeb",
   "metadata": {},
   "outputs": [
    {
     "data": {
      "text/plain": [
       "Index(['baseline value', 'accelerations', 'fetal_movement',\n",
       "       'uterine_contractions', 'light_decelerations', 'severe_decelerations',\n",
       "       'prolongued_decelerations', 'abnormal_short_term_variability',\n",
       "       'mean_value_of_short_term_variability',\n",
       "       'percentage_of_time_with_abnormal_long_term_variability',\n",
       "       'mean_value_of_long_term_variability', 'histogram_width',\n",
       "       'histogram_min', 'histogram_max', 'histogram_number_of_peaks',\n",
       "       'histogram_number_of_zeroes', 'histogram_mode', 'histogram_mean',\n",
       "       'histogram_median', 'histogram_variance', 'histogram_tendency',\n",
       "       'fetal_health'],\n",
       "      dtype='object')"
      ]
     },
     "execution_count": 23,
     "metadata": {},
     "output_type": "execute_result"
    }
   ],
   "source": [
    "df.columns"
   ]
  },
  {
   "cell_type": "code",
   "execution_count": 24,
   "id": "70b368f9",
   "metadata": {},
   "outputs": [
    {
     "data": {
      "text/plain": [
       "array([2., 1., 3.])"
      ]
     },
     "execution_count": 24,
     "metadata": {},
     "output_type": "execute_result"
    }
   ],
   "source": [
    "df['fetal_health'].unique()"
   ]
  },
  {
   "cell_type": "code",
   "execution_count": 25,
   "id": "da459b9d",
   "metadata": {},
   "outputs": [
    {
     "data": {
      "text/plain": [
       "1.0    1655\n",
       "2.0     295\n",
       "3.0     176\n",
       "Name: fetal_health, dtype: int64"
      ]
     },
     "execution_count": 25,
     "metadata": {},
     "output_type": "execute_result"
    }
   ],
   "source": [
    "df['fetal_health'].value_counts()"
   ]
  },
  {
   "cell_type": "markdown",
   "id": "f544d961",
   "metadata": {},
   "source": [
    "1 - соответствует нормальному состоянию плода, 2 - подозрительному состоянию плода,3 - патология"
   ]
  },
  {
   "cell_type": "code",
   "execution_count": 26,
   "id": "4b5cafed",
   "metadata": {},
   "outputs": [
    {
     "name": "stdout",
     "output_type": "stream",
     "text": [
      "<class 'pandas.core.frame.DataFrame'>\n",
      "RangeIndex: 2126 entries, 0 to 2125\n",
      "Data columns (total 22 columns):\n",
      " #   Column                                                  Non-Null Count  Dtype  \n",
      "---  ------                                                  --------------  -----  \n",
      " 0   baseline value                                          2126 non-null   float64\n",
      " 1   accelerations                                           2126 non-null   float64\n",
      " 2   fetal_movement                                          2126 non-null   float64\n",
      " 3   uterine_contractions                                    2126 non-null   float64\n",
      " 4   light_decelerations                                     2126 non-null   float64\n",
      " 5   severe_decelerations                                    2126 non-null   float64\n",
      " 6   prolongued_decelerations                                2126 non-null   float64\n",
      " 7   abnormal_short_term_variability                         2126 non-null   float64\n",
      " 8   mean_value_of_short_term_variability                    2126 non-null   float64\n",
      " 9   percentage_of_time_with_abnormal_long_term_variability  2126 non-null   float64\n",
      " 10  mean_value_of_long_term_variability                     2126 non-null   float64\n",
      " 11  histogram_width                                         2126 non-null   float64\n",
      " 12  histogram_min                                           2126 non-null   float64\n",
      " 13  histogram_max                                           2126 non-null   float64\n",
      " 14  histogram_number_of_peaks                               2126 non-null   float64\n",
      " 15  histogram_number_of_zeroes                              2126 non-null   float64\n",
      " 16  histogram_mode                                          2126 non-null   float64\n",
      " 17  histogram_mean                                          2126 non-null   float64\n",
      " 18  histogram_median                                        2126 non-null   float64\n",
      " 19  histogram_variance                                      2126 non-null   float64\n",
      " 20  histogram_tendency                                      2126 non-null   float64\n",
      " 21  fetal_health                                            2126 non-null   float64\n",
      "dtypes: float64(22)\n",
      "memory usage: 365.5 KB\n"
     ]
    }
   ],
   "source": [
    "df.info()"
   ]
  },
  {
   "cell_type": "code",
   "execution_count": 27,
   "id": "fcabbc24",
   "metadata": {},
   "outputs": [],
   "source": [
    "risk_dictionary_multi_class = {2:2, 1:1, 3:3}\n",
    "\n",
    "df['Target Multi'] = df['fetal_health'].map(risk_dictionary_multi_class)"
   ]
  },
  {
   "cell_type": "code",
   "execution_count": 28,
   "id": "59b1d05f",
   "metadata": {},
   "outputs": [
    {
     "data": {
      "text/html": [
       "<div>\n",
       "<style scoped>\n",
       "    .dataframe tbody tr th:only-of-type {\n",
       "        vertical-align: middle;\n",
       "    }\n",
       "\n",
       "    .dataframe tbody tr th {\n",
       "        vertical-align: top;\n",
       "    }\n",
       "\n",
       "    .dataframe thead th {\n",
       "        text-align: right;\n",
       "    }\n",
       "</style>\n",
       "<table border=\"1\" class=\"dataframe\">\n",
       "  <thead>\n",
       "    <tr style=\"text-align: right;\">\n",
       "      <th></th>\n",
       "      <th>fetal_health</th>\n",
       "      <th>Target Multi</th>\n",
       "    </tr>\n",
       "  </thead>\n",
       "  <tbody>\n",
       "    <tr>\n",
       "      <th>0</th>\n",
       "      <td>2.0</td>\n",
       "      <td>2</td>\n",
       "    </tr>\n",
       "    <tr>\n",
       "      <th>1</th>\n",
       "      <td>1.0</td>\n",
       "      <td>1</td>\n",
       "    </tr>\n",
       "    <tr>\n",
       "      <th>2</th>\n",
       "      <td>1.0</td>\n",
       "      <td>1</td>\n",
       "    </tr>\n",
       "    <tr>\n",
       "      <th>3</th>\n",
       "      <td>1.0</td>\n",
       "      <td>1</td>\n",
       "    </tr>\n",
       "    <tr>\n",
       "      <th>4</th>\n",
       "      <td>1.0</td>\n",
       "      <td>1</td>\n",
       "    </tr>\n",
       "  </tbody>\n",
       "</table>\n",
       "</div>"
      ],
      "text/plain": [
       "   fetal_health  Target Multi\n",
       "0           2.0             2\n",
       "1           1.0             1\n",
       "2           1.0             1\n",
       "3           1.0             1\n",
       "4           1.0             1"
      ]
     },
     "execution_count": 28,
     "metadata": {},
     "output_type": "execute_result"
    }
   ],
   "source": [
    "df[['fetal_health','Target Multi']].head()"
   ]
  },
  {
   "cell_type": "code",
   "execution_count": 29,
   "id": "ec4939fc",
   "metadata": {},
   "outputs": [
    {
     "data": {
      "text/plain": [
       "0       2\n",
       "1       1\n",
       "2       1\n",
       "3       1\n",
       "4       1\n",
       "       ..\n",
       "2121    2\n",
       "2122    2\n",
       "2123    2\n",
       "2124    2\n",
       "2125    1\n",
       "Name: Target Multi, Length: 2126, dtype: int64"
      ]
     },
     "execution_count": 29,
     "metadata": {},
     "output_type": "execute_result"
    }
   ],
   "source": [
    "Xmc = df.drop(['fetal_health','Target Multi'],axis=1)\n",
    "y = df['Target Multi']\n",
    "y"
   ]
  },
  {
   "cell_type": "code",
   "execution_count": 30,
   "id": "c9713ffa",
   "metadata": {},
   "outputs": [
    {
     "name": "stdout",
     "output_type": "stream",
     "text": [
      "0\n"
     ]
    }
   ],
   "source": [
    "print(y.isnull().sum())"
   ]
  },
  {
   "cell_type": "markdown",
   "id": "d1928b90",
   "metadata": {},
   "source": [
    "#### Преобразование категориальных данных с помощью get_dummies и масштабирование данных:\n"
   ]
  },
  {
   "cell_type": "code",
   "execution_count": 31,
   "id": "1bde08aa",
   "metadata": {},
   "outputs": [],
   "source": [
    "from sklearn.preprocessing import MinMaxScaler\n",
    "min_max_scaler = MinMaxScaler()\n",
    "Xmc = min_max_scaler.fit_transform(Xmc)"
   ]
  },
  {
   "cell_type": "code",
   "execution_count": 32,
   "id": "72e02723",
   "metadata": {},
   "outputs": [
    {
     "name": "stdout",
     "output_type": "stream",
     "text": [
      "Train : (1700, 21), Test : (426, 21)\n"
     ]
    }
   ],
   "source": [
    "from sklearn.model_selection import train_test_split\n",
    "X_all_train, X_test, y_all_train, y_test = train_test_split(Xmc, y, stratify=y, test_size = 0.2, random_state = 0)\n",
    "print(f'Train : {X_all_train.shape}, Test : {X_test.shape}')"
   ]
  },
  {
   "cell_type": "code",
   "execution_count": 33,
   "id": "d3f58925",
   "metadata": {},
   "outputs": [
    {
     "name": "stdout",
     "output_type": "stream",
     "text": [
      "Train : (1360, 21), Test : (340, 21)\n"
     ]
    }
   ],
   "source": [
    "X_train, X_val, y_train, y_val = train_test_split(X_all_train, y_all_train, stratify=y_all_train, test_size = 0.2, random_state = 0)\n",
    "print(f'Train : {X_train.shape}, Test : {X_val.shape}')"
   ]
  },
  {
   "cell_type": "code",
   "execution_count": 34,
   "id": "390ca79c",
   "metadata": {},
   "outputs": [
    {
     "name": "stdout",
     "output_type": "stream",
     "text": [
      "y_train shape: (1360, 4)\n",
      "y_val shape: (340, 4)\n",
      "y_test shape: (426, 4)\n"
     ]
    }
   ],
   "source": [
    "from tensorflow.keras.utils import to_categorical\n",
    "y_train = to_categorical(y_train)\n",
    "y_val = to_categorical(y_val)\n",
    "y_test = to_categorical(y_test)\n",
    "print('y_train shape:', y_train.shape)\n",
    "print('y_val shape:', y_val.shape)\n",
    "print('y_test shape:', y_test.shape)"
   ]
  },
  {
   "cell_type": "code",
   "execution_count": 35,
   "id": "ea35fc59",
   "metadata": {},
   "outputs": [],
   "source": [
    "multi_classifier = Sequential()\n",
    "multi_classifier.add(Dense(8,activation='relu',input_dim=21))\n",
    "multi_classifier.add(Dense(4,activation='softmax'))"
   ]
  },
  {
   "cell_type": "code",
   "execution_count": 36,
   "id": "56086598",
   "metadata": {},
   "outputs": [],
   "source": [
    "multi_classifier.compile(loss='categorical_crossentropy',optimizer='adam',\n",
    "                          metrics='accuracy')\n",
    "\n",
    "early_stop = EarlyStopping(monitor='val_accuracy',patience=15,mode='max',verbose=1)\n",
    "checkpoint = ModelCheckpoint('C:/Users/vvadi/DeepLearning/multi_classifier-{epoch:02d}-{val_accuracy:.3f}.hdf5',\n",
    "                              monitor='val_accuracy',verbose=1,mode='max',\n",
    "                              save_best_only=True)\n",
    "callbacks_list=[early_stop,checkpoint]"
   ]
  },
  {
   "cell_type": "code",
   "execution_count": 37,
   "id": "36c1e6ed",
   "metadata": {},
   "outputs": [
    {
     "name": "stdout",
     "output_type": "stream",
     "text": [
      "Epoch 1/50\n",
      "68/68 [==============================] - 2s 12ms/step - loss: 1.1452 - accuracy: 0.5529 - val_loss: 0.8608 - val_accuracy: 0.7824\n",
      "Epoch 2/50\n",
      "68/68 [==============================] - 0s 5ms/step - loss: 0.7402 - accuracy: 0.7801 - val_loss: 0.6669 - val_accuracy: 0.7794\n",
      "Epoch 3/50\n",
      "68/68 [==============================] - 0s 5ms/step - loss: 0.6268 - accuracy: 0.7794 - val_loss: 0.5896 - val_accuracy: 0.7882\n",
      "Epoch 4/50\n",
      "68/68 [==============================] - 0s 5ms/step - loss: 0.5657 - accuracy: 0.7824 - val_loss: 0.5375 - val_accuracy: 0.7853\n",
      "Epoch 5/50\n",
      "68/68 [==============================] - 0s 6ms/step - loss: 0.5250 - accuracy: 0.7860 - val_loss: 0.4998 - val_accuracy: 0.7912\n",
      "Epoch 6/50\n",
      "68/68 [==============================] - 0s 5ms/step - loss: 0.4913 - accuracy: 0.7956 - val_loss: 0.4721 - val_accuracy: 0.7882\n",
      "Epoch 7/50\n",
      "68/68 [==============================] - 0s 5ms/step - loss: 0.4654 - accuracy: 0.8081 - val_loss: 0.4489 - val_accuracy: 0.8176\n",
      "Epoch 8/50\n",
      "68/68 [==============================] - 0s 5ms/step - loss: 0.4431 - accuracy: 0.8206 - val_loss: 0.4288 - val_accuracy: 0.8265\n",
      "Epoch 9/50\n",
      "68/68 [==============================] - 0s 6ms/step - loss: 0.4236 - accuracy: 0.8250 - val_loss: 0.4125 - val_accuracy: 0.8294\n",
      "Epoch 10/50\n",
      "68/68 [==============================] - 0s 6ms/step - loss: 0.4075 - accuracy: 0.8360 - val_loss: 0.3983 - val_accuracy: 0.8265\n",
      "Epoch 11/50\n",
      "68/68 [==============================] - 0s 6ms/step - loss: 0.3920 - accuracy: 0.8434 - val_loss: 0.3860 - val_accuracy: 0.8324\n",
      "Epoch 12/50\n",
      "68/68 [==============================] - 0s 5ms/step - loss: 0.3798 - accuracy: 0.8463 - val_loss: 0.3762 - val_accuracy: 0.8382\n",
      "Epoch 13/50\n",
      "68/68 [==============================] - 0s 6ms/step - loss: 0.3684 - accuracy: 0.8507 - val_loss: 0.3669 - val_accuracy: 0.8382\n",
      "Epoch 14/50\n",
      "68/68 [==============================] - 0s 5ms/step - loss: 0.3597 - accuracy: 0.8507 - val_loss: 0.3594 - val_accuracy: 0.8412\n",
      "Epoch 15/50\n",
      "68/68 [==============================] - 0s 5ms/step - loss: 0.3506 - accuracy: 0.8596 - val_loss: 0.3521 - val_accuracy: 0.8441\n",
      "Epoch 16/50\n",
      "68/68 [==============================] - 0s 5ms/step - loss: 0.3429 - accuracy: 0.8559 - val_loss: 0.3461 - val_accuracy: 0.8441\n",
      "Epoch 17/50\n",
      "68/68 [==============================] - 0s 6ms/step - loss: 0.3361 - accuracy: 0.8551 - val_loss: 0.3400 - val_accuracy: 0.8559\n",
      "Epoch 18/50\n",
      "68/68 [==============================] - 0s 5ms/step - loss: 0.3302 - accuracy: 0.8632 - val_loss: 0.3353 - val_accuracy: 0.8441\n",
      "Epoch 19/50\n",
      "68/68 [==============================] - 0s 5ms/step - loss: 0.3248 - accuracy: 0.8551 - val_loss: 0.3297 - val_accuracy: 0.8588\n",
      "Epoch 20/50\n",
      "68/68 [==============================] - 0s 5ms/step - loss: 0.3204 - accuracy: 0.8581 - val_loss: 0.3258 - val_accuracy: 0.8588\n",
      "Epoch 21/50\n",
      "68/68 [==============================] - 0s 6ms/step - loss: 0.3153 - accuracy: 0.8618 - val_loss: 0.3213 - val_accuracy: 0.8618\n",
      "Epoch 22/50\n",
      "68/68 [==============================] - 0s 5ms/step - loss: 0.3108 - accuracy: 0.8654 - val_loss: 0.3174 - val_accuracy: 0.8618\n",
      "Epoch 23/50\n",
      "68/68 [==============================] - 0s 5ms/step - loss: 0.3067 - accuracy: 0.8632 - val_loss: 0.3139 - val_accuracy: 0.8588\n",
      "Epoch 24/50\n",
      "68/68 [==============================] - 0s 5ms/step - loss: 0.3026 - accuracy: 0.8669 - val_loss: 0.3123 - val_accuracy: 0.8588\n",
      "Epoch 25/50\n",
      "68/68 [==============================] - 0s 6ms/step - loss: 0.3019 - accuracy: 0.8647 - val_loss: 0.3073 - val_accuracy: 0.8588\n",
      "Epoch 26/50\n",
      "68/68 [==============================] - 0s 5ms/step - loss: 0.2968 - accuracy: 0.8640 - val_loss: 0.3042 - val_accuracy: 0.8618\n",
      "Epoch 27/50\n",
      "68/68 [==============================] - 0s 5ms/step - loss: 0.2939 - accuracy: 0.8684 - val_loss: 0.3024 - val_accuracy: 0.8618\n",
      "Epoch 28/50\n",
      "68/68 [==============================] - 0s 6ms/step - loss: 0.2910 - accuracy: 0.8676 - val_loss: 0.2989 - val_accuracy: 0.8735\n",
      "Epoch 29/50\n",
      "68/68 [==============================] - 0s 6ms/step - loss: 0.2884 - accuracy: 0.8728 - val_loss: 0.2965 - val_accuracy: 0.8735\n",
      "Epoch 30/50\n",
      "68/68 [==============================] - 0s 6ms/step - loss: 0.2862 - accuracy: 0.8757 - val_loss: 0.2956 - val_accuracy: 0.8647\n",
      "Epoch 31/50\n",
      "68/68 [==============================] - 0s 6ms/step - loss: 0.2839 - accuracy: 0.8757 - val_loss: 0.2924 - val_accuracy: 0.8765\n",
      "Epoch 32/50\n",
      "68/68 [==============================] - 0s 5ms/step - loss: 0.2811 - accuracy: 0.8772 - val_loss: 0.2911 - val_accuracy: 0.8765\n",
      "Epoch 33/50\n",
      "68/68 [==============================] - 0s 6ms/step - loss: 0.2802 - accuracy: 0.8787 - val_loss: 0.2887 - val_accuracy: 0.8765\n",
      "Epoch 34/50\n",
      "68/68 [==============================] - 0s 6ms/step - loss: 0.2779 - accuracy: 0.8779 - val_loss: 0.2866 - val_accuracy: 0.8824\n",
      "Epoch 35/50\n",
      "68/68 [==============================] - 0s 5ms/step - loss: 0.2755 - accuracy: 0.8801 - val_loss: 0.2846 - val_accuracy: 0.8765\n",
      "Epoch 36/50\n",
      "68/68 [==============================] - 0s 5ms/step - loss: 0.2741 - accuracy: 0.8801 - val_loss: 0.2822 - val_accuracy: 0.8824\n",
      "Epoch 37/50\n",
      "68/68 [==============================] - 0s 6ms/step - loss: 0.2720 - accuracy: 0.8824 - val_loss: 0.2814 - val_accuracy: 0.8912\n",
      "Epoch 38/50\n",
      "68/68 [==============================] - 0s 6ms/step - loss: 0.2703 - accuracy: 0.8824 - val_loss: 0.2793 - val_accuracy: 0.8912\n",
      "Epoch 39/50\n",
      "68/68 [==============================] - 0s 5ms/step - loss: 0.2694 - accuracy: 0.8846 - val_loss: 0.2800 - val_accuracy: 0.8706\n",
      "Epoch 40/50\n",
      "68/68 [==============================] - 0s 6ms/step - loss: 0.2675 - accuracy: 0.8824 - val_loss: 0.2783 - val_accuracy: 0.8941\n",
      "Epoch 41/50\n",
      "68/68 [==============================] - 0s 6ms/step - loss: 0.2662 - accuracy: 0.8831 - val_loss: 0.2766 - val_accuracy: 0.8941\n",
      "Epoch 42/50\n",
      "68/68 [==============================] - 0s 7ms/step - loss: 0.2644 - accuracy: 0.8838 - val_loss: 0.2749 - val_accuracy: 0.8971\n",
      "Epoch 43/50\n",
      "68/68 [==============================] - 0s 6ms/step - loss: 0.2633 - accuracy: 0.8846 - val_loss: 0.2726 - val_accuracy: 0.8853\n",
      "Epoch 44/50\n",
      "68/68 [==============================] - 0s 5ms/step - loss: 0.2619 - accuracy: 0.8868 - val_loss: 0.2728 - val_accuracy: 0.8941\n",
      "Epoch 45/50\n",
      "68/68 [==============================] - 0s 6ms/step - loss: 0.2604 - accuracy: 0.8882 - val_loss: 0.2719 - val_accuracy: 0.8941\n",
      "Epoch 46/50\n",
      "68/68 [==============================] - 0s 6ms/step - loss: 0.2603 - accuracy: 0.8868 - val_loss: 0.2699 - val_accuracy: 0.8941\n",
      "Epoch 47/50\n",
      "68/68 [==============================] - 0s 6ms/step - loss: 0.2582 - accuracy: 0.8912 - val_loss: 0.2686 - val_accuracy: 0.8882\n",
      "Epoch 48/50\n",
      "68/68 [==============================] - 0s 6ms/step - loss: 0.2571 - accuracy: 0.8875 - val_loss: 0.2695 - val_accuracy: 0.8971\n",
      "Epoch 49/50\n",
      "68/68 [==============================] - 1s 8ms/step - loss: 0.2572 - accuracy: 0.8897 - val_loss: 0.2688 - val_accuracy: 0.8941\n",
      "Epoch 50/50\n",
      "68/68 [==============================] - 0s 5ms/step - loss: 0.2563 - accuracy: 0.8890 - val_loss: 0.2656 - val_accuracy: 0.8882\n"
     ]
    }
   ],
   "source": [
    "multi_classifier_history = multi_classifier.fit(X_train, y_train, batch_size=20,\n",
    "                      validation_data=(X_val,y_val), epochs=50)"
   ]
  },
  {
   "cell_type": "markdown",
   "id": "2ada0184",
   "metadata": {},
   "source": [
    "#### Построение графика потери"
   ]
  },
  {
   "cell_type": "code",
   "execution_count": 38,
   "id": "5841b9ff",
   "metadata": {},
   "outputs": [
    {
     "data": {
      "image/png": "[encoded data removed]",
      "text/plain": [
       "<Figure size 640x480 with 1 Axes>"
      ]
     },
     "metadata": {},
     "output_type": "display_data"
    }
   ],
   "source": [
    "loss_function = multi_classifier_history.history['loss']\n",
    "val_loss_function = multi_classifier_history.history['val_loss']\n",
    "epochs = range(1,len(loss_function)+1)\n",
    "\n",
    "plt.title('Loss function (Train & Val Sets)')\n",
    "plt.plot(epochs,loss_function,label='Train Loss')\n",
    "plt.plot(epochs,val_loss_function,color='orange',label='Val Loss')\n",
    "plt.xlabel('Epochs')\n",
    "plt.ylabel('Loss function')\n",
    "plt.legend()\n",
    "plt.show()"
   ]
  },
  {
   "cell_type": "markdown",
   "id": "98ad62bc",
   "metadata": {},
   "source": [
    "#### Построение графика точности"
   ]
  },
  {
   "cell_type": "code",
   "execution_count": 39,
   "id": "0090564e",
   "metadata": {},
   "outputs": [
    {
     "data": {
      "image/png": "[encoded data removed]",
      "text/plain": [
       "<Figure size 640x480 with 1 Axes>"
      ]
     },
     "metadata": {},
     "output_type": "display_data"
    }
   ],
   "source": [
    "acc = multi_classifier_history.history['accuracy']\n",
    "val_acc = multi_classifier_history.history['val_accuracy']\n",
    "epochs = range(1,len(acc)+1)\n",
    "\n",
    "plt.title('Accuracy (Train & Val Sets)')\n",
    "plt.plot(epochs,acc,label='Accuracy (Train)')\n",
    "plt.plot(epochs,val_acc,color='orange',label='Accuracy (Validation)')\n",
    "plt.xlabel('Epochs')\n",
    "plt.ylabel('Accuracy')\n",
    "plt.legend()\n",
    "plt.show()"
   ]
  },
  {
   "cell_type": "code",
   "execution_count": 40,
   "id": "bcf8966a",
   "metadata": {},
   "outputs": [
    {
     "name": "stdout",
     "output_type": "stream",
     "text": [
      "[0. 1. 0. 0.]\n"
     ]
    }
   ],
   "source": [
    "print(y_test[4])"
   ]
  },
  {
   "cell_type": "code",
   "execution_count": 50,
   "id": "85fe60f5",
   "metadata": {},
   "outputs": [
    {
     "name": "stdout",
     "output_type": "stream",
     "text": [
      "[[1.52e+02 0.00e+00 0.00e+00 5.00e-03 0.00e+00 0.00e+00 0.00e+00 6.20e+01\n",
      "  4.00e-01 5.90e+01 5.60e+00 2.50e+01 1.36e+02 1.61e+02 0.00e+00 0.00e+00\n",
      "  1.59e+02 1.56e+02 1.58e+02 1.00e+00 1.00e+00]]\n",
      "1/1 [==============================] - 0s 58ms/step\n"
     ]
    }
   ],
   "source": [
    "x_test_pattern = X_test[4,:]\n",
    "original_features= min_max_scaler.inverse_transform(x_test_pattern.reshape(1,-1))\n",
    "print(original_features)\n",
    "\n",
    "y_pred = multi_classifier.predict(x_test_pattern.reshape(1,-1))\n"
   ]
  },
  {
   "cell_type": "code",
   "execution_count": 51,
   "id": "1837b3ce",
   "metadata": {},
   "outputs": [],
   "source": [
    "from sklearn.preprocessing import label_binarize\n",
    "import numpy as np\n",
    "\n",
    "y_bin = label_binarize(y, classes=np.unique(y))\n",
    "n_classes = y_bin.shape[1]"
   ]
  },
  {
   "cell_type": "code",
   "execution_count": 52,
   "id": "f5cfd6c6",
   "metadata": {},
   "outputs": [
    {
     "name": "stdout",
     "output_type": "stream",
     "text": [
      "Shape of X: (2126, 21)\n",
      "Shape of y_bin: (2126, 3)\n"
     ]
    }
   ],
   "source": [
    "X = Xmc\n",
    "X_train, X_test, y_train, y_test = train_test_split(X, y_bin, test_size=.2, random_state=0)\n",
    "print('Shape of X:', X.shape)\n",
    "print('Shape of y_bin:', y_bin.shape)"
   ]
  },
  {
   "cell_type": "markdown",
   "id": "01513ca0",
   "metadata": {},
   "source": [
    "### Построение ROC-кривой"
   ]
  },
  {
   "cell_type": "code",
   "execution_count": 53,
   "id": "31199457",
   "metadata": {},
   "outputs": [],
   "source": [
    "from sklearn.multiclass import OneVsRestClassifier\n",
    "from sklearn.ensemble import RandomForestClassifier\n",
    "\n",
    "classifier = OneVsRestClassifier(RandomForestClassifier())\n",
    "y_score = classifier.fit(X_train, y_train).predict_proba(X_test)\n"
   ]
  },
  {
   "cell_type": "code",
   "execution_count": 54,
   "id": "8840d9d7",
   "metadata": {},
   "outputs": [
    {
     "data": {
      "image/png": "[encoded data removed]",
      "text/plain": [
       "<Figure size 640x480 with 1 Axes>"
      ]
     },
     "metadata": {},
     "output_type": "display_data"
    }
   ],
   "source": [
    "from sklearn.metrics import roc_curve, auc\n",
    "\n",
    "fpr = dict()\n",
    "tpr = dict()\n",
    "roc_auc = dict()\n",
    "\n",
    "for i in range(n_classes):\n",
    "    fpr[i], tpr[i], _ = roc_curve(y_test[:, i], y_score[:, i])\n",
    "    roc_auc[i] = auc(fpr[i], tpr[i]) \n",
    "\n",
    "\n",
    "# Plot ROC кривые\n",
    "plt.figure()\n",
    "for i in range(n_classes):\n",
    "    plt.plot(fpr[i], tpr[i], label='ROC curve of class {0} (area = {1:0.2f})'.format(i, roc_auc[i]))\n",
    "\n",
    "# Добавление случайной диагонали\n",
    "plt.plot([0, 1], [0, 1], 'k--')\n",
    "\n",
    "plt.xlim([0.0, 1.0])\n",
    "plt.ylim([0.0, 1.05])\n",
    "plt.xlabel('False Positive Rate')\n",
    "plt.ylabel('True Positive Rate')\n",
    "plt.title('Receiver operating characteristic example')\n",
    "plt.legend(loc=\"lower right\")\n",
    "plt.show()"
   ]
  },
  {
   "cell_type": "markdown",
   "id": "a70f5a37",
   "metadata": {},
   "source": [
    "### Метрики работы Recall, Precision, Weighted Accuracy, AUC"
   ]
  },
  {
   "cell_type": "code",
   "execution_count": 56,
   "id": "0656734b",
   "metadata": {},
   "outputs": [
    {
     "name": "stdout",
     "output_type": "stream",
     "text": [
      "Precision:  0.9424434917086499\n",
      "Recall:  0.9436619718309859\n",
      "AUC:  0.9793782735877897\n",
      "Weighted Accuracy:  0.9436619718309859\n"
     ]
    }
   ],
   "source": [
    "from sklearn.metrics import precision_recall_fscore_support\n",
    "\n",
    "classifier = OneVsRestClassifier(RandomForestClassifier())\n",
    "y_score = classifier.fit(X_train, y_train).predict_proba(X_test)\n",
    "\n",
    "y_pred = (y_score == y_score.max(axis=1)[:,None]).astype(int)\n",
    "\n",
    "precision, recall, _, _ = precision_recall_fscore_support(y_test, y_pred, average='weighted')\n",
    "\n",
    "auc = roc_auc_score(y_test, y_score, multi_class='ovr')\n",
    "\n",
    "print(\"Precision: \", precision)\n",
    "print(\"Recall: \", recall)\n",
    "print(\"AUC: \", auc)\n",
    "\n",
    "accuracy = accuracy_score(y_test, y_pred)\n",
    "print(\"Weighted Accuracy: \", accuracy)\n"
   ]
  },
  {
   "cell_type": "code",
   "execution_count": null,
   "id": "69e6986c",
   "metadata": {},
   "outputs": [],
   "source": []
  }
 ],
 "metadata": {
  "kernelspec": {
   "display_name": "Python 3 (ipykernel)",
   "language": "python",
   "name": "python3"
  },
  "language_info": {
   "codemirror_mode": {
    "name": "ipython",
    "version": 3
   },
   "file_extension": ".py",
   "mimetype": "text/x-python",
   "name": "python",
   "nbconvert_exporter": "python",
   "pygments_lexer": "ipython3",
   "version": "3.10.9"
  }
 },
 "nbformat": 4,
 "nbformat_minor": 5
}
