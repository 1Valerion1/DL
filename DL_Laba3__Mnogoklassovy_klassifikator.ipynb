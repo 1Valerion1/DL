{
 "cells": [
  {
   "cell_type": "markdown",
   "id": "fecc3e89",
   "metadata": {},
   "source": [
    "# Лабораторная работа № 3\n",
    "## Обучение нейросетевых моделей классификации изображений\n",
    "### Боровских Вадим, 932003\n",
    "####  Построить нейросетевые модели – многоклассовый классификатор\n",
    "\n"
   ]
  },
  {
   "cell_type": "code",
   "execution_count": 35,
   "id": "db989730",
   "metadata": {},
   "outputs": [
    {
     "data": {
      "application/javascript": [
       "IPython.notebook.set_autosave_interval(1200000)"
      ]
     },
     "metadata": {},
     "output_type": "display_data"
    },
    {
     "name": "stdout",
     "output_type": "stream",
     "text": [
      "Autosaving every 1200 seconds\n"
     ]
    }
   ],
   "source": [
    "%autosave 1200"
   ]
  },
  {
   "cell_type": "code",
   "execution_count": 73,
   "id": "3b21d9e2",
   "metadata": {},
   "outputs": [],
   "source": [
    "import os\n",
    "import numpy as np\n",
    "import matplotlib.pyplot as plt\n",
    "import tensorflow as tf\n",
    "from tensorflow.python.keras.layers import Conv2D, MaxPooling2D\n",
    "from tensorflow.keras.preprocessing.image import ImageDataGenerator\n",
    "from tensorflow.keras.optimizers import RMSprop"
   ]
  },
  {
   "cell_type": "code",
   "execution_count": 74,
   "id": "f9e8b9dc",
   "metadata": {},
   "outputs": [],
   "source": [
    "# Гиперпараметры \n",
    "IMG_HEIGHT = IMG_WIDTH = 150\n",
    "IMG_CHANNEL = 3\n",
    "EPOCHS = 5 \n",
    "BATCH_SIZE = 32\n",
    "TRAIN_SAMPLES = 2627 \n",
    "VAL_SAMPLES = 2267\n",
    "TEST_SAMPLES = 2267"
   ]
  },
  {
   "cell_type": "code",
   "execution_count": 75,
   "id": "a49c892e",
   "metadata": {},
   "outputs": [],
   "source": [
    "# Каталоги с данными\n",
    "train_dir = 'train'\n",
    "validation_dir = 'val'\n",
    "test_dir = 'test'"
   ]
  },
  {
   "cell_type": "code",
   "execution_count": 76,
   "id": "80c9d2b8",
   "metadata": {},
   "outputs": [],
   "source": [
    "# Генераторы изображений\n",
    "train_datagen = ImageDataGenerator(\n",
    "    rescale=1./255,\n",
    "    rotation_range=10,\n",
    "    width_shift_range=0.1,\n",
    "    height_shift_range=0.1,\n",
    "    shear_range=0.1,\n",
    "    zoom_range=0.1,\n",
    "    horizontal_flip=True,\n",
    "    fill_mode='nearest')"
   ]
  },
  {
   "cell_type": "code",
   "execution_count": 77,
   "id": "98bf12ce",
   "metadata": {},
   "outputs": [],
   "source": [
    "test_and_val_datagen = ImageDataGenerator(rescale=1./255)"
   ]
  },
  {
   "cell_type": "code",
   "execution_count": 78,
   "id": "9504134c",
   "metadata": {},
   "outputs": [
    {
     "name": "stdout",
     "output_type": "stream",
     "text": [
      "Found 2627 images belonging to 3 classes.\n",
      "Found 2267 images belonging to 3 classes.\n",
      "Found 2267 images belonging to 3 classes.\n"
     ]
    }
   ],
   "source": [
    "# Обучающая, тестовая и валидационная выборки\n",
    "train_generator = train_datagen.flow_from_directory(\n",
    "    train_dir,\n",
    "    target_size=(IMG_HEIGHT, IMG_WIDTH),\n",
    "    batch_size=BATCH_SIZE,\n",
    "    class_mode='categorical')  \n",
    "\n",
    "validation_generator = test_and_val_datagen.flow_from_directory(\n",
    "    validation_dir,\n",
    "    target_size=(IMG_HEIGHT, IMG_WIDTH),\n",
    "    batch_size=BATCH_SIZE,\n",
    "    class_mode='categorical')  \n",
    "\n",
    "test_generator = test_and_val_datagen.flow_from_directory(\n",
    "    test_dir,\n",
    "    target_size=(IMG_HEIGHT, IMG_WIDTH),\n",
    "    batch_size=BATCH_SIZE,\n",
    "    class_mode='categorical')"
   ]
  },
  {
   "cell_type": "code",
   "execution_count": null,
   "id": "ba88ece3",
   "metadata": {},
   "outputs": [],
   "source": [
    "sample_training_images, _ = next(train_generator)\n",
    "\n",
    "def plotImages(images_arr):\n",
    "    fig, axes = plt.subplots(1, 5, figsize=(20, 20))\n",
    "    axes = axes.flatten()\n",
    "    for img, ax in zip(images_arr, axes):\n",
    "        ax.imshow(img)\n",
    "        ax.axis('off')\n",
    "    plt.tight_layout()\n",
    "    plt.show()\n",
    "\n",
    "plotImages(sample_training_images[:5])\n"
   ]
  },
  {
   "cell_type": "code",
   "execution_count": 79,
   "id": "5e9f0481",
   "metadata": {},
   "outputs": [],
   "source": [
    "# Используем VGG16\n",
    "from tensorflow.keras.applications import VGG16\n",
    "\n",
    "conv_base = VGG16(weights='imagenet',\n",
    "                  include_top=False,\n",
    "                  input_shape=(IMG_HEIGHT, IMG_WIDTH, IMG_CHANNEL))"
   ]
  },
  {
   "cell_type": "code",
   "execution_count": 80,
   "id": "68abbab4",
   "metadata": {},
   "outputs": [],
   "source": [
    "from tensorflow.keras.layers import Dropout\n",
    "# Модель обрабатывает входные данные от первого слоя к последнему\n",
    "model = tf.keras.models.Sequential()\n",
    "model.add(conv_base)\n",
    "model.add(tf.keras.layers.Flatten())\n",
    "model.add(tf.keras.layers.Dense(256, activation='relu'))\n",
    "model.add(Dropout(0.5))  # Добавляем слой Dropout после первого полносвязного слоя\n",
    "model.add(tf.keras.layers.Dense(3, activation='softmax'))  # Три класса\n",
    "model.add(Dropout(0.2))  # Добавляем слой Dropout перед выходным слоем softmax"
   ]
  },
  {
   "cell_type": "code",
   "execution_count": 81,
   "id": "68c35654",
   "metadata": {},
   "outputs": [],
   "source": [
    "conv_base.trainable = False"
   ]
  },
  {
   "cell_type": "code",
   "execution_count": 82,
   "id": "03ada264",
   "metadata": {},
   "outputs": [],
   "source": [
    "# Разморозка всех слоев сверточной базы\n",
    "conv_base.trainable = True\n",
    "\n",
    "# Заморозка слоев до определенного слоя по имени\n",
    "layers_to_freeze_until = 'block5_conv1'\n",
    "for layer in conv_base.layers:\n",
    "    if layer.name == layers_to_freeze_until:\n",
    "        break\n",
    "    layer.trainable = False"
   ]
  },
  {
   "cell_type": "code",
   "execution_count": 83,
   "id": "44af24b2",
   "metadata": {},
   "outputs": [],
   "source": [
    "# Импорт оптимизатора Adam\n",
    "from tensorflow.keras.optimizers import Adam\n",
    "\n",
    "# Настройка оптимизатора с динамическим learning rate\n",
    "opt = Adam(learning_rate=0.0001)\n",
    "\n",
    "#Компилируем модель после любых изменений в trainable\n",
    "# Компиляция модели с новым оптимизатором\n",
    "model.compile(loss='categorical_crossentropy',\n",
    "              optimizer=opt,\n",
    "              metrics=['acc'])"
   ]
  },
  {
   "cell_type": "code",
   "execution_count": 84,
   "id": "abf9975a",
   "metadata": {},
   "outputs": [],
   "source": [
    "# Использование ранней остановки\n",
    "from tensorflow.keras.callbacks import EarlyStopping\n",
    "\n",
    "early_stopping_cb = EarlyStopping(monitor='val_loss', patience=5, restore_best_weights=True)"
   ]
  },
  {
   "cell_type": "code",
   "execution_count": 85,
   "id": "009aaaf1",
   "metadata": {},
   "outputs": [],
   "source": [
    "from tensorflow.keras.callbacks import ModelCheckpoint\n",
    "checkpoint_cb = ModelCheckpoint(\"top_model.h5\", save_best_only=True)\n"
   ]
  },
  {
   "cell_type": "code",
   "execution_count": 86,
   "id": "92274e77",
   "metadata": {
    "scrolled": true
   },
   "outputs": [
    {
     "name": "stdout",
     "output_type": "stream",
     "text": [
      "Epoch 1/5\n",
      "82/82 [==============================] - 1253s 15s/step - loss: nan - acc: 0.6605 - val_loss: 0.2691 - val_acc: 0.9156\n",
      "Epoch 2/5\n",
      "82/82 [==============================] - 1039s 13s/step - loss: nan - acc: 0.7557 - val_loss: 0.1017 - val_acc: 0.9621\n",
      "Epoch 3/5\n",
      "82/82 [==============================] - 1086s 13s/step - loss: nan - acc: 0.7842 - val_loss: 0.0656 - val_acc: 0.9763\n",
      "Epoch 4/5\n",
      "82/82 [==============================] - 1193s 15s/step - loss: nan - acc: 0.7653 - val_loss: 0.0447 - val_acc: 0.9830\n",
      "Epoch 5/5\n",
      "82/82 [==============================] - 1189s 15s/step - loss: nan - acc: 0.7834 - val_loss: 0.0430 - val_acc: 0.9844\n"
     ]
    }
   ],
   "source": [
    "# Обучение\n",
    "history = model.fit(\n",
    "    train_generator,\n",
    "    steps_per_epoch=TRAIN_SAMPLES // BATCH_SIZE,\n",
    "    epochs=EPOCHS,\n",
    "    validation_data=validation_generator,\n",
    "    validation_steps=VAL_SAMPLES // BATCH_SIZE,\n",
    "    callbacks=[checkpoint_cb, early_stopping_cb])"
   ]
  },
  {
   "cell_type": "code",
   "execution_count": 87,
   "id": "70802cf0",
   "metadata": {},
   "outputs": [
    {
     "name": "stdout",
     "output_type": "stream",
     "text": [
      "70/70 [==============================] - 493s 7s/step - loss: 0.0423 - acc: 0.9853\n",
      "Test loss: 0.04229484125971794\n",
      "Test accuracy: 0.9852678775787354\n"
     ]
    }
   ],
   "source": [
    "# Оценка модели на тестировании\n",
    "score = model.evaluate(test_generator, steps=TEST_SAMPLES // BATCH_SIZE)\n",
    "print('Test loss:', score[0])\n",
    "print('Test accuracy:', score[1])"
   ]
  },
  {
   "cell_type": "markdown",
   "id": "abbf3c99",
   "metadata": {},
   "source": [
    "Вывод: В целом, хотя начальная проблема с возникновением NaN в функции потерь может быть знаком неправильной конфигурации или настройки модели, результаты испытаний и валидации указывают на то, что модель демонстрирует высокую точность и хорошую близость к реальным данным. \n",
    "\n",
    "* Test loss - это показатель ошибки на тестовом наборе данных. Маленький показатель loss говорит о том, что модель почти не совершает ошибок при прогнозировании. \n",
    "* Test accuracy - это показатель точности тестирования.Несмотря на проблему с loss в начале, общая точность модели на валидационном наборе и тестовом наборе данных достигла высоких значений близких к 98.5%. Это говорит о том, что модель впоследствии смогла точно предсказывать классы или метки для данных. Это позволяет сделать вывод о том, что модель хорошо обучена и способна предсказывать результаты тестирования с высокой точностью."
   ]
  },
  {
   "cell_type": "code",
   "execution_count": 88,
   "id": "70b58dce",
   "metadata": {},
   "outputs": [],
   "source": [
    "# Получение данных истории обучения\n",
    "acc = history.history['acc']\n",
    "val_acc = history.history['val_acc']\n",
    "loss = history.history['loss']\n",
    "val_loss = history.history['val_loss']\n",
    "\n",
    "epochs = range(1, len(acc) + 1)"
   ]
  },
  {
   "cell_type": "code",
   "execution_count": 90,
   "id": "8c3004e0",
   "metadata": {},
   "outputs": [
    {
     "data": {
      "text/plain": [
       "<matplotlib.legend.Legend at 0x1ba35f89a50>"
      ]
     },
     "execution_count": 90,
     "metadata": {},
     "output_type": "execute_result"
    },
    {
     "data": {
      "image/png": "[encoded data removed]",
      "text/plain": [
       "<Figure size 1200x400 with 1 Axes>"
      ]
     },
     "metadata": {},
     "output_type": "display_data"
    }
   ],
   "source": [
    "# Создаем график точности\n",
    "plt.figure(figsize=(12, 4))\n",
    "plt.subplot(1, 2, 1)\n",
    "plt.plot(epochs, acc, 'bo', label='Training acc')\n",
    "plt.plot(epochs, val_acc, 'b', label='Validation acc')\n",
    "plt.title('Training and Validation Accuracy')\n",
    "plt.xlabel('Epochs')\n",
    "plt.ylabel('Accuracy')\n",
    "plt.legend()"
   ]
  },
  {
   "cell_type": "markdown",
   "id": "a79c2b61",
   "metadata": {},
   "source": [
    "Вывод: Когда кривая \"Training acc\" показывает низкие значения и медленный рост точности (от 0.65 до 0.8), в то время как кривая \"Validation acc\" демонстрирует более высокие значения точности (от 0.9 до 0.96), это может указывать на переобучение модели.\n",
    "\n",
    "Допускается вывод, что модель демонстрирует достаточно хорошую точность на валидационных данных, но имеет проблемы с обобщением при работе с обучающими данными. Одно из возможных объяснений этого расхождения заключается в том, что модель \"запоминает\" обучающие данные, что приводит к высокой точности на них, но не может обобщать свои знания на новые данные, что проявляется в более низкой точности на валидационных данных."
   ]
  },
  {
   "cell_type": "code",
   "execution_count": 92,
   "id": "76306066",
   "metadata": {},
   "outputs": [
    {
     "data": {
      "image/png": "[encoded data removed]",
      "text/plain": [
       "<Figure size 1200x400 with 1 Axes>"
      ]
     },
     "metadata": {},
     "output_type": "display_data"
    }
   ],
   "source": [
    "# Создаем график потерь\n",
    "plt.figure(figsize=(12, 4))\n",
    "plt.subplot(1, 2, 2)\n",
    "plt.plot(epochs, loss, 'bo', label='Training loss')\n",
    "plt.plot(epochs, val_loss, 'b', label='Validation loss')\n",
    "plt.title('Training and Validation Loss')\n",
    "plt.xlabel('Epochs')\n",
    "plt.ylabel('Loss')\n",
    "plt.legend()\n",
    "\n",
    "plt.show()"
   ]
  },
  {
   "cell_type": "markdown",
   "id": "d9f487be",
   "metadata": {},
   "source": [
    "Вывод: График показывает, что Validation loss постепенно убывает, это указывает на то, что модель постепенно улучшает свою способность обобщения на независимых данных. Уменьшение потерь на валидационном наборе данных свидетельствует о том, что модель становится все более точной при предсказании на новых данных.\n",
    "\n",
    "Однако, если график не отображает Training loss, это вызвано ошибкой в коде или данными, которые не были записаны или возвращены правильно в массиве loss. Как это исправить я так и не понял."
   ]
  },
  {
   "cell_type": "code",
   "execution_count": 99,
   "id": "a3125d75",
   "metadata": {},
   "outputs": [],
   "source": [
    "# Используем ResNet\n",
    "from tensorflow.keras.applications import ResNet50\n",
    "conv_base = ResNet50(weights='imagenet',\n",
    "include_top=False,\n",
    "input_shape=(IMG_HEIGHT, IMG_WIDTH, IMG_CHANNEL))\n",
    "\n",
    "\n",
    "from tensorflow.keras.layers import Dropout\n",
    "# Модель обрабатывает входные данные от первого слоя к последнему\n",
    "model = tf.keras.models.Sequential()\n",
    "model.add(conv_base)\n",
    "model.add(tf.keras.layers.Flatten())\n",
    "model.add(tf.keras.layers.Dense(256, activation='relu'))\n",
    "model.add(Dropout(0.6))  # Добавляем слой Dropout после первого полносвязного слоя\n",
    "model.add(tf.keras.layers.Dense(3, activation='softmax'))  # Три класса\n",
    "model.add(Dropout(0.2))  # Добавляем слой Dropout перед выходным слоем softmax"
   ]
  },
  {
   "cell_type": "code",
   "execution_count": 100,
   "id": "7c23d955",
   "metadata": {},
   "outputs": [],
   "source": [
    "conv_base.trainable = False"
   ]
  },
  {
   "cell_type": "code",
   "execution_count": 101,
   "id": "91f75fe4",
   "metadata": {},
   "outputs": [],
   "source": [
    "# Размораживаем несколько верхних слоев\n",
    "conv_base.trainable = True\n",
    "fine_tune_at = 100\n",
    "\n",
    "for layer in conv_base.layers[:fine_tune_at]:\n",
    "    layer.trainable =  False"
   ]
  },
  {
   "cell_type": "code",
   "execution_count": 102,
   "id": "930ebf9a",
   "metadata": {},
   "outputs": [],
   "source": [
    "# Использование ранней остановки\n",
    "from tensorflow.keras.callbacks import EarlyStopping\n",
    "\n",
    "early_stopping_cb = EarlyStopping(monitor='val_loss', patience=5, restore_best_weights=True)"
   ]
  },
  {
   "cell_type": "code",
   "execution_count": 103,
   "id": "501f9488",
   "metadata": {},
   "outputs": [],
   "source": [
    "# Импорт оптимизатора Adam\n",
    "from tensorflow.keras.optimizers import Adam\n",
    "\n",
    "# Настройка оптимизатора с динамическим learning rate\n",
    "opt = Adam(learning_rate=0.0001)\n",
    "\n",
    "#Компилируем модель после любых изменений в trainable\n",
    "# Компиляция модели с новым оптимизатором\n",
    "model.compile(loss='categorical_crossentropy',\n",
    "              optimizer=opt,\n",
    "              metrics=['acc'])"
   ]
  },
  {
   "cell_type": "code",
   "execution_count": 104,
   "id": "2e287e4a",
   "metadata": {},
   "outputs": [
    {
     "name": "stdout",
     "output_type": "stream",
     "text": [
      "Epoch 1/5\n",
      "82/82 [==============================] - 718s 8s/step - loss: nan - acc: 0.5380 - val_loss: 0.8737 - val_acc: 0.5759\n",
      "Epoch 2/5\n",
      "82/82 [==============================] - 704s 9s/step - loss: nan - acc: 0.5896 - val_loss: 0.7552 - val_acc: 0.5772\n",
      "Epoch 3/5\n",
      "82/82 [==============================] - 789s 10s/step - loss: nan - acc: 0.6062 - val_loss: 0.6639 - val_acc: 0.7580\n",
      "Epoch 4/5\n",
      "82/82 [==============================] - 772s 9s/step - loss: nan - acc: 0.6123 - val_loss: 0.5610 - val_acc: 0.7714\n",
      "Epoch 5/5\n",
      "82/82 [==============================] - 794s 10s/step - loss: nan - acc: 0.6015 - val_loss: 0.5688 - val_acc: 0.7134\n"
     ]
    }
   ],
   "source": [
    "# Обучение\n",
    "history = model.fit(\n",
    "    train_generator,\n",
    "    steps_per_epoch=TRAIN_SAMPLES // BATCH_SIZE,\n",
    "    epochs=EPOCHS,\n",
    "    validation_data=validation_generator,\n",
    "    validation_steps=VAL_SAMPLES // BATCH_SIZE,\n",
    "    callbacks=[checkpoint_cb, early_stopping_cb] )"
   ]
  },
  {
   "cell_type": "code",
   "execution_count": 105,
   "id": "0efb30bf",
   "metadata": {},
   "outputs": [
    {
     "name": "stdout",
     "output_type": "stream",
     "text": [
      "70/70 [==============================] - 203s 3s/step - loss: 0.5686 - acc: 0.7147\n",
      "Test loss: 0.5686019062995911\n",
      "Test accuracy: 0.7147321701049805\n"
     ]
    }
   ],
   "source": [
    "# Оценка модели на тестировании\n",
    "score = model.evaluate(test_generator, steps=TEST_SAMPLES // BATCH_SIZE)\n",
    "print('Test loss:', score[0])\n",
    "print('Test accuracy:', score[1])"
   ]
  },
  {
   "cell_type": "markdown",
   "id": "4536f85f",
   "metadata": {},
   "source": [
    "Вывод: Test loss - это показатель ошибки на тестовом наборе данных. Большой показатель loss говорит о том, что модель делает большие ошибки при прогнозировании. Test accuracy - это показатель точности тестирования. В данном случае точность равна примерно 38.20%, что говорит о том, что модель правильно классифицировала только около 56.86% тестовых примеров."
   ]
  },
  {
   "cell_type": "code",
   "execution_count": 107,
   "id": "cefff820",
   "metadata": {},
   "outputs": [
    {
     "data": {
      "text/plain": [
       "<matplotlib.legend.Legend at 0x1ba2b38d540>"
      ]
     },
     "execution_count": 107,
     "metadata": {},
     "output_type": "execute_result"
    },
    {
     "data": {
      "image/png": "[encoded data removed]",
      "text/plain": [
       "<Figure size 1000x500 with 1 Axes>"
      ]
     },
     "metadata": {},
     "output_type": "display_data"
    }
   ],
   "source": [
    "# Создаем график потерь\n",
    "plt.figure(figsize=(10,5))\n",
    "plt.subplot(1, 2, 1)\n",
    "plt.plot(history.history['loss'])\n",
    "plt.plot(history.history['val_loss'])\n",
    "plt.title('Model loss')\n",
    "plt.ylabel('Loss')\n",
    "plt.xlabel('Epoch')\n",
    "plt.legend(['Train', 'Validation'], loc='upper left')\n"
   ]
  },
  {
   "cell_type": "markdown",
   "id": "4f8b2c3e",
   "metadata": {},
   "source": [
    "Вывод: Validation постепенно идет вниз, что говорит от том, что модель становится все более точной в прогнозировании на независимых данных. Но так как опять не получилось вывести train, сложно сделать какие-либо выводы."
   ]
  },
  {
   "cell_type": "code",
   "execution_count": 108,
   "id": "3cb14b8c",
   "metadata": {},
   "outputs": [
    {
     "data": {
      "image/png": "[encoded data removed]",
      "text/plain": [
       "<Figure size 800x800 with 1 Axes>"
      ]
     },
     "metadata": {},
     "output_type": "display_data"
    }
   ],
   "source": [
    "# Создаем график точности\n",
    "plt.figure(figsize=(8, 8))\n",
    "plt.subplot(2, 1, 1)\n",
    "plt.plot(history.history['acc'], label='Training Accuracy')\n",
    "plt.plot(history.history['val_acc'], label='Validation Accuracy')\n",
    "plt.title('Training and Validation Accuracy')\n",
    "plt.legend(loc='lower right')\n",
    "plt.show()"
   ]
  },
  {
   "cell_type": "markdown",
   "id": "581260ca",
   "metadata": {},
   "source": [
    "Вывод: Даный график означате, что модель становится все лучше и лучше в предсказании на обучающих данных, но начинает \"запоминать\" их слишком хорошо и не может обобщать свои знания на независимые данные, что приводит к снижению производительности на валидационных данных. Так как кривая \"Training Accuracy\" постепенно возрастает, но остается ниже кривой \"Validation Accuracy\", это может указывать на переобучение модели."
   ]
  },
  {
   "cell_type": "code",
   "execution_count": 109,
   "id": "018721ef",
   "metadata": {},
   "outputs": [],
   "source": [
    "# Сохранение модели\n",
    "model.save('model.h5')"
   ]
  },
  {
   "cell_type": "markdown",
   "id": "71bd5aaf",
   "metadata": {},
   "source": [
    "### Вывод\n",
    "В данной работе была построена модель многоклассового классификаторас использованием сверточной основы VGG и ResNet. Результаты обучения переобучение и не понятно, как исправить nan в loss, вторая  модель вышла лучше, так как первая страдает от перобучения. Возможные варианты решение, это увелечение количества эпох, но так как 5 эпох занимает > 2 часов, я решил остановится на 5. Можно сделать выводы, что многоклассывй сложнее сделать, чем бинарный, так как бинарный, дает нам почти 100 результат, в то время как многоклассовый, надо тщательно настраивать и ожидать долгое обучение модели."
   ]
  },
  {
   "cell_type": "code",
   "execution_count": null,
   "id": "eecce6e7",
   "metadata": {},
   "outputs": [],
   "source": []
  }
 ],
 "metadata": {
  "kernelspec": {
   "display_name": "Python 3 (ipykernel)",
   "language": "python",
   "name": "python3"
  },
  "language_info": {
   "codemirror_mode": {
    "name": "ipython",
    "version": 3
   },
   "file_extension": ".py",
   "mimetype": "text/x-python",
   "name": "python",
   "nbconvert_exporter": "python",
   "pygments_lexer": "ipython3",
   "version": "3.10.9"
  }
 },
 "nbformat": 4,
 "nbformat_minor": 5
}
