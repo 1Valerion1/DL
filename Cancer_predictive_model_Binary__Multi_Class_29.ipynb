{
 "cells": [
  {
   "cell_type": "code",
   "execution_count": 1,
   "metadata": {
    "id": "ihc2awUHZidF"
   },
   "outputs": [],
   "source": [
    "import matplotlib.pyplot as plt\n",
    "import seaborn as sns\n",
    "import pandas as pd\n",
    "import numpy as np"
   ]
  },
  {
   "cell_type": "code",
   "execution_count": 2,
   "metadata": {
    "colab": {
     "base_uri": "https://localhost:8080/"
    },
    "id": "qUekCM8Laut7",
    "outputId": "c1c91bc5-90cc-4e18-bc1e-1bcb975fb1e3"
   },
   "outputs": [
    {
     "ename": "ModuleNotFoundError",
     "evalue": "No module named 'google.colab'",
     "output_type": "error",
     "traceback": [
      "\u001b[1;31m---------------------------------------------------------------------------\u001b[0m",
      "\u001b[1;31mModuleNotFoundError\u001b[0m                       Traceback (most recent call last)",
      "Cell \u001b[1;32mIn[2], line 1\u001b[0m\n\u001b[1;32m----> 1\u001b[0m \u001b[38;5;28;01mfrom\u001b[39;00m \u001b[38;5;21;01mgoogle\u001b[39;00m\u001b[38;5;21;01m.\u001b[39;00m\u001b[38;5;21;01mcolab\u001b[39;00m \u001b[38;5;28;01mimport\u001b[39;00m drive\n\u001b[0;32m      2\u001b[0m drive\u001b[38;5;241m.\u001b[39mmount(\u001b[38;5;124m'\u001b[39m\u001b[38;5;124m/content/gdrive\u001b[39m\u001b[38;5;124m'\u001b[39m)\n",
      "\u001b[1;31mModuleNotFoundError\u001b[0m: No module named 'google.colab'"
     ]
    }
   ],
   "source": [
    "from google.colab import drive\n",
    "drive.mount('/content/gdrive')"
   ]
  },
  {
   "cell_type": "code",
   "execution_count": null,
   "metadata": {
    "colab": {
     "base_uri": "https://localhost:8080/",
     "height": 351
    },
    "id": "GLMNoL6jau0T",
    "outputId": "327862eb-ff5c-4478-b89e-9f366a44d6a9"
   },
   "outputs": [],
   "source": [
    "df = pd.read_excel('/content/gdrive/My Drive/StudyData/cancer_patient_dataset.xlsx')\n",
    "df.head()"
   ]
  },
  {
   "cell_type": "code",
   "execution_count": null,
   "metadata": {
    "colab": {
     "base_uri": "https://localhost:8080/",
     "height": 428
    },
    "id": "3QLS2oJPEccl",
    "outputId": "4f0eaaa0-c6a7-4ba5-c397-5cb7a6cf8225"
   },
   "outputs": [
    {
     "data": {
      "text/html": [
       "\n",
       "  <div id=\"df-a80d4488-3750-4bf9-b9e3-eee23853f32e\">\n",
       "    <div class=\"colab-df-container\">\n",
       "      <div>\n",
       "<style scoped>\n",
       "    .dataframe tbody tr th:only-of-type {\n",
       "        vertical-align: middle;\n",
       "    }\n",
       "\n",
       "    .dataframe tbody tr th {\n",
       "        vertical-align: top;\n",
       "    }\n",
       "\n",
       "    .dataframe thead th {\n",
       "        text-align: right;\n",
       "    }\n",
       "</style>\n",
       "<table border=\"1\" class=\"dataframe\">\n",
       "  <thead>\n",
       "    <tr style=\"text-align: right;\">\n",
       "      <th></th>\n",
       "      <th>Age</th>\n",
       "      <th>Gender</th>\n",
       "      <th>Air Pollution</th>\n",
       "      <th>Alcohol use</th>\n",
       "      <th>Dust Allergy</th>\n",
       "      <th>OccuPational Hazards</th>\n",
       "      <th>Genetic Risk</th>\n",
       "      <th>chronic Lung Disease</th>\n",
       "      <th>Balanced Diet</th>\n",
       "      <th>Obesity</th>\n",
       "      <th>...</th>\n",
       "      <th>Fatigue</th>\n",
       "      <th>Weight Loss</th>\n",
       "      <th>Shortness of Breath</th>\n",
       "      <th>Wheezing</th>\n",
       "      <th>Swallowing Difficulty</th>\n",
       "      <th>Clubbing of Finger Nails</th>\n",
       "      <th>Frequent Cold</th>\n",
       "      <th>Dry Cough</th>\n",
       "      <th>Snoring</th>\n",
       "      <th>Target Binary</th>\n",
       "    </tr>\n",
       "  </thead>\n",
       "  <tbody>\n",
       "    <tr>\n",
       "      <th>count</th>\n",
       "      <td>1000.000000</td>\n",
       "      <td>1000.000000</td>\n",
       "      <td>1000.0000</td>\n",
       "      <td>1000.000000</td>\n",
       "      <td>1000.000000</td>\n",
       "      <td>1000.000000</td>\n",
       "      <td>1000.000000</td>\n",
       "      <td>1000.000000</td>\n",
       "      <td>1000.000000</td>\n",
       "      <td>1000.000000</td>\n",
       "      <td>...</td>\n",
       "      <td>1000.000000</td>\n",
       "      <td>1000.000000</td>\n",
       "      <td>1000.000000</td>\n",
       "      <td>1000.000000</td>\n",
       "      <td>1000.000000</td>\n",
       "      <td>1000.000000</td>\n",
       "      <td>1000.000000</td>\n",
       "      <td>1000.000000</td>\n",
       "      <td>1000.000000</td>\n",
       "      <td>1000.000000</td>\n",
       "    </tr>\n",
       "    <tr>\n",
       "      <th>mean</th>\n",
       "      <td>37.174000</td>\n",
       "      <td>1.402000</td>\n",
       "      <td>3.8400</td>\n",
       "      <td>4.563000</td>\n",
       "      <td>5.165000</td>\n",
       "      <td>4.840000</td>\n",
       "      <td>4.580000</td>\n",
       "      <td>4.380000</td>\n",
       "      <td>4.491000</td>\n",
       "      <td>4.465000</td>\n",
       "      <td>...</td>\n",
       "      <td>3.856000</td>\n",
       "      <td>3.855000</td>\n",
       "      <td>4.240000</td>\n",
       "      <td>3.777000</td>\n",
       "      <td>3.746000</td>\n",
       "      <td>3.923000</td>\n",
       "      <td>3.536000</td>\n",
       "      <td>3.853000</td>\n",
       "      <td>2.926000</td>\n",
       "      <td>0.365000</td>\n",
       "    </tr>\n",
       "    <tr>\n",
       "      <th>std</th>\n",
       "      <td>12.005493</td>\n",
       "      <td>0.490547</td>\n",
       "      <td>2.0304</td>\n",
       "      <td>2.620477</td>\n",
       "      <td>1.980833</td>\n",
       "      <td>2.107805</td>\n",
       "      <td>2.126999</td>\n",
       "      <td>1.848518</td>\n",
       "      <td>2.135528</td>\n",
       "      <td>2.124921</td>\n",
       "      <td>...</td>\n",
       "      <td>2.244616</td>\n",
       "      <td>2.206546</td>\n",
       "      <td>2.285087</td>\n",
       "      <td>2.041921</td>\n",
       "      <td>2.270383</td>\n",
       "      <td>2.388048</td>\n",
       "      <td>1.832502</td>\n",
       "      <td>2.039007</td>\n",
       "      <td>1.474686</td>\n",
       "      <td>0.481671</td>\n",
       "    </tr>\n",
       "    <tr>\n",
       "      <th>min</th>\n",
       "      <td>14.000000</td>\n",
       "      <td>1.000000</td>\n",
       "      <td>1.0000</td>\n",
       "      <td>1.000000</td>\n",
       "      <td>1.000000</td>\n",
       "      <td>1.000000</td>\n",
       "      <td>1.000000</td>\n",
       "      <td>1.000000</td>\n",
       "      <td>1.000000</td>\n",
       "      <td>1.000000</td>\n",
       "      <td>...</td>\n",
       "      <td>1.000000</td>\n",
       "      <td>1.000000</td>\n",
       "      <td>1.000000</td>\n",
       "      <td>1.000000</td>\n",
       "      <td>1.000000</td>\n",
       "      <td>1.000000</td>\n",
       "      <td>1.000000</td>\n",
       "      <td>1.000000</td>\n",
       "      <td>1.000000</td>\n",
       "      <td>0.000000</td>\n",
       "    </tr>\n",
       "    <tr>\n",
       "      <th>25%</th>\n",
       "      <td>27.750000</td>\n",
       "      <td>1.000000</td>\n",
       "      <td>2.0000</td>\n",
       "      <td>2.000000</td>\n",
       "      <td>4.000000</td>\n",
       "      <td>3.000000</td>\n",
       "      <td>2.000000</td>\n",
       "      <td>3.000000</td>\n",
       "      <td>2.000000</td>\n",
       "      <td>3.000000</td>\n",
       "      <td>...</td>\n",
       "      <td>2.000000</td>\n",
       "      <td>2.000000</td>\n",
       "      <td>2.000000</td>\n",
       "      <td>2.000000</td>\n",
       "      <td>2.000000</td>\n",
       "      <td>2.000000</td>\n",
       "      <td>2.000000</td>\n",
       "      <td>2.000000</td>\n",
       "      <td>2.000000</td>\n",
       "      <td>0.000000</td>\n",
       "    </tr>\n",
       "    <tr>\n",
       "      <th>50%</th>\n",
       "      <td>36.000000</td>\n",
       "      <td>1.000000</td>\n",
       "      <td>3.0000</td>\n",
       "      <td>5.000000</td>\n",
       "      <td>6.000000</td>\n",
       "      <td>5.000000</td>\n",
       "      <td>5.000000</td>\n",
       "      <td>4.000000</td>\n",
       "      <td>4.000000</td>\n",
       "      <td>4.000000</td>\n",
       "      <td>...</td>\n",
       "      <td>3.000000</td>\n",
       "      <td>3.000000</td>\n",
       "      <td>4.000000</td>\n",
       "      <td>4.000000</td>\n",
       "      <td>4.000000</td>\n",
       "      <td>4.000000</td>\n",
       "      <td>3.000000</td>\n",
       "      <td>4.000000</td>\n",
       "      <td>3.000000</td>\n",
       "      <td>0.000000</td>\n",
       "    </tr>\n",
       "    <tr>\n",
       "      <th>75%</th>\n",
       "      <td>45.000000</td>\n",
       "      <td>2.000000</td>\n",
       "      <td>6.0000</td>\n",
       "      <td>7.000000</td>\n",
       "      <td>7.000000</td>\n",
       "      <td>7.000000</td>\n",
       "      <td>7.000000</td>\n",
       "      <td>6.000000</td>\n",
       "      <td>7.000000</td>\n",
       "      <td>7.000000</td>\n",
       "      <td>...</td>\n",
       "      <td>5.000000</td>\n",
       "      <td>6.000000</td>\n",
       "      <td>6.000000</td>\n",
       "      <td>5.000000</td>\n",
       "      <td>5.000000</td>\n",
       "      <td>5.000000</td>\n",
       "      <td>5.000000</td>\n",
       "      <td>6.000000</td>\n",
       "      <td>4.000000</td>\n",
       "      <td>1.000000</td>\n",
       "    </tr>\n",
       "    <tr>\n",
       "      <th>max</th>\n",
       "      <td>73.000000</td>\n",
       "      <td>2.000000</td>\n",
       "      <td>8.0000</td>\n",
       "      <td>8.000000</td>\n",
       "      <td>8.000000</td>\n",
       "      <td>8.000000</td>\n",
       "      <td>7.000000</td>\n",
       "      <td>7.000000</td>\n",
       "      <td>7.000000</td>\n",
       "      <td>7.000000</td>\n",
       "      <td>...</td>\n",
       "      <td>9.000000</td>\n",
       "      <td>8.000000</td>\n",
       "      <td>9.000000</td>\n",
       "      <td>8.000000</td>\n",
       "      <td>8.000000</td>\n",
       "      <td>9.000000</td>\n",
       "      <td>7.000000</td>\n",
       "      <td>7.000000</td>\n",
       "      <td>7.000000</td>\n",
       "      <td>1.000000</td>\n",
       "    </tr>\n",
       "  </tbody>\n",
       "</table>\n",
       "<p>8 rows × 24 columns</p>\n",
       "</div>\n",
       "      <button class=\"colab-df-convert\" onclick=\"convertToInteractive('df-a80d4488-3750-4bf9-b9e3-eee23853f32e')\"\n",
       "              title=\"Convert this dataframe to an interactive table.\"\n",
       "              style=\"display:none;\">\n",
       "        \n",
       "  <svg xmlns=\"http://www.w3.org/2000/svg\" height=\"24px\"viewBox=\"0 0 24 24\"\n",
       "       width=\"24px\">\n",
       "    <path d=\"M0 0h24v24H0V0z\" fill=\"none\"/>\n",
       "    <path d=\"M18.56 5.44l.94 2.06.94-2.06 2.06-.94-2.06-.94-.94-2.06-.94 2.06-2.06.94zm-11 1L8.5 8.5l.94-2.06 2.06-.94-2.06-.94L8.5 2.5l-.94 2.06-2.06.94zm10 10l.94 2.06.94-2.06 2.06-.94-2.06-.94-.94-2.06-.94 2.06-2.06.94z\"/><path d=\"M17.41 7.96l-1.37-1.37c-.4-.4-.92-.59-1.43-.59-.52 0-1.04.2-1.43.59L10.3 9.45l-7.72 7.72c-.78.78-.78 2.05 0 2.83L4 21.41c.39.39.9.59 1.41.59.51 0 1.02-.2 1.41-.59l7.78-7.78 2.81-2.81c.8-.78.8-2.07 0-2.86zM5.41 20L4 18.59l7.72-7.72 1.47 1.35L5.41 20z\"/>\n",
       "  </svg>\n",
       "      </button>\n",
       "      \n",
       "  <style>\n",
       "    .colab-df-container {\n",
       "      display:flex;\n",
       "      flex-wrap:wrap;\n",
       "      gap: 12px;\n",
       "    }\n",
       "\n",
       "    .colab-df-convert {\n",
       "      background-color: #E8F0FE;\n",
       "      border: none;\n",
       "      border-radius: 50%;\n",
       "      cursor: pointer;\n",
       "      display: none;\n",
       "      fill: #1967D2;\n",
       "      height: 32px;\n",
       "      padding: 0 0 0 0;\n",
       "      width: 32px;\n",
       "    }\n",
       "\n",
       "    .colab-df-convert:hover {\n",
       "      background-color: #E2EBFA;\n",
       "      box-shadow: 0px 1px 2px rgba(60, 64, 67, 0.3), 0px 1px 3px 1px rgba(60, 64, 67, 0.15);\n",
       "      fill: #174EA6;\n",
       "    }\n",
       "\n",
       "    [theme=dark] .colab-df-convert {\n",
       "      background-color: #3B4455;\n",
       "      fill: #D2E3FC;\n",
       "    }\n",
       "\n",
       "    [theme=dark] .colab-df-convert:hover {\n",
       "      background-color: #434B5C;\n",
       "      box-shadow: 0px 1px 3px 1px rgba(0, 0, 0, 0.15);\n",
       "      filter: drop-shadow(0px 1px 2px rgba(0, 0, 0, 0.3));\n",
       "      fill: #FFFFFF;\n",
       "    }\n",
       "  </style>\n",
       "\n",
       "      <script>\n",
       "        const buttonEl =\n",
       "          document.querySelector('#df-a80d4488-3750-4bf9-b9e3-eee23853f32e button.colab-df-convert');\n",
       "        buttonEl.style.display =\n",
       "          google.colab.kernel.accessAllowed ? 'block' : 'none';\n",
       "\n",
       "        async function convertToInteractive(key) {\n",
       "          const element = document.querySelector('#df-a80d4488-3750-4bf9-b9e3-eee23853f32e');\n",
       "          const dataTable =\n",
       "            await google.colab.kernel.invokeFunction('convertToInteractive',\n",
       "                                                     [key], {});\n",
       "          if (!dataTable) return;\n",
       "\n",
       "          const docLinkHtml = 'Like what you see? Visit the ' +\n",
       "            '<a target=\"_blank\" href=https://colab.research.google.com/notebooks/data_table.ipynb>data table notebook</a>'\n",
       "            + ' to learn more about interactive tables.';\n",
       "          element.innerHTML = '';\n",
       "          dataTable['output_type'] = 'display_data';\n",
       "          await google.colab.output.renderOutput(dataTable, element);\n",
       "          const docLink = document.createElement('div');\n",
       "          docLink.innerHTML = docLinkHtml;\n",
       "          element.appendChild(docLink);\n",
       "        }\n",
       "      </script>\n",
       "    </div>\n",
       "  </div>\n",
       "  "
      ],
      "text/plain": [
       "               Age       Gender  Air Pollution  Alcohol use  Dust Allergy  \\\n",
       "count  1000.000000  1000.000000      1000.0000  1000.000000   1000.000000   \n",
       "mean     37.174000     1.402000         3.8400     4.563000      5.165000   \n",
       "std      12.005493     0.490547         2.0304     2.620477      1.980833   \n",
       "min      14.000000     1.000000         1.0000     1.000000      1.000000   \n",
       "25%      27.750000     1.000000         2.0000     2.000000      4.000000   \n",
       "50%      36.000000     1.000000         3.0000     5.000000      6.000000   \n",
       "75%      45.000000     2.000000         6.0000     7.000000      7.000000   \n",
       "max      73.000000     2.000000         8.0000     8.000000      8.000000   \n",
       "\n",
       "       OccuPational Hazards  Genetic Risk  chronic Lung Disease  \\\n",
       "count           1000.000000   1000.000000           1000.000000   \n",
       "mean               4.840000      4.580000              4.380000   \n",
       "std                2.107805      2.126999              1.848518   \n",
       "min                1.000000      1.000000              1.000000   \n",
       "25%                3.000000      2.000000              3.000000   \n",
       "50%                5.000000      5.000000              4.000000   \n",
       "75%                7.000000      7.000000              6.000000   \n",
       "max                8.000000      7.000000              7.000000   \n",
       "\n",
       "       Balanced Diet      Obesity  ...      Fatigue  Weight Loss  \\\n",
       "count    1000.000000  1000.000000  ...  1000.000000  1000.000000   \n",
       "mean        4.491000     4.465000  ...     3.856000     3.855000   \n",
       "std         2.135528     2.124921  ...     2.244616     2.206546   \n",
       "min         1.000000     1.000000  ...     1.000000     1.000000   \n",
       "25%         2.000000     3.000000  ...     2.000000     2.000000   \n",
       "50%         4.000000     4.000000  ...     3.000000     3.000000   \n",
       "75%         7.000000     7.000000  ...     5.000000     6.000000   \n",
       "max         7.000000     7.000000  ...     9.000000     8.000000   \n",
       "\n",
       "       Shortness of Breath     Wheezing  Swallowing Difficulty  \\\n",
       "count          1000.000000  1000.000000            1000.000000   \n",
       "mean              4.240000     3.777000               3.746000   \n",
       "std               2.285087     2.041921               2.270383   \n",
       "min               1.000000     1.000000               1.000000   \n",
       "25%               2.000000     2.000000               2.000000   \n",
       "50%               4.000000     4.000000               4.000000   \n",
       "75%               6.000000     5.000000               5.000000   \n",
       "max               9.000000     8.000000               8.000000   \n",
       "\n",
       "       Clubbing of Finger Nails  Frequent Cold    Dry Cough      Snoring  \\\n",
       "count               1000.000000    1000.000000  1000.000000  1000.000000   \n",
       "mean                   3.923000       3.536000     3.853000     2.926000   \n",
       "std                    2.388048       1.832502     2.039007     1.474686   \n",
       "min                    1.000000       1.000000     1.000000     1.000000   \n",
       "25%                    2.000000       2.000000     2.000000     2.000000   \n",
       "50%                    4.000000       3.000000     4.000000     3.000000   \n",
       "75%                    5.000000       5.000000     6.000000     4.000000   \n",
       "max                    9.000000       7.000000     7.000000     7.000000   \n",
       "\n",
       "       Target Binary  \n",
       "count    1000.000000  \n",
       "mean        0.365000  \n",
       "std         0.481671  \n",
       "min         0.000000  \n",
       "25%         0.000000  \n",
       "50%         0.000000  \n",
       "75%         1.000000  \n",
       "max         1.000000  \n",
       "\n",
       "[8 rows x 24 columns]"
      ]
     },
     "execution_count": 42,
     "metadata": {},
     "output_type": "execute_result"
    }
   ],
   "source": [
    "df.describe()"
   ]
  },
  {
   "cell_type": "code",
   "execution_count": null,
   "metadata": {
    "colab": {
     "base_uri": "https://localhost:8080/"
    },
    "id": "YIYyfrKyau7Q",
    "outputId": "6f9da4e5-8531-4eaa-f785-5e1305b98489"
   },
   "outputs": [
    {
     "data": {
      "text/plain": [
       "Index(['Patient Id', 'Age', 'Gender', 'Air Pollution', 'Alcohol use',\n",
       "       'Dust Allergy', 'OccuPational Hazards', 'Genetic Risk',\n",
       "       'chronic Lung Disease', 'Balanced Diet', 'Obesity', 'Smoking',\n",
       "       'Passive Smoker', 'Chest Pain', 'Coughing of Blood', 'Fatigue',\n",
       "       'Weight Loss', 'Shortness of Breath', 'Wheezing',\n",
       "       'Swallowing Difficulty', 'Clubbing of Finger Nails', 'Frequent Cold',\n",
       "       'Dry Cough', 'Snoring', 'Level'],\n",
       "      dtype='object')"
      ]
     },
     "execution_count": 4,
     "metadata": {},
     "output_type": "execute_result"
    }
   ],
   "source": [
    "df.columns"
   ]
  },
  {
   "cell_type": "code",
   "execution_count": null,
   "metadata": {
    "colab": {
     "base_uri": "https://localhost:8080/"
    },
    "id": "fXTL-xe6ku86",
    "outputId": "0cf7ff1b-3fef-4e6f-acc1-1901a61e4a6f"
   },
   "outputs": [
    {
     "data": {
      "text/plain": [
       "array(['Low', 'Medium', 'High'], dtype=object)"
      ]
     },
     "execution_count": 5,
     "metadata": {},
     "output_type": "execute_result"
    }
   ],
   "source": [
    "df['Level'].unique()"
   ]
  },
  {
   "cell_type": "code",
   "execution_count": null,
   "metadata": {
    "colab": {
     "base_uri": "https://localhost:8080/"
    },
    "id": "cyYIzAzPlW7v",
    "outputId": "4ce96a3d-2e19-4c7b-f331-8e25cc1b9677"
   },
   "outputs": [
    {
     "data": {
      "text/plain": [
       "High      365\n",
       "Medium    332\n",
       "Low       303\n",
       "Name: Level, dtype: int64"
      ]
     },
     "execution_count": 6,
     "metadata": {},
     "output_type": "execute_result"
    }
   ],
   "source": [
    "df['Level'].value_counts()"
   ]
  },
  {
   "cell_type": "code",
   "execution_count": null,
   "metadata": {
    "colab": {
     "base_uri": "https://localhost:8080/"
    },
    "id": "M-spoz6WljnZ",
    "outputId": "d0f55765-56f9-4b07-ddda-08761003bcc9"
   },
   "outputs": [
    {
     "name": "stdout",
     "output_type": "stream",
     "text": [
      "<class 'pandas.core.frame.DataFrame'>\n",
      "RangeIndex: 1000 entries, 0 to 999\n",
      "Data columns (total 25 columns):\n",
      " #   Column                    Non-Null Count  Dtype \n",
      "---  ------                    --------------  ----- \n",
      " 0   Patient Id                1000 non-null   object\n",
      " 1   Age                       1000 non-null   int64 \n",
      " 2   Gender                    1000 non-null   int64 \n",
      " 3   Air Pollution             1000 non-null   int64 \n",
      " 4   Alcohol use               1000 non-null   int64 \n",
      " 5   Dust Allergy              1000 non-null   int64 \n",
      " 6   OccuPational Hazards      1000 non-null   int64 \n",
      " 7   Genetic Risk              1000 non-null   int64 \n",
      " 8   chronic Lung Disease      1000 non-null   int64 \n",
      " 9   Balanced Diet             1000 non-null   int64 \n",
      " 10  Obesity                   1000 non-null   int64 \n",
      " 11  Smoking                   1000 non-null   int64 \n",
      " 12  Passive Smoker            1000 non-null   int64 \n",
      " 13  Chest Pain                1000 non-null   int64 \n",
      " 14  Coughing of Blood         1000 non-null   int64 \n",
      " 15  Fatigue                   1000 non-null   int64 \n",
      " 16  Weight Loss               1000 non-null   int64 \n",
      " 17  Shortness of Breath       1000 non-null   int64 \n",
      " 18  Wheezing                  1000 non-null   int64 \n",
      " 19  Swallowing Difficulty     1000 non-null   int64 \n",
      " 20  Clubbing of Finger Nails  1000 non-null   int64 \n",
      " 21  Frequent Cold             1000 non-null   int64 \n",
      " 22  Dry Cough                 1000 non-null   int64 \n",
      " 23  Snoring                   1000 non-null   int64 \n",
      " 24  Level                     1000 non-null   object\n",
      "dtypes: int64(23), object(2)\n",
      "memory usage: 195.4+ KB\n"
     ]
    }
   ],
   "source": [
    "df.info()"
   ]
  },
  {
   "cell_type": "code",
   "execution_count": null,
   "metadata": {
    "id": "3Y_ctTa0l7ST"
   },
   "outputs": [],
   "source": [
    "risk_dictionary_binary_class = {'High':1,'Medium':0,'Low':0}\n",
    "df['Target Binary']=df['Level'].map(risk_dictionary_binary_class)"
   ]
  },
  {
   "cell_type": "code",
   "execution_count": null,
   "metadata": {
    "colab": {
     "base_uri": "https://localhost:8080/",
     "height": 206
    },
    "id": "pRrepHydmh-d",
    "outputId": "f79e23bb-0d43-4f2f-d728-343926c6f013"
   },
   "outputs": [
    {
     "data": {
      "text/html": [
       "\n",
       "  <div id=\"df-40a46e3b-c813-4283-91db-b48f65946c5a\">\n",
       "    <div class=\"colab-df-container\">\n",
       "      <div>\n",
       "<style scoped>\n",
       "    .dataframe tbody tr th:only-of-type {\n",
       "        vertical-align: middle;\n",
       "    }\n",
       "\n",
       "    .dataframe tbody tr th {\n",
       "        vertical-align: top;\n",
       "    }\n",
       "\n",
       "    .dataframe thead th {\n",
       "        text-align: right;\n",
       "    }\n",
       "</style>\n",
       "<table border=\"1\" class=\"dataframe\">\n",
       "  <thead>\n",
       "    <tr style=\"text-align: right;\">\n",
       "      <th></th>\n",
       "      <th>Level</th>\n",
       "      <th>Target Binary</th>\n",
       "    </tr>\n",
       "  </thead>\n",
       "  <tbody>\n",
       "    <tr>\n",
       "      <th>0</th>\n",
       "      <td>Low</td>\n",
       "      <td>0</td>\n",
       "    </tr>\n",
       "    <tr>\n",
       "      <th>1</th>\n",
       "      <td>Medium</td>\n",
       "      <td>0</td>\n",
       "    </tr>\n",
       "    <tr>\n",
       "      <th>2</th>\n",
       "      <td>High</td>\n",
       "      <td>1</td>\n",
       "    </tr>\n",
       "    <tr>\n",
       "      <th>3</th>\n",
       "      <td>High</td>\n",
       "      <td>1</td>\n",
       "    </tr>\n",
       "    <tr>\n",
       "      <th>4</th>\n",
       "      <td>High</td>\n",
       "      <td>1</td>\n",
       "    </tr>\n",
       "  </tbody>\n",
       "</table>\n",
       "</div>\n",
       "      <button class=\"colab-df-convert\" onclick=\"convertToInteractive('df-40a46e3b-c813-4283-91db-b48f65946c5a')\"\n",
       "              title=\"Convert this dataframe to an interactive table.\"\n",
       "              style=\"display:none;\">\n",
       "        \n",
       "  <svg xmlns=\"http://www.w3.org/2000/svg\" height=\"24px\"viewBox=\"0 0 24 24\"\n",
       "       width=\"24px\">\n",
       "    <path d=\"M0 0h24v24H0V0z\" fill=\"none\"/>\n",
       "    <path d=\"M18.56 5.44l.94 2.06.94-2.06 2.06-.94-2.06-.94-.94-2.06-.94 2.06-2.06.94zm-11 1L8.5 8.5l.94-2.06 2.06-.94-2.06-.94L8.5 2.5l-.94 2.06-2.06.94zm10 10l.94 2.06.94-2.06 2.06-.94-2.06-.94-.94-2.06-.94 2.06-2.06.94z\"/><path d=\"M17.41 7.96l-1.37-1.37c-.4-.4-.92-.59-1.43-.59-.52 0-1.04.2-1.43.59L10.3 9.45l-7.72 7.72c-.78.78-.78 2.05 0 2.83L4 21.41c.39.39.9.59 1.41.59.51 0 1.02-.2 1.41-.59l7.78-7.78 2.81-2.81c.8-.78.8-2.07 0-2.86zM5.41 20L4 18.59l7.72-7.72 1.47 1.35L5.41 20z\"/>\n",
       "  </svg>\n",
       "      </button>\n",
       "      \n",
       "  <style>\n",
       "    .colab-df-container {\n",
       "      display:flex;\n",
       "      flex-wrap:wrap;\n",
       "      gap: 12px;\n",
       "    }\n",
       "\n",
       "    .colab-df-convert {\n",
       "      background-color: #E8F0FE;\n",
       "      border: none;\n",
       "      border-radius: 50%;\n",
       "      cursor: pointer;\n",
       "      display: none;\n",
       "      fill: #1967D2;\n",
       "      height: 32px;\n",
       "      padding: 0 0 0 0;\n",
       "      width: 32px;\n",
       "    }\n",
       "\n",
       "    .colab-df-convert:hover {\n",
       "      background-color: #E2EBFA;\n",
       "      box-shadow: 0px 1px 2px rgba(60, 64, 67, 0.3), 0px 1px 3px 1px rgba(60, 64, 67, 0.15);\n",
       "      fill: #174EA6;\n",
       "    }\n",
       "\n",
       "    [theme=dark] .colab-df-convert {\n",
       "      background-color: #3B4455;\n",
       "      fill: #D2E3FC;\n",
       "    }\n",
       "\n",
       "    [theme=dark] .colab-df-convert:hover {\n",
       "      background-color: #434B5C;\n",
       "      box-shadow: 0px 1px 3px 1px rgba(0, 0, 0, 0.15);\n",
       "      filter: drop-shadow(0px 1px 2px rgba(0, 0, 0, 0.3));\n",
       "      fill: #FFFFFF;\n",
       "    }\n",
       "  </style>\n",
       "\n",
       "      <script>\n",
       "        const buttonEl =\n",
       "          document.querySelector('#df-40a46e3b-c813-4283-91db-b48f65946c5a button.colab-df-convert');\n",
       "        buttonEl.style.display =\n",
       "          google.colab.kernel.accessAllowed ? 'block' : 'none';\n",
       "\n",
       "        async function convertToInteractive(key) {\n",
       "          const element = document.querySelector('#df-40a46e3b-c813-4283-91db-b48f65946c5a');\n",
       "          const dataTable =\n",
       "            await google.colab.kernel.invokeFunction('convertToInteractive',\n",
       "                                                     [key], {});\n",
       "          if (!dataTable) return;\n",
       "\n",
       "          const docLinkHtml = 'Like what you see? Visit the ' +\n",
       "            '<a target=\"_blank\" href=https://colab.research.google.com/notebooks/data_table.ipynb>data table notebook</a>'\n",
       "            + ' to learn more about interactive tables.';\n",
       "          element.innerHTML = '';\n",
       "          dataTable['output_type'] = 'display_data';\n",
       "          await google.colab.output.renderOutput(dataTable, element);\n",
       "          const docLink = document.createElement('div');\n",
       "          docLink.innerHTML = docLinkHtml;\n",
       "          element.appendChild(docLink);\n",
       "        }\n",
       "      </script>\n",
       "    </div>\n",
       "  </div>\n",
       "  "
      ],
      "text/plain": [
       "    Level  Target Binary\n",
       "0     Low              0\n",
       "1  Medium              0\n",
       "2    High              1\n",
       "3    High              1\n",
       "4    High              1"
      ]
     },
     "execution_count": 9,
     "metadata": {},
     "output_type": "execute_result"
    }
   ],
   "source": [
    "df[['Level','Target Binary']].head()"
   ]
  },
  {
   "cell_type": "code",
   "execution_count": null,
   "metadata": {
    "id": "tgd-JAXjavB2"
   },
   "outputs": [],
   "source": [
    "X = df.drop(['Patient Id','Level','Target Binary'],axis=1)\n",
    "y = df['Target Binary']"
   ]
  },
  {
   "cell_type": "code",
   "execution_count": null,
   "metadata": {
    "id": "zSRjr4WFnTw6"
   },
   "outputs": [],
   "source": [
    "from sklearn.preprocessing import MinMaxScaler\n",
    "min_max_scaler = MinMaxScaler()\n",
    "X = min_max_scaler.fit_transform(X)"
   ]
  },
  {
   "cell_type": "code",
   "execution_count": null,
   "metadata": {
    "colab": {
     "base_uri": "https://localhost:8080/"
    },
    "id": "iTBHmHziavHh",
    "outputId": "7c3648ad-3748-490a-da67-e4ceef64437a"
   },
   "outputs": [
    {
     "name": "stdout",
     "output_type": "stream",
     "text": [
      "Train : (800, 23), Test : (200, 23)\n"
     ]
    }
   ],
   "source": [
    "from sklearn.model_selection import train_test_split\n",
    "X_train, X_test, y_train, y_test = train_test_split(X, y, stratify=y, test_size = 0.2, random_state = 0)\n",
    "print(f'Train : {X_train.shape}, Test : {X_test.shape}')"
   ]
  },
  {
   "cell_type": "code",
   "execution_count": null,
   "metadata": {
    "colab": {
     "base_uri": "https://localhost:8080/"
    },
    "id": "PYm-1NdbqxmP",
    "outputId": "29007a85-4d27-401b-ec60-61ade9156ad9"
   },
   "outputs": [
    {
     "name": "stdout",
     "output_type": "stream",
     "text": [
      "Train : (640, 23), Test : (160, 23)\n"
     ]
    }
   ],
   "source": [
    "X_train, X_val, y_train, y_val = train_test_split(X_train, y_train, stratify=y_train, test_size = 0.2, random_state = 0)\n",
    "print(f'Train : {X_train.shape}, Test : {X_val.shape}')"
   ]
  },
  {
   "cell_type": "code",
   "execution_count": null,
   "metadata": {
    "id": "B3VWebzgoslT"
   },
   "outputs": [],
   "source": [
    "from keras.models import Sequential\n",
    "from keras.layers import Dense\n",
    "binary_classifier = Sequential()\n",
    "binary_classifier.add(Dense(4,activation='relu',input_dim=23))\n",
    "binary_classifier.add(Dense(1,activation='sigmoid'))"
   ]
  },
  {
   "cell_type": "code",
   "execution_count": null,
   "metadata": {
    "colab": {
     "base_uri": "https://localhost:8080/"
    },
    "id": "lGtemYK6C_lG",
    "outputId": "58727e79-aace-4bb6-8382-51e2e6248e18"
   },
   "outputs": [
    {
     "name": "stdout",
     "output_type": "stream",
     "text": [
      "Model: \"sequential_2\"\n",
      "_________________________________________________________________\n",
      " Layer (type)                Output Shape              Param #   \n",
      "=================================================================\n",
      " dense_4 (Dense)             (None, 4)                 96        \n",
      "                                                                 \n",
      " dense_5 (Dense)             (None, 1)                 5         \n",
      "                                                                 \n",
      "=================================================================\n",
      "Total params: 101\n",
      "Trainable params: 101\n",
      "Non-trainable params: 0\n",
      "_________________________________________________________________\n"
     ]
    }
   ],
   "source": [
    "binary_classifier.summary()"
   ]
  },
  {
   "cell_type": "code",
   "execution_count": null,
   "metadata": {
    "id": "cT8h0SJ0qyJq"
   },
   "outputs": [],
   "source": [
    "binary_classifier.compile(loss='binary_crossentropy',optimizer='adam',\n",
    "                          metrics='accuracy')"
   ]
  },
  {
   "cell_type": "code",
   "execution_count": 1,
   "metadata": {
    "id": "PGzm7RZWOZwK"
   },
   "outputs": [],
   "source": [
    "from keras.callbacks import ModelCheckpoint,EarlyStopping\n",
    "\n",
    "early_stop = EarlyStopping(monitor='val_accuracy',patience=10,mode='max',verbose=1)\n",
    "checkpoint = ModelCheckpoint('/content/gdrive/My Drive/Temp/cancer_weights-{epoch:02d}-{val_accuracy:.3f}.hdf5',\n",
    "                              monitor='val_accuracy',verbose=1,mode='max',\n",
    "                              save_best_only=True)\n",
    "callbacks_list=[early_stop,checkpoint]"
   ]
  },
  {
   "cell_type": "code",
   "execution_count": 2,
   "metadata": {
    "colab": {
     "base_uri": "https://localhost:8080/"
    },
    "id": "9tELlv_RtHlf",
    "outputId": "54c087e0-4f6d-4607-ca96-c40e171d376a"
   },
   "outputs": [
    {
     "ename": "NameError",
     "evalue": "name 'binary_classifier' is not defined",
     "output_type": "error",
     "traceback": [
      "\u001b[1;31m---------------------------------------------------------------------------\u001b[0m",
      "\u001b[1;31mNameError\u001b[0m                                 Traceback (most recent call last)",
      "Cell \u001b[1;32mIn[2], line 1\u001b[0m\n\u001b[1;32m----> 1\u001b[0m binary_classifier_history \u001b[38;5;241m=\u001b[39m \u001b[43mbinary_classifier\u001b[49m\u001b[38;5;241m.\u001b[39mfit(X_train, y_train, batch_size\u001b[38;5;241m=\u001b[39m\u001b[38;5;241m10\u001b[39m,\n\u001b[0;32m      2\u001b[0m                       validation_data\u001b[38;5;241m=\u001b[39m(X_val,y_val), callbacks\u001b[38;5;241m=\u001b[39mcallbacks_list, epochs\u001b[38;5;241m=\u001b[39m\u001b[38;5;241m90\u001b[39m)\n",
      "\u001b[1;31mNameError\u001b[0m: name 'binary_classifier' is not defined"
     ]
    }
   ],
   "source": [
    "binary_classifier_history = binary_classifier.fit(X_train, y_train, batch_size=10,\n",
    "                      validation_data=(X_val,y_val), callbacks=callbacks_list, epochs=90)"
   ]
  },
  {
   "cell_type": "code",
   "execution_count": null,
   "metadata": {
    "colab": {
     "base_uri": "https://localhost:8080/",
     "height": 295
    },
    "id": "WibrpHvXb_ET",
    "outputId": "419a9f8e-83cd-4e01-ee0b-b2c809cb1880"
   },
   "outputs": [
    {
     "data": {
      "image/png": "[encoded data removed]",
      "text/plain": [
       "<Figure size 432x288 with 1 Axes>"
      ]
     },
     "metadata": {
      "needs_background": "light"
     },
     "output_type": "display_data"
    }
   ],
   "source": [
    "loss_function = binary_classifier_history.history['loss']\n",
    "val_loss_function = binary_classifier_history.history['val_loss']\n",
    "epochs = range(1,len(loss_function)+1)\n",
    "\n",
    "plt.title('Loss function (Train & Val Sets)')\n",
    "plt.plot(epochs,loss_function,label='Train Loss')\n",
    "plt.plot(epochs,val_loss_function,color='orange',label='Val Loss')\n",
    "plt.xlabel('Epochs')\n",
    "plt.ylabel('Loss function')\n",
    "plt.legend()\n",
    "plt.show()"
   ]
  },
  {
   "cell_type": "code",
   "execution_count": null,
   "metadata": {
    "colab": {
     "base_uri": "https://localhost:8080/",
     "height": 295
    },
    "id": "V3xHmBeRb_JW",
    "outputId": "f6cbbf44-47f2-46a9-8e4a-72faa7534d73"
   },
   "outputs": [
    {
     "data": {
      "image/png": "[encoded data removed]",
      "text/plain": [
       "<Figure size 432x288 with 1 Axes>"
      ]
     },
     "metadata": {
      "needs_background": "light"
     },
     "output_type": "display_data"
    }
   ],
   "source": [
    "acc = binary_classifier_history.history['accuracy']\n",
    "val_acc = binary_classifier_history.history['val_accuracy']\n",
    "epochs = range(1,len(acc)+1)\n",
    "\n",
    "plt.title('Accuracy (Train & Val Sets)')\n",
    "plt.plot(epochs,acc,label='Accuracy (Train)')\n",
    "plt.plot(epochs,val_acc,color='orange',label='Accuracy (Validation)')\n",
    "plt.xlabel('Epochs')\n",
    "plt.ylabel('Accuracy')\n",
    "plt.legend()\n",
    "plt.show()"
   ]
  },
  {
   "cell_type": "code",
   "execution_count": null,
   "metadata": {
    "id": "e0zFqnY2TSDf"
   },
   "outputs": [],
   "source": [
    "\n",
    "# load a saved model\n",
    "#from keras.models import load_model\n",
    "#saved_model = load_model('best_model.h5')\n",
    "binary_classifier.load_weights('/content/gdrive/My Drive/Temp/cancer_weights-54-1.000.hdf5')"
   ]
  },
  {
   "cell_type": "code",
   "execution_count": null,
   "metadata": {
    "id": "47tntoU5b_N5"
   },
   "outputs": [],
   "source": [
    "results = binary_classifier.evaluate(X_test,y_test)"
   ]
  },
  {
   "cell_type": "code",
   "execution_count": null,
   "metadata": {
    "colab": {
     "base_uri": "https://localhost:8080/"
    },
    "id": "Tralp5Zbb_T7",
    "outputId": "289e619a-91b6-4b3d-810a-47a415a597de"
   },
   "outputs": [
    {
     "name": "stdout",
     "output_type": "stream",
     "text": [
      "1/1 [==============================] - 0s 50ms/step\n",
      "[0.00703533]\n"
     ]
    }
   ],
   "source": [
    "x_test_pattern = X_test[1,:]\n",
    "y_pred = binary_classifier.predict(x_test_pattern.reshape(1,-1))\n",
    "print(y_pred[0])"
   ]
  },
  {
   "cell_type": "code",
   "execution_count": null,
   "metadata": {
    "colab": {
     "base_uri": "https://localhost:8080/"
    },
    "id": "U8t01f-kKylO",
    "outputId": "d69f32ab-f888-435c-ee87-82bd3cadd778"
   },
   "outputs": [
    {
     "data": {
      "text/plain": [
       "array([0.06779661, 1.        , 0.28571429, 0.14285714, 0.        ,\n",
       "       0.28571429, 0.16666667, 0.        , 0.33333333, 0.16666667,\n",
       "       0.        , 0.14285714, 0.125     , 0.125     , 0.125     ,\n",
       "       0.14285714, 0.        , 0.28571429, 0.42857143, 0.375     ,\n",
       "       0.        , 0.5       , 0.        ])"
      ]
     },
     "execution_count": 40,
     "metadata": {},
     "output_type": "execute_result"
    }
   ],
   "source": [
    "x_test_pattern"
   ]
  },
  {
   "cell_type": "code",
   "execution_count": null,
   "metadata": {
    "colab": {
     "base_uri": "https://localhost:8080/"
    },
    "id": "eqAl26HZKTXi",
    "outputId": "928effb3-8277-4374-888b-9ad2410cc214"
   },
   "outputs": [
    {
     "data": {
      "text/plain": [
       "570    0\n",
       "272    0\n",
       "586    1\n",
       "100    1\n",
       "438    1\n",
       "      ..\n",
       "588    0\n",
       "275    0\n",
       "848    0\n",
       "939    0\n",
       "456    0\n",
       "Name: Target Binary, Length: 200, dtype: int64"
      ]
     },
     "execution_count": 35,
     "metadata": {},
     "output_type": "execute_result"
    }
   ],
   "source": [
    "y_test"
   ]
  },
  {
   "cell_type": "code",
   "execution_count": null,
   "metadata": {
    "id": "LBSFDD37b_YZ"
   },
   "outputs": [],
   "source": [
    "print(x_test_pattern)"
   ]
  },
  {
   "cell_type": "code",
   "execution_count": null,
   "metadata": {
    "colab": {
     "base_uri": "https://localhost:8080/"
    },
    "id": "r2SGjBik1FBf",
    "outputId": "9523e93a-264d-4fc4-c494-089a09b910e6"
   },
   "outputs": [
    {
     "data": {
      "text/plain": [
       "array([[18.,  2.,  3.,  2.,  1.,  3.,  2.,  1.,  3.,  2.,  1.,  2.,  2.,\n",
       "         2.,  2.,  2.,  1.,  3.,  4.,  4.,  1.,  4.,  1.]])"
      ]
     },
     "execution_count": 41,
     "metadata": {},
     "output_type": "execute_result"
    }
   ],
   "source": [
    "original_features= min_max_scaler.inverse_transform(x_test_pattern.reshape(1,-1))\n",
    "original_features"
   ]
  },
  {
   "cell_type": "code",
   "execution_count": null,
   "metadata": {
    "id": "OnZUkdN01_LT"
   },
   "outputs": [],
   "source": [
    "risk_dictionary_multi_class = {'High':2,'Medium':1,'Low':0}\n",
    "df['Target Multi']=df['Level'].map(risk_dictionary_multi_class)"
   ]
  },
  {
   "cell_type": "code",
   "execution_count": null,
   "metadata": {
    "id": "CFADVdAK1_dF"
   },
   "outputs": [],
   "source": [
    "X = df.drop(['Patient Id','Level','Target Binary','Target Multi'],axis=1)\n",
    "y = df['Target Multi']"
   ]
  },
  {
   "cell_type": "code",
   "execution_count": null,
   "metadata": {
    "id": "Pf-5iHao1_kQ"
   },
   "outputs": [],
   "source": [
    "X = min_max_scaler.fit_transform(X)"
   ]
  },
  {
   "cell_type": "code",
   "execution_count": null,
   "metadata": {
    "colab": {
     "base_uri": "https://localhost:8080/"
    },
    "id": "s3722X001_tN",
    "outputId": "1bf23974-f95d-437b-f332-54b1d414b6c3"
   },
   "outputs": [
    {
     "name": "stdout",
     "output_type": "stream",
     "text": [
      "Train : (800, 23), Test : (200, 23)\n"
     ]
    }
   ],
   "source": [
    "from sklearn.model_selection import train_test_split\n",
    "X_all_train, X_test, y_all_train, y_test = train_test_split(X, y, stratify=y, test_size = 0.2, random_state = 0)\n",
    "print(f'Train : {X_all_train.shape}, Test : {X_test.shape}')"
   ]
  },
  {
   "cell_type": "code",
   "execution_count": null,
   "metadata": {
    "id": "ZiYlGutE1_2C"
   },
   "outputs": [],
   "source": [
    "from sklearn.model_selection import train_test_split\n",
    "X_train, X_val, y_train, y_val = train_test_split(X_all_train, y_all_train, \n",
    "                                                  stratify=y_all_train, test_size = 0.2, \n",
    "                                                  random_state = 0)\n",
    "print(f'Train : {X_train.shape}, Test : {X_val.shape}')"
   ]
  },
  {
   "cell_type": "code",
   "execution_count": null,
   "metadata": {
    "id": "Qp7YQP1c1_-G"
   },
   "outputs": [],
   "source": [
    "from tensorflow.keras.utils import to_categorical\n",
    "y_train = to_categorical(y_train)\n",
    "y_val = to_categorical(y_val)\n",
    "y_test = to_categorical(y_test)"
   ]
  },
  {
   "cell_type": "code",
   "execution_count": null,
   "metadata": {
    "id": "BHETHNVz2AT6"
   },
   "outputs": [],
   "source": [
    "multi_classifier = Sequential()\n",
    "multi_classifier.add(Dense(8,activation='relu',input_dim=23))\n",
    "multi_classifier.add(Dense(3,activation='softmax'))"
   ]
  },
  {
   "cell_type": "code",
   "execution_count": null,
   "metadata": {
    "id": "OjmGrZSD2Adj"
   },
   "outputs": [],
   "source": [
    "multi_classifier.compile(loss='categorical_crossentropy',optimizer='adam',\n",
    "                          metrics='accuracy')"
   ]
  },
  {
   "cell_type": "code",
   "execution_count": null,
   "metadata": {
    "colab": {
     "base_uri": "https://localhost:8080/"
    },
    "id": "8ddO_Ut22Ahw",
    "outputId": "62a2d8d4-c928-4444-9603-465a1f53a95b"
   },
   "outputs": [
    {
     "name": "stdout",
     "output_type": "stream",
     "text": [
      "Epoch 1/50\n",
      "64/64 [==============================] - 2s 10ms/step - loss: 1.0301 - accuracy: 0.4109 - val_loss: 0.9765 - val_accuracy: 0.4875\n",
      "Epoch 2/50\n",
      "64/64 [==============================] - 0s 5ms/step - loss: 0.9490 - accuracy: 0.5094 - val_loss: 0.9283 - val_accuracy: 0.5562\n",
      "Epoch 3/50\n",
      "64/64 [==============================] - 0s 5ms/step - loss: 0.9008 - accuracy: 0.5734 - val_loss: 0.8869 - val_accuracy: 0.6375\n",
      "Epoch 4/50\n",
      "64/64 [==============================] - 0s 5ms/step - loss: 0.8548 - accuracy: 0.6250 - val_loss: 0.8431 - val_accuracy: 0.6500\n",
      "Epoch 5/50\n",
      "64/64 [==============================] - 0s 6ms/step - loss: 0.8075 - accuracy: 0.6687 - val_loss: 0.7943 - val_accuracy: 0.6938\n",
      "Epoch 6/50\n",
      "64/64 [==============================] - 0s 5ms/step - loss: 0.7534 - accuracy: 0.7016 - val_loss: 0.7468 - val_accuracy: 0.7500\n",
      "Epoch 7/50\n",
      "64/64 [==============================] - 0s 6ms/step - loss: 0.6999 - accuracy: 0.7359 - val_loss: 0.6980 - val_accuracy: 0.7688\n",
      "Epoch 8/50\n",
      "64/64 [==============================] - 0s 4ms/step - loss: 0.6483 - accuracy: 0.7797 - val_loss: 0.6570 - val_accuracy: 0.8000\n",
      "Epoch 9/50\n",
      "64/64 [==============================] - 0s 3ms/step - loss: 0.6008 - accuracy: 0.8062 - val_loss: 0.6157 - val_accuracy: 0.8313\n",
      "Epoch 10/50\n",
      "64/64 [==============================] - 0s 3ms/step - loss: 0.5574 - accuracy: 0.8438 - val_loss: 0.5762 - val_accuracy: 0.8313\n",
      "Epoch 11/50\n",
      "64/64 [==============================] - 0s 5ms/step - loss: 0.5142 - accuracy: 0.8719 - val_loss: 0.5368 - val_accuracy: 0.8438\n",
      "Epoch 12/50\n",
      "64/64 [==============================] - 0s 4ms/step - loss: 0.4733 - accuracy: 0.8922 - val_loss: 0.5023 - val_accuracy: 0.8438\n",
      "Epoch 13/50\n",
      "64/64 [==============================] - 0s 4ms/step - loss: 0.4375 - accuracy: 0.8953 - val_loss: 0.4732 - val_accuracy: 0.8500\n",
      "Epoch 14/50\n",
      "64/64 [==============================] - 0s 3ms/step - loss: 0.4047 - accuracy: 0.9109 - val_loss: 0.4430 - val_accuracy: 0.9062\n",
      "Epoch 15/50\n",
      "64/64 [==============================] - 0s 3ms/step - loss: 0.3766 - accuracy: 0.9391 - val_loss: 0.4166 - val_accuracy: 0.9125\n",
      "Epoch 16/50\n",
      "64/64 [==============================] - 0s 4ms/step - loss: 0.3498 - accuracy: 0.9563 - val_loss: 0.3937 - val_accuracy: 0.9125\n",
      "Epoch 17/50\n",
      "64/64 [==============================] - 0s 3ms/step - loss: 0.3266 - accuracy: 0.9609 - val_loss: 0.3752 - val_accuracy: 0.9125\n",
      "Epoch 18/50\n",
      "64/64 [==============================] - 0s 3ms/step - loss: 0.3057 - accuracy: 0.9609 - val_loss: 0.3525 - val_accuracy: 0.9125\n",
      "Epoch 19/50\n",
      "64/64 [==============================] - 0s 4ms/step - loss: 0.2850 - accuracy: 0.9641 - val_loss: 0.3295 - val_accuracy: 0.9125\n",
      "Epoch 20/50\n",
      "64/64 [==============================] - 0s 3ms/step - loss: 0.2628 - accuracy: 0.9641 - val_loss: 0.3098 - val_accuracy: 0.9375\n",
      "Epoch 21/50\n",
      "64/64 [==============================] - 0s 4ms/step - loss: 0.2419 - accuracy: 0.9688 - val_loss: 0.2886 - val_accuracy: 0.9563\n",
      "Epoch 22/50\n",
      "64/64 [==============================] - 0s 4ms/step - loss: 0.2235 - accuracy: 0.9672 - val_loss: 0.2716 - val_accuracy: 0.9563\n",
      "Epoch 23/50\n",
      "64/64 [==============================] - 0s 3ms/step - loss: 0.2062 - accuracy: 0.9672 - val_loss: 0.2562 - val_accuracy: 0.9312\n",
      "Epoch 24/50\n",
      "64/64 [==============================] - 0s 4ms/step - loss: 0.1915 - accuracy: 0.9703 - val_loss: 0.2427 - val_accuracy: 0.9312\n",
      "Epoch 25/50\n",
      "64/64 [==============================] - 0s 4ms/step - loss: 0.1783 - accuracy: 0.9688 - val_loss: 0.2294 - val_accuracy: 0.9563\n",
      "Epoch 26/50\n",
      "64/64 [==============================] - 0s 4ms/step - loss: 0.1653 - accuracy: 0.9719 - val_loss: 0.2183 - val_accuracy: 0.9312\n",
      "Epoch 27/50\n",
      "64/64 [==============================] - 0s 5ms/step - loss: 0.1544 - accuracy: 0.9703 - val_loss: 0.2045 - val_accuracy: 0.9563\n",
      "Epoch 28/50\n",
      "64/64 [==============================] - 0s 5ms/step - loss: 0.1450 - accuracy: 0.9703 - val_loss: 0.1951 - val_accuracy: 0.9563\n",
      "Epoch 29/50\n",
      "64/64 [==============================] - 0s 4ms/step - loss: 0.1370 - accuracy: 0.9703 - val_loss: 0.1865 - val_accuracy: 0.9563\n",
      "Epoch 30/50\n",
      "64/64 [==============================] - 0s 3ms/step - loss: 0.1302 - accuracy: 0.9703 - val_loss: 0.1770 - val_accuracy: 0.9563\n",
      "Epoch 31/50\n",
      "64/64 [==============================] - 0s 4ms/step - loss: 0.1233 - accuracy: 0.9703 - val_loss: 0.1720 - val_accuracy: 0.9312\n",
      "Epoch 32/50\n",
      "64/64 [==============================] - 0s 3ms/step - loss: 0.1174 - accuracy: 0.9719 - val_loss: 0.1627 - val_accuracy: 0.9563\n",
      "Epoch 33/50\n",
      "64/64 [==============================] - 0s 4ms/step - loss: 0.1129 - accuracy: 0.9719 - val_loss: 0.1550 - val_accuracy: 0.9563\n",
      "Epoch 34/50\n",
      "64/64 [==============================] - 0s 4ms/step - loss: 0.1074 - accuracy: 0.9719 - val_loss: 0.1506 - val_accuracy: 0.9563\n",
      "Epoch 35/50\n",
      "64/64 [==============================] - 0s 4ms/step - loss: 0.1034 - accuracy: 0.9719 - val_loss: 0.1470 - val_accuracy: 0.9563\n",
      "Epoch 36/50\n",
      "64/64 [==============================] - 0s 3ms/step - loss: 0.0991 - accuracy: 0.9703 - val_loss: 0.1406 - val_accuracy: 0.9563\n",
      "Epoch 37/50\n",
      "64/64 [==============================] - 0s 4ms/step - loss: 0.0956 - accuracy: 0.9719 - val_loss: 0.1366 - val_accuracy: 0.9563\n",
      "Epoch 38/50\n",
      "64/64 [==============================] - 0s 4ms/step - loss: 0.0921 - accuracy: 0.9719 - val_loss: 0.1302 - val_accuracy: 0.9563\n",
      "Epoch 39/50\n",
      "64/64 [==============================] - 0s 3ms/step - loss: 0.0898 - accuracy: 0.9719 - val_loss: 0.1271 - val_accuracy: 0.9563\n",
      "Epoch 40/50\n",
      "64/64 [==============================] - 0s 4ms/step - loss: 0.0861 - accuracy: 0.9719 - val_loss: 0.1254 - val_accuracy: 0.9563\n",
      "Epoch 41/50\n",
      "64/64 [==============================] - 0s 4ms/step - loss: 0.0831 - accuracy: 0.9719 - val_loss: 0.1217 - val_accuracy: 0.9563\n",
      "Epoch 42/50\n",
      "64/64 [==============================] - 0s 3ms/step - loss: 0.0803 - accuracy: 0.9719 - val_loss: 0.1174 - val_accuracy: 0.9563\n",
      "Epoch 43/50\n",
      "64/64 [==============================] - 0s 4ms/step - loss: 0.0784 - accuracy: 0.9719 - val_loss: 0.1140 - val_accuracy: 0.9563\n",
      "Epoch 44/50\n",
      "64/64 [==============================] - 0s 4ms/step - loss: 0.0756 - accuracy: 0.9719 - val_loss: 0.1102 - val_accuracy: 0.9563\n",
      "Epoch 45/50\n",
      "64/64 [==============================] - 0s 3ms/step - loss: 0.0731 - accuracy: 0.9719 - val_loss: 0.1063 - val_accuracy: 0.9563\n",
      "Epoch 46/50\n",
      "64/64 [==============================] - 0s 4ms/step - loss: 0.0708 - accuracy: 0.9719 - val_loss: 0.1045 - val_accuracy: 0.9563\n",
      "Epoch 47/50\n",
      "64/64 [==============================] - 0s 4ms/step - loss: 0.0689 - accuracy: 0.9719 - val_loss: 0.1004 - val_accuracy: 0.9563\n",
      "Epoch 48/50\n",
      "64/64 [==============================] - 0s 4ms/step - loss: 0.0668 - accuracy: 0.9719 - val_loss: 0.1002 - val_accuracy: 0.9563\n",
      "Epoch 49/50\n",
      "64/64 [==============================] - 0s 6ms/step - loss: 0.0649 - accuracy: 0.9719 - val_loss: 0.0945 - val_accuracy: 0.9563\n",
      "Epoch 50/50\n",
      "64/64 [==============================] - 0s 6ms/step - loss: 0.0626 - accuracy: 0.9719 - val_loss: 0.0937 - val_accuracy: 0.9563\n"
     ]
    }
   ],
   "source": [
    "multi_classifier_history = multi_classifier.fit(X_train, y_train, batch_size=10,\n",
    "                      validation_data=(X_val,y_val), epochs=50)"
   ]
  },
  {
   "cell_type": "code",
   "execution_count": null,
   "metadata": {
    "colab": {
     "base_uri": "https://localhost:8080/",
     "height": 295
    },
    "id": "H6bKfVsY2AmX",
    "outputId": "74a53fc0-0237-4c62-f2bf-f4f0fe5c0460"
   },
   "outputs": [
    {
     "data": {
      "image/png": "[encoded data removed]",
      "text/plain": [
       "<Figure size 432x288 with 1 Axes>"
      ]
     },
     "metadata": {
      "needs_background": "light"
     },
     "output_type": "display_data"
    }
   ],
   "source": [
    "acc = multi_classifier_history.history['accuracy']\n",
    "val_acc = multi_classifier_history.history['val_accuracy']\n",
    "epochs = range(1,len(acc)+1)\n",
    "\n",
    "plt.title('Accuracy (Train & Val Sets)')\n",
    "plt.plot(epochs,acc,label='Accuracy (Train)')\n",
    "plt.plot(epochs,val_acc,color='orange',label='Accuracy (Validation)')\n",
    "plt.xlabel('Epochs')\n",
    "plt.ylabel('Accuracy')\n",
    "plt.legend()\n",
    "plt.show()"
   ]
  },
  {
   "cell_type": "code",
   "execution_count": null,
   "metadata": {
    "colab": {
     "base_uri": "https://localhost:8080/"
    },
    "id": "53gqb6ET2Aqt",
    "outputId": "7e26bb48-7398-4ad9-841a-59fc3599b930"
   },
   "outputs": [
    {
     "name": "stdout",
     "output_type": "stream",
     "text": [
      "[0. 1. 0.]\n"
     ]
    }
   ],
   "source": [
    "print(y_test[4])"
   ]
  },
  {
   "cell_type": "code",
   "execution_count": null,
   "metadata": {
    "colab": {
     "base_uri": "https://localhost:8080/"
    },
    "id": "uGCfokXP2AvA",
    "outputId": "67e0d8ef-6423-4fdd-e739-66d7e22a058b"
   },
   "outputs": [
    {
     "name": "stdout",
     "output_type": "stream",
     "text": [
      "[[31.  2.  3.  2.  4.  2.  3.  2.  3.  3.  2.  2.  3.  3.  4.  5.  6.  5.\n",
      "   5.  4.  6.  5.  4.]]\n",
      "1/1 [==============================] - 0s 33ms/step\n",
      "[7.4593648e-03 9.9167013e-01 8.7054586e-04]\n"
     ]
    }
   ],
   "source": [
    "x_test_pattern = X_test[4,:]\n",
    "original_features= min_max_scaler.inverse_transform(x_test_pattern.reshape(1,-1))\n",
    "print(original_features)\n",
    "\n",
    "y_pred = multi_classifier.predict(x_test_pattern.reshape(1,-1))\n",
    "print(y_pred[0])"
   ]
  }
 ],
 "metadata": {
  "colab": {
   "provenance": []
  },
  "kernelspec": {
   "display_name": "Python 3 (ipykernel)",
   "language": "python",
   "name": "python3"
  },
  "language_info": {
   "codemirror_mode": {
    "name": "ipython",
    "version": 3
   },
   "file_extension": ".py",
   "mimetype": "text/x-python",
   "name": "python",
   "nbconvert_exporter": "python",
   "pygments_lexer": "ipython3",
   "version": "3.10.9"
  }
 },
 "nbformat": 4,
 "nbformat_minor": 1
}
