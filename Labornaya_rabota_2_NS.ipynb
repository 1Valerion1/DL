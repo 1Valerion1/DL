{
 "cells": [
  {
   "cell_type": "markdown",
   "id": "07f60672",
   "metadata": {},
   "source": [
    "# Мещерякова Ксения, 932003"
   ]
  },
  {
   "cell_type": "code",
   "execution_count": 1,
   "id": "b3139be2",
   "metadata": {},
   "outputs": [],
   "source": [
    "import pandas as pd\n",
    "import numpy as np\n",
    "import matplotlib.pyplot as plt\n",
    "from keras.layers import Dropout"
   ]
  },
  {
   "cell_type": "markdown",
   "id": "6ce14609",
   "metadata": {},
   "source": [
    "### Датасет содержит данные о погоде в Калининграде"
   ]
  },
  {
   "cell_type": "code",
   "execution_count": 2,
   "id": "4c756c67",
   "metadata": {},
   "outputs": [
    {
     "data": {
      "text/html": [
       "<div>\n",
       "<style scoped>\n",
       "    .dataframe tbody tr th:only-of-type {\n",
       "        vertical-align: middle;\n",
       "    }\n",
       "\n",
       "    .dataframe tbody tr th {\n",
       "        vertical-align: top;\n",
       "    }\n",
       "\n",
       "    .dataframe thead th {\n",
       "        text-align: right;\n",
       "    }\n",
       "</style>\n",
       "<table border=\"1\" class=\"dataframe\">\n",
       "  <thead>\n",
       "    <tr style=\"text-align: right;\">\n",
       "      <th></th>\n",
       "      <th>T</th>\n",
       "      <th>Po</th>\n",
       "      <th>P</th>\n",
       "      <th>Pa</th>\n",
       "      <th>U</th>\n",
       "      <th>DD</th>\n",
       "    </tr>\n",
       "    <tr>\n",
       "      <th>LocalTime</th>\n",
       "      <th></th>\n",
       "      <th></th>\n",
       "      <th></th>\n",
       "      <th></th>\n",
       "      <th></th>\n",
       "      <th></th>\n",
       "    </tr>\n",
       "  </thead>\n",
       "  <tbody>\n",
       "    <tr>\n",
       "      <th>19.10.2020 11:00</th>\n",
       "      <td>8.0</td>\n",
       "      <td>761.2</td>\n",
       "      <td>762.5</td>\n",
       "      <td>NaN</td>\n",
       "      <td>83.0</td>\n",
       "      <td>Ветер</td>\n",
       "    </tr>\n",
       "    <tr>\n",
       "      <th>19.10.2020 08:00</th>\n",
       "      <td>5.3</td>\n",
       "      <td>760.0</td>\n",
       "      <td>761.3</td>\n",
       "      <td>NaN</td>\n",
       "      <td>90.0</td>\n",
       "      <td>Ветер</td>\n",
       "    </tr>\n",
       "    <tr>\n",
       "      <th>19.10.2020 05:00</th>\n",
       "      <td>3.1</td>\n",
       "      <td>759.2</td>\n",
       "      <td>760.6</td>\n",
       "      <td>NaN</td>\n",
       "      <td>94.0</td>\n",
       "      <td>Ветер</td>\n",
       "    </tr>\n",
       "    <tr>\n",
       "      <th>19.10.2020 02:00</th>\n",
       "      <td>2.9</td>\n",
       "      <td>758.2</td>\n",
       "      <td>759.6</td>\n",
       "      <td>NaN</td>\n",
       "      <td>90.0</td>\n",
       "      <td>Ветер</td>\n",
       "    </tr>\n",
       "    <tr>\n",
       "      <th>18.10.2020 23:00</th>\n",
       "      <td>3.0</td>\n",
       "      <td>757.2</td>\n",
       "      <td>758.5</td>\n",
       "      <td>NaN</td>\n",
       "      <td>91.0</td>\n",
       "      <td>Ветер</td>\n",
       "    </tr>\n",
       "    <tr>\n",
       "      <th>...</th>\n",
       "      <td>...</td>\n",
       "      <td>...</td>\n",
       "      <td>...</td>\n",
       "      <td>...</td>\n",
       "      <td>...</td>\n",
       "      <td>...</td>\n",
       "    </tr>\n",
       "    <tr>\n",
       "      <th>15.10.2011 14:00</th>\n",
       "      <td>9.0</td>\n",
       "      <td>773.2</td>\n",
       "      <td>775.2</td>\n",
       "      <td>NaN</td>\n",
       "      <td>64.0</td>\n",
       "      <td>Штиль</td>\n",
       "    </tr>\n",
       "    <tr>\n",
       "      <th>15.10.2011 11:00</th>\n",
       "      <td>7.6</td>\n",
       "      <td>773.3</td>\n",
       "      <td>775.3</td>\n",
       "      <td>NaN</td>\n",
       "      <td>68.0</td>\n",
       "      <td>Ветер</td>\n",
       "    </tr>\n",
       "    <tr>\n",
       "      <th>15.10.2011 08:00</th>\n",
       "      <td>4.7</td>\n",
       "      <td>772.9</td>\n",
       "      <td>774.9</td>\n",
       "      <td>NaN</td>\n",
       "      <td>93.0</td>\n",
       "      <td>Ветер</td>\n",
       "    </tr>\n",
       "    <tr>\n",
       "      <th>15.10.2011 05:00</th>\n",
       "      <td>4.9</td>\n",
       "      <td>772.4</td>\n",
       "      <td>774.4</td>\n",
       "      <td>NaN</td>\n",
       "      <td>94.0</td>\n",
       "      <td>Штиль</td>\n",
       "    </tr>\n",
       "    <tr>\n",
       "      <th>15.10.2011 02:00</th>\n",
       "      <td>5.3</td>\n",
       "      <td>772.6</td>\n",
       "      <td>774.6</td>\n",
       "      <td>NaN</td>\n",
       "      <td>94.0</td>\n",
       "      <td>Штиль</td>\n",
       "    </tr>\n",
       "  </tbody>\n",
       "</table>\n",
       "<p>26269 rows × 6 columns</p>\n",
       "</div>"
      ],
      "text/plain": [
       "                    T     Po      P  Pa     U     DD\n",
       "LocalTime                                           \n",
       "19.10.2020 11:00  8.0  761.2  762.5 NaN  83.0  Ветер\n",
       "19.10.2020 08:00  5.3  760.0  761.3 NaN  90.0  Ветер\n",
       "19.10.2020 05:00  3.1  759.2  760.6 NaN  94.0  Ветер\n",
       "19.10.2020 02:00  2.9  758.2  759.6 NaN  90.0  Ветер\n",
       "18.10.2020 23:00  3.0  757.2  758.5 NaN  91.0  Ветер\n",
       "...               ...    ...    ...  ..   ...    ...\n",
       "15.10.2011 14:00  9.0  773.2  775.2 NaN  64.0  Штиль\n",
       "15.10.2011 11:00  7.6  773.3  775.3 NaN  68.0  Ветер\n",
       "15.10.2011 08:00  4.7  772.9  774.9 NaN  93.0  Ветер\n",
       "15.10.2011 05:00  4.9  772.4  774.4 NaN  94.0  Штиль\n",
       "15.10.2011 02:00  5.3  772.6  774.6 NaN  94.0  Штиль\n",
       "\n",
       "[26269 rows x 6 columns]"
      ]
     },
     "execution_count": 2,
     "metadata": {},
     "output_type": "execute_result"
    }
   ],
   "source": [
    "#открываем файл с данными и выводим на экран\n",
    "df = pd.read_csv(\"Kaliningrad_weather_19102020_15102011.csv\", encoding='cp1251', sep=\";\", index_col = 0)\n",
    "df"
   ]
  },
  {
   "cell_type": "markdown",
   "id": "5761ed3d",
   "metadata": {},
   "source": [
    "Значение столбцов:\n",
    "* LocalTime - Дата и время наблюдений\n",
    "* T - Температура в момент наблюдений\n",
    "* Po - Атмосферное давление на уровне станции в момент наблюдений\n",
    "* P - Атмосферное давление на уровне моря в момент наблюдений\n",
    "* Pa - Атмосферное давление, приведенное к среднему уровню моря в момент наблюдений\n",
    "* U - Относительная влажность воздуха в момент наблюдений\n",
    "* DD - Наличие ветра в момент наблюдений"
   ]
  },
  {
   "cell_type": "markdown",
   "id": "cf25d138",
   "metadata": {},
   "source": [
    "Признаки, используемые для анализа: \"LocalTime\" и \"T\""
   ]
  },
  {
   "cell_type": "code",
   "execution_count": 3,
   "id": "c04fd129",
   "metadata": {},
   "outputs": [
    {
     "data": {
      "text/html": [
       "<div>\n",
       "<style scoped>\n",
       "    .dataframe tbody tr th:only-of-type {\n",
       "        vertical-align: middle;\n",
       "    }\n",
       "\n",
       "    .dataframe tbody tr th {\n",
       "        vertical-align: top;\n",
       "    }\n",
       "\n",
       "    .dataframe thead th {\n",
       "        text-align: right;\n",
       "    }\n",
       "</style>\n",
       "<table border=\"1\" class=\"dataframe\">\n",
       "  <thead>\n",
       "    <tr style=\"text-align: right;\">\n",
       "      <th></th>\n",
       "      <th>T</th>\n",
       "      <th>Po</th>\n",
       "      <th>P</th>\n",
       "      <th>Pa</th>\n",
       "      <th>U</th>\n",
       "      <th>DD</th>\n",
       "    </tr>\n",
       "    <tr>\n",
       "      <th>LocalTime</th>\n",
       "      <th></th>\n",
       "      <th></th>\n",
       "      <th></th>\n",
       "      <th></th>\n",
       "      <th></th>\n",
       "      <th></th>\n",
       "    </tr>\n",
       "  </thead>\n",
       "  <tbody>\n",
       "    <tr>\n",
       "      <th>19.10.2020 11:00</th>\n",
       "      <td>8.0</td>\n",
       "      <td>761.2</td>\n",
       "      <td>762.5</td>\n",
       "      <td>NaN</td>\n",
       "      <td>83.0</td>\n",
       "      <td>Ветер</td>\n",
       "    </tr>\n",
       "    <tr>\n",
       "      <th>19.10.2020 08:00</th>\n",
       "      <td>5.3</td>\n",
       "      <td>760.0</td>\n",
       "      <td>761.3</td>\n",
       "      <td>NaN</td>\n",
       "      <td>90.0</td>\n",
       "      <td>Ветер</td>\n",
       "    </tr>\n",
       "    <tr>\n",
       "      <th>19.10.2020 05:00</th>\n",
       "      <td>3.1</td>\n",
       "      <td>759.2</td>\n",
       "      <td>760.6</td>\n",
       "      <td>NaN</td>\n",
       "      <td>94.0</td>\n",
       "      <td>Ветер</td>\n",
       "    </tr>\n",
       "    <tr>\n",
       "      <th>19.10.2020 02:00</th>\n",
       "      <td>2.9</td>\n",
       "      <td>758.2</td>\n",
       "      <td>759.6</td>\n",
       "      <td>NaN</td>\n",
       "      <td>90.0</td>\n",
       "      <td>Ветер</td>\n",
       "    </tr>\n",
       "    <tr>\n",
       "      <th>18.10.2020 23:00</th>\n",
       "      <td>3.0</td>\n",
       "      <td>757.2</td>\n",
       "      <td>758.5</td>\n",
       "      <td>NaN</td>\n",
       "      <td>91.0</td>\n",
       "      <td>Ветер</td>\n",
       "    </tr>\n",
       "  </tbody>\n",
       "</table>\n",
       "</div>"
      ],
      "text/plain": [
       "                    T     Po      P  Pa     U     DD\n",
       "LocalTime                                           \n",
       "19.10.2020 11:00  8.0  761.2  762.5 NaN  83.0  Ветер\n",
       "19.10.2020 08:00  5.3  760.0  761.3 NaN  90.0  Ветер\n",
       "19.10.2020 05:00  3.1  759.2  760.6 NaN  94.0  Ветер\n",
       "19.10.2020 02:00  2.9  758.2  759.6 NaN  90.0  Ветер\n",
       "18.10.2020 23:00  3.0  757.2  758.5 NaN  91.0  Ветер"
      ]
     },
     "execution_count": 3,
     "metadata": {},
     "output_type": "execute_result"
    }
   ],
   "source": [
    "#Выводим первые 5 записей\n",
    "df.head()"
   ]
  },
  {
   "cell_type": "code",
   "execution_count": 4,
   "id": "ada6df12",
   "metadata": {},
   "outputs": [
    {
     "data": {
      "text/html": [
       "<div>\n",
       "<style scoped>\n",
       "    .dataframe tbody tr th:only-of-type {\n",
       "        vertical-align: middle;\n",
       "    }\n",
       "\n",
       "    .dataframe tbody tr th {\n",
       "        vertical-align: top;\n",
       "    }\n",
       "\n",
       "    .dataframe thead th {\n",
       "        text-align: right;\n",
       "    }\n",
       "</style>\n",
       "<table border=\"1\" class=\"dataframe\">\n",
       "  <thead>\n",
       "    <tr style=\"text-align: right;\">\n",
       "      <th></th>\n",
       "      <th>T</th>\n",
       "      <th>Po</th>\n",
       "      <th>P</th>\n",
       "      <th>Pa</th>\n",
       "      <th>U</th>\n",
       "      <th>DD</th>\n",
       "    </tr>\n",
       "    <tr>\n",
       "      <th>LocalTime</th>\n",
       "      <th></th>\n",
       "      <th></th>\n",
       "      <th></th>\n",
       "      <th></th>\n",
       "      <th></th>\n",
       "      <th></th>\n",
       "    </tr>\n",
       "  </thead>\n",
       "  <tbody>\n",
       "    <tr>\n",
       "      <th>15.10.2011 14:00</th>\n",
       "      <td>9.0</td>\n",
       "      <td>773.2</td>\n",
       "      <td>775.2</td>\n",
       "      <td>NaN</td>\n",
       "      <td>64.0</td>\n",
       "      <td>Штиль</td>\n",
       "    </tr>\n",
       "    <tr>\n",
       "      <th>15.10.2011 11:00</th>\n",
       "      <td>7.6</td>\n",
       "      <td>773.3</td>\n",
       "      <td>775.3</td>\n",
       "      <td>NaN</td>\n",
       "      <td>68.0</td>\n",
       "      <td>Ветер</td>\n",
       "    </tr>\n",
       "    <tr>\n",
       "      <th>15.10.2011 08:00</th>\n",
       "      <td>4.7</td>\n",
       "      <td>772.9</td>\n",
       "      <td>774.9</td>\n",
       "      <td>NaN</td>\n",
       "      <td>93.0</td>\n",
       "      <td>Ветер</td>\n",
       "    </tr>\n",
       "    <tr>\n",
       "      <th>15.10.2011 05:00</th>\n",
       "      <td>4.9</td>\n",
       "      <td>772.4</td>\n",
       "      <td>774.4</td>\n",
       "      <td>NaN</td>\n",
       "      <td>94.0</td>\n",
       "      <td>Штиль</td>\n",
       "    </tr>\n",
       "    <tr>\n",
       "      <th>15.10.2011 02:00</th>\n",
       "      <td>5.3</td>\n",
       "      <td>772.6</td>\n",
       "      <td>774.6</td>\n",
       "      <td>NaN</td>\n",
       "      <td>94.0</td>\n",
       "      <td>Штиль</td>\n",
       "    </tr>\n",
       "  </tbody>\n",
       "</table>\n",
       "</div>"
      ],
      "text/plain": [
       "                    T     Po      P  Pa     U     DD\n",
       "LocalTime                                           \n",
       "15.10.2011 14:00  9.0  773.2  775.2 NaN  64.0  Штиль\n",
       "15.10.2011 11:00  7.6  773.3  775.3 NaN  68.0  Ветер\n",
       "15.10.2011 08:00  4.7  772.9  774.9 NaN  93.0  Ветер\n",
       "15.10.2011 05:00  4.9  772.4  774.4 NaN  94.0  Штиль\n",
       "15.10.2011 02:00  5.3  772.6  774.6 NaN  94.0  Штиль"
      ]
     },
     "execution_count": 4,
     "metadata": {},
     "output_type": "execute_result"
    }
   ],
   "source": [
    "#Выводим последние 5 записей\n",
    "df.tail()"
   ]
  },
  {
   "cell_type": "code",
   "execution_count": 5,
   "id": "b22c7d0c",
   "metadata": {},
   "outputs": [
    {
     "data": {
      "text/html": [
       "<div>\n",
       "<style scoped>\n",
       "    .dataframe tbody tr th:only-of-type {\n",
       "        vertical-align: middle;\n",
       "    }\n",
       "\n",
       "    .dataframe tbody tr th {\n",
       "        vertical-align: top;\n",
       "    }\n",
       "\n",
       "    .dataframe thead th {\n",
       "        text-align: right;\n",
       "    }\n",
       "</style>\n",
       "<table border=\"1\" class=\"dataframe\">\n",
       "  <thead>\n",
       "    <tr style=\"text-align: right;\">\n",
       "      <th></th>\n",
       "      <th>LocalTime</th>\n",
       "      <th>T</th>\n",
       "      <th>Po</th>\n",
       "      <th>P</th>\n",
       "      <th>Pa</th>\n",
       "      <th>U</th>\n",
       "      <th>DD</th>\n",
       "    </tr>\n",
       "  </thead>\n",
       "  <tbody>\n",
       "    <tr>\n",
       "      <th>0</th>\n",
       "      <td>19.10.2020 11:00</td>\n",
       "      <td>8.0</td>\n",
       "      <td>761.2</td>\n",
       "      <td>762.5</td>\n",
       "      <td>NaN</td>\n",
       "      <td>83.0</td>\n",
       "      <td>Ветер</td>\n",
       "    </tr>\n",
       "    <tr>\n",
       "      <th>1</th>\n",
       "      <td>19.10.2020 08:00</td>\n",
       "      <td>5.3</td>\n",
       "      <td>760.0</td>\n",
       "      <td>761.3</td>\n",
       "      <td>NaN</td>\n",
       "      <td>90.0</td>\n",
       "      <td>Ветер</td>\n",
       "    </tr>\n",
       "    <tr>\n",
       "      <th>2</th>\n",
       "      <td>19.10.2020 05:00</td>\n",
       "      <td>3.1</td>\n",
       "      <td>759.2</td>\n",
       "      <td>760.6</td>\n",
       "      <td>NaN</td>\n",
       "      <td>94.0</td>\n",
       "      <td>Ветер</td>\n",
       "    </tr>\n",
       "    <tr>\n",
       "      <th>3</th>\n",
       "      <td>19.10.2020 02:00</td>\n",
       "      <td>2.9</td>\n",
       "      <td>758.2</td>\n",
       "      <td>759.6</td>\n",
       "      <td>NaN</td>\n",
       "      <td>90.0</td>\n",
       "      <td>Ветер</td>\n",
       "    </tr>\n",
       "    <tr>\n",
       "      <th>4</th>\n",
       "      <td>18.10.2020 23:00</td>\n",
       "      <td>3.0</td>\n",
       "      <td>757.2</td>\n",
       "      <td>758.5</td>\n",
       "      <td>NaN</td>\n",
       "      <td>91.0</td>\n",
       "      <td>Ветер</td>\n",
       "    </tr>\n",
       "    <tr>\n",
       "      <th>...</th>\n",
       "      <td>...</td>\n",
       "      <td>...</td>\n",
       "      <td>...</td>\n",
       "      <td>...</td>\n",
       "      <td>...</td>\n",
       "      <td>...</td>\n",
       "      <td>...</td>\n",
       "    </tr>\n",
       "    <tr>\n",
       "      <th>26264</th>\n",
       "      <td>15.10.2011 14:00</td>\n",
       "      <td>9.0</td>\n",
       "      <td>773.2</td>\n",
       "      <td>775.2</td>\n",
       "      <td>NaN</td>\n",
       "      <td>64.0</td>\n",
       "      <td>Штиль</td>\n",
       "    </tr>\n",
       "    <tr>\n",
       "      <th>26265</th>\n",
       "      <td>15.10.2011 11:00</td>\n",
       "      <td>7.6</td>\n",
       "      <td>773.3</td>\n",
       "      <td>775.3</td>\n",
       "      <td>NaN</td>\n",
       "      <td>68.0</td>\n",
       "      <td>Ветер</td>\n",
       "    </tr>\n",
       "    <tr>\n",
       "      <th>26266</th>\n",
       "      <td>15.10.2011 08:00</td>\n",
       "      <td>4.7</td>\n",
       "      <td>772.9</td>\n",
       "      <td>774.9</td>\n",
       "      <td>NaN</td>\n",
       "      <td>93.0</td>\n",
       "      <td>Ветер</td>\n",
       "    </tr>\n",
       "    <tr>\n",
       "      <th>26267</th>\n",
       "      <td>15.10.2011 05:00</td>\n",
       "      <td>4.9</td>\n",
       "      <td>772.4</td>\n",
       "      <td>774.4</td>\n",
       "      <td>NaN</td>\n",
       "      <td>94.0</td>\n",
       "      <td>Штиль</td>\n",
       "    </tr>\n",
       "    <tr>\n",
       "      <th>26268</th>\n",
       "      <td>15.10.2011 02:00</td>\n",
       "      <td>5.3</td>\n",
       "      <td>772.6</td>\n",
       "      <td>774.6</td>\n",
       "      <td>NaN</td>\n",
       "      <td>94.0</td>\n",
       "      <td>Штиль</td>\n",
       "    </tr>\n",
       "  </tbody>\n",
       "</table>\n",
       "<p>26269 rows × 7 columns</p>\n",
       "</div>"
      ],
      "text/plain": [
       "              LocalTime    T     Po      P  Pa     U     DD\n",
       "0      19.10.2020 11:00  8.0  761.2  762.5 NaN  83.0  Ветер\n",
       "1      19.10.2020 08:00  5.3  760.0  761.3 NaN  90.0  Ветер\n",
       "2      19.10.2020 05:00  3.1  759.2  760.6 NaN  94.0  Ветер\n",
       "3      19.10.2020 02:00  2.9  758.2  759.6 NaN  90.0  Ветер\n",
       "4      18.10.2020 23:00  3.0  757.2  758.5 NaN  91.0  Ветер\n",
       "...                 ...  ...    ...    ...  ..   ...    ...\n",
       "26264  15.10.2011 14:00  9.0  773.2  775.2 NaN  64.0  Штиль\n",
       "26265  15.10.2011 11:00  7.6  773.3  775.3 NaN  68.0  Ветер\n",
       "26266  15.10.2011 08:00  4.7  772.9  774.9 NaN  93.0  Ветер\n",
       "26267  15.10.2011 05:00  4.9  772.4  774.4 NaN  94.0  Штиль\n",
       "26268  15.10.2011 02:00  5.3  772.6  774.6 NaN  94.0  Штиль\n",
       "\n",
       "[26269 rows x 7 columns]"
      ]
     },
     "execution_count": 5,
     "metadata": {},
     "output_type": "execute_result"
    }
   ],
   "source": [
    "df=df.reset_index() \n",
    "df"
   ]
  },
  {
   "cell_type": "code",
   "execution_count": 6,
   "id": "425fb051",
   "metadata": {},
   "outputs": [
    {
     "name": "stdout",
     "output_type": "stream",
     "text": [
      "<class 'pandas.core.frame.DataFrame'>\n",
      "RangeIndex: 26269 entries, 0 to 26268\n",
      "Data columns (total 7 columns):\n",
      " #   Column     Non-Null Count  Dtype  \n",
      "---  ------     --------------  -----  \n",
      " 0   LocalTime  26269 non-null  object \n",
      " 1   T          26253 non-null  float64\n",
      " 2   Po         26237 non-null  float64\n",
      " 3   P          26221 non-null  float64\n",
      " 4   Pa         21831 non-null  float64\n",
      " 5   U          26233 non-null  float64\n",
      " 6   DD         25864 non-null  object \n",
      "dtypes: float64(5), object(2)\n",
      "memory usage: 1.4+ MB\n"
     ]
    }
   ],
   "source": [
    "#Описание данных\n",
    "df.info()"
   ]
  },
  {
   "cell_type": "markdown",
   "id": "38088b2d",
   "metadata": {},
   "source": [
    "Метод data.info() выводит информацию о данных: названия столбцов, количество ненулевых значений, тип данных и использование памяти. В данном датасете все столбцы числового типа данных(float), за исключением двух: \"LocalTime\" и \"DD\" - они содержат данные типа object"
   ]
  },
  {
   "cell_type": "code",
   "execution_count": 7,
   "id": "98911faa",
   "metadata": {},
   "outputs": [],
   "source": [
    "#Фильтруем и оставляем только два нужных столбца\n",
    "df=df[['LocalTime','T']]"
   ]
  },
  {
   "cell_type": "code",
   "execution_count": 8,
   "id": "1a0f0173",
   "metadata": {},
   "outputs": [
    {
     "data": {
      "text/plain": [
       "LocalTime     0\n",
       "T            16\n",
       "dtype: int64"
      ]
     },
     "execution_count": 8,
     "metadata": {},
     "output_type": "execute_result"
    }
   ],
   "source": [
    "#Вычисляем количество пропущенных значений\n",
    "df.isna().sum()"
   ]
  },
  {
   "cell_type": "code",
   "execution_count": 9,
   "id": "f44deaac",
   "metadata": {},
   "outputs": [],
   "source": [
    "#Удаляем пропущенные значения\n",
    "df = df.dropna()"
   ]
  },
  {
   "cell_type": "code",
   "execution_count": 10,
   "id": "46aa8bcc",
   "metadata": {},
   "outputs": [
    {
     "data": {
      "text/plain": [
       "[<matplotlib.lines.Line2D at 0x25764c13640>]"
      ]
     },
     "execution_count": 10,
     "metadata": {},
     "output_type": "execute_result"
    },
    {
     "data": {
      "image/png": "[encoded data removed]",
      "text/plain": [
       "<Figure size 640x480 with 1 Axes>"
      ]
     },
     "metadata": {},
     "output_type": "display_data"
    }
   ],
   "source": [
    "#Строим график значений температуры\n",
    "plt.plot(range(1,len(df['T'].values)+1),df['T'].values)"
   ]
  },
  {
   "cell_type": "code",
   "execution_count": 11,
   "id": "66edc2c3",
   "metadata": {},
   "outputs": [],
   "source": [
    "from sklearn.preprocessing import MinMaxScaler\n",
    "min_max_scaler = MinMaxScaler()\n",
    "\n",
    "data = df['T'].values\n",
    "data = min_max_scaler.fit_transform(data.reshape(-1, 1))"
   ]
  },
  {
   "cell_type": "code",
   "execution_count": 12,
   "id": "e16531be",
   "metadata": {},
   "outputs": [
    {
     "name": "stdout",
     "output_type": "stream",
     "text": [
      "(26253, 1)\n",
      "(26253,)\n"
     ]
    }
   ],
   "source": [
    "#Преобразование массива\n",
    "print(data.shape)\n",
    "data =data.flatten()\n",
    "print(data.shape)"
   ]
  },
  {
   "cell_type": "code",
   "execution_count": 13,
   "id": "028b2ba0",
   "metadata": {},
   "outputs": [
    {
     "name": "stdout",
     "output_type": "stream",
     "text": [
      "Train =  18367 Validation =  3936 Test =  3935\n"
     ]
    }
   ],
   "source": [
    "#Раздеряем данные\n",
    "window = 15\n",
    "\n",
    "n_samples=data.shape[0]-window\n",
    "n_train_samples=round(0.7*n_samples)\n",
    "n_val_samples=round(0.15*n_samples)\n",
    "n_test_samples=n_samples-n_train_samples-n_val_samples\n",
    "print('Train = ',n_train_samples,'Validation = ',n_val_samples,'Test = ',n_test_samples)"
   ]
  },
  {
   "cell_type": "code",
   "execution_count": 14,
   "id": "466b973e",
   "metadata": {},
   "outputs": [],
   "source": [
    "#Создаём массивы для обучающей, валидационной и тестовой выборки\n",
    "X_train=np.zeros((n_train_samples,window))\n",
    "y_train=np.zeros(n_train_samples)\n",
    "\n",
    "X_val=np.zeros((n_val_samples,window))\n",
    "y_val=np.zeros(n_val_samples)\n",
    "\n",
    "X_test=np.zeros((n_test_samples,window))\n",
    "y_test=np.zeros(n_test_samples)"
   ]
  },
  {
   "cell_type": "code",
   "execution_count": 15,
   "id": "0378404e",
   "metadata": {},
   "outputs": [],
   "source": [
    "#Заполняем массивы\n",
    "for i in range(n_train_samples):\n",
    "  for j in range(window):\n",
    "    X_train[i,j]=data[i+j]\n",
    "  y_train[i]=data[i+window]\n",
    "\n",
    "for i in range(n_val_samples):\n",
    "  for j in range(window):\n",
    "    X_val[i,j]=data[n_train_samples+i+j]\n",
    "  y_val[i]=data[n_train_samples+i+window]\n",
    "\n",
    "for i in range(n_test_samples):\n",
    "  for j in range(window):\n",
    "    X_test[i,j]=data[n_train_samples+n_val_samples+i+j]\n",
    "  y_test[i]=data[n_train_samples+n_val_samples+i+window]"
   ]
  },
  {
   "cell_type": "code",
   "execution_count": 16,
   "id": "bfe96072",
   "metadata": {},
   "outputs": [],
   "source": [
    "#Модель ff_model представляет собой нейронную сеть с одним скрытым слоем и одним выходным слоем\n",
    "from keras.models import Sequential\n",
    "from keras.layers import Dense\n",
    "\n",
    "ff_model=Sequential()\n",
    "ff_model.add(Dense(10,activation='relu',input_dim=window))\n",
    "ff_model.add(Dropout(0.2))   # добавляем прореживание Dropout\n",
    "ff_model.add(Dense(1))"
   ]
  },
  {
   "cell_type": "code",
   "execution_count": 17,
   "id": "9ca25c60",
   "metadata": {},
   "outputs": [
    {
     "name": "stdout",
     "output_type": "stream",
     "text": [
      "Model: \"sequential\"\n",
      "_________________________________________________________________\n",
      " Layer (type)                Output Shape              Param #   \n",
      "=================================================================\n",
      " dense (Dense)               (None, 10)                160       \n",
      "                                                                 \n",
      " dropout (Dropout)           (None, 10)                0         \n",
      "                                                                 \n",
      " dense_1 (Dense)             (None, 1)                 11        \n",
      "                                                                 \n",
      "=================================================================\n",
      "Total params: 171 (684.00 Byte)\n",
      "Trainable params: 171 (684.00 Byte)\n",
      "Non-trainable params: 0 (0.00 Byte)\n",
      "_________________________________________________________________\n"
     ]
    }
   ],
   "source": [
    "#Выводим обзорную таблицу\n",
    "ff_model.summary()"
   ]
  },
  {
   "cell_type": "code",
   "execution_count": 18,
   "id": "a7272dc0",
   "metadata": {},
   "outputs": [],
   "source": [
    "#Готовим модель к обучению\n",
    "ff_model.compile(loss='mse',optimizer='adam',metrics='mae')"
   ]
  },
  {
   "cell_type": "code",
   "execution_count": 19,
   "id": "194b9994",
   "metadata": {},
   "outputs": [],
   "source": [
    "from keras.callbacks import ModelCheckpoint,EarlyStopping\n",
    "\n",
    "early_stop = EarlyStopping(monitor='val_mae',patience=5,mode='min',verbose=1)\n",
    "checkpoint = ModelCheckpoint('best_model_weights.h5', monitor='val_mae', verbose=1, save_best_only=True, mode='min')\n",
    "callbacks_list=[early_stop,checkpoint]"
   ]
  },
  {
   "cell_type": "code",
   "execution_count": 20,
   "id": "2869d27d",
   "metadata": {},
   "outputs": [
    {
     "name": "stdout",
     "output_type": "stream",
     "text": [
      "Epoch 1/15\n",
      "727/735 [============================>.] - ETA: 0s - loss: 0.2072 - mae: 0.2816\n",
      "Epoch 1: val_mae improved from inf to 0.06952, saving model to best_model_weights.h5\n",
      "735/735 [==============================] - 7s 7ms/step - loss: 0.2054 - mae: 0.2801 - val_loss: 0.0083 - val_mae: 0.0695\n",
      "Epoch 2/15\n",
      "  1/735 [..............................] - ETA: 5s - loss: 0.0232 - mae: 0.1167"
     ]
    },
    {
     "name": "stderr",
     "output_type": "stream",
     "text": [
      "c:\\users\\ksenia\\appdata\\local\\programs\\python\\python39\\lib\\site-packages\\keras\\src\\engine\\training.py:3079: UserWarning: You are saving your model as an HDF5 file via `model.save()`. This file format is considered legacy. We recommend using instead the native Keras format, e.g. `model.save('my_model.keras')`.\n",
      "  saving_api.save_model(\n"
     ]
    },
    {
     "name": "stdout",
     "output_type": "stream",
     "text": [
      "729/735 [============================>.] - ETA: 0s - loss: 0.0256 - mae: 0.1236\n",
      "Epoch 2: val_mae did not improve from 0.06952\n",
      "735/735 [==============================] - 4s 6ms/step - loss: 0.0256 - mae: 0.1236 - val_loss: 0.0081 - val_mae: 0.0697\n",
      "Epoch 3/15\n",
      "734/735 [============================>.] - ETA: 0s - loss: 0.0178 - mae: 0.1035\n",
      "Epoch 3: val_mae improved from 0.06952 to 0.06226, saving model to best_model_weights.h5\n",
      "735/735 [==============================] - 5s 6ms/step - loss: 0.0178 - mae: 0.1035 - val_loss: 0.0067 - val_mae: 0.0623\n",
      "Epoch 4/15\n",
      "730/735 [============================>.] - ETA: 0s - loss: 0.0115 - mae: 0.0817\n",
      "Epoch 4: val_mae improved from 0.06226 to 0.04940, saving model to best_model_weights.h5\n",
      "735/735 [==============================] - 5s 6ms/step - loss: 0.0115 - mae: 0.0816 - val_loss: 0.0044 - val_mae: 0.0494\n",
      "Epoch 5/15\n",
      "733/735 [============================>.] - ETA: 0s - loss: 0.0074 - mae: 0.0645\n",
      "Epoch 5: val_mae improved from 0.04940 to 0.04189, saving model to best_model_weights.h5\n",
      "735/735 [==============================] - 5s 7ms/step - loss: 0.0074 - mae: 0.0645 - val_loss: 0.0031 - val_mae: 0.0419\n",
      "Epoch 6/15\n",
      "727/735 [============================>.] - ETA: 0s - loss: 0.0055 - mae: 0.0562\n",
      "Epoch 6: val_mae improved from 0.04189 to 0.03999, saving model to best_model_weights.h5\n",
      "735/735 [==============================] - 5s 6ms/step - loss: 0.0055 - mae: 0.0561 - val_loss: 0.0027 - val_mae: 0.0400\n",
      "Epoch 7/15\n",
      "731/735 [============================>.] - ETA: 0s - loss: 0.0047 - mae: 0.0514\n",
      "Epoch 7: val_mae improved from 0.03999 to 0.03740, saving model to best_model_weights.h5\n",
      "735/735 [==============================] - 5s 7ms/step - loss: 0.0047 - mae: 0.0514 - val_loss: 0.0024 - val_mae: 0.0374\n",
      "Epoch 8/15\n",
      "734/735 [============================>.] - ETA: 0s - loss: 0.0042 - mae: 0.0484\n",
      "Epoch 8: val_mae improved from 0.03740 to 0.03577, saving model to best_model_weights.h5\n",
      "735/735 [==============================] - 5s 7ms/step - loss: 0.0042 - mae: 0.0484 - val_loss: 0.0022 - val_mae: 0.0358\n",
      "Epoch 9/15\n",
      "732/735 [============================>.] - ETA: 0s - loss: 0.0040 - mae: 0.0462\n",
      "Epoch 9: val_mae improved from 0.03577 to 0.03180, saving model to best_model_weights.h5\n",
      "735/735 [==============================] - 5s 7ms/step - loss: 0.0040 - mae: 0.0462 - val_loss: 0.0017 - val_mae: 0.0318\n",
      "Epoch 10/15\n",
      "727/735 [============================>.] - ETA: 0s - loss: 0.0036 - mae: 0.0436\n",
      "Epoch 10: val_mae improved from 0.03180 to 0.02902, saving model to best_model_weights.h5\n",
      "735/735 [==============================] - 5s 6ms/step - loss: 0.0036 - mae: 0.0436 - val_loss: 0.0014 - val_mae: 0.0290\n",
      "Epoch 11/15\n",
      "734/735 [============================>.] - ETA: 0s - loss: 0.0033 - mae: 0.0414\n",
      "Epoch 11: val_mae improved from 0.02902 to 0.02870, saving model to best_model_weights.h5\n",
      "735/735 [==============================] - 5s 7ms/step - loss: 0.0033 - mae: 0.0414 - val_loss: 0.0014 - val_mae: 0.0287\n",
      "Epoch 12/15\n",
      "734/735 [============================>.] - ETA: 0s - loss: 0.0031 - mae: 0.0404\n",
      "Epoch 12: val_mae improved from 0.02870 to 0.02539, saving model to best_model_weights.h5\n",
      "735/735 [==============================] - 5s 7ms/step - loss: 0.0031 - mae: 0.0404 - val_loss: 0.0011 - val_mae: 0.0254\n",
      "Epoch 13/15\n",
      "727/735 [============================>.] - ETA: 0s - loss: 0.0029 - mae: 0.0394\n",
      "Epoch 13: val_mae did not improve from 0.02539\n",
      "735/735 [==============================] - 5s 7ms/step - loss: 0.0029 - mae: 0.0394 - val_loss: 0.0012 - val_mae: 0.0260\n",
      "Epoch 14/15\n",
      "730/735 [============================>.] - ETA: 0s - loss: 0.0029 - mae: 0.0391\n",
      "Epoch 14: val_mae did not improve from 0.02539\n",
      "735/735 [==============================] - 5s 7ms/step - loss: 0.0029 - mae: 0.0391 - val_loss: 0.0013 - val_mae: 0.0269\n",
      "Epoch 15/15\n",
      "732/735 [============================>.] - ETA: 0s - loss: 0.0028 - mae: 0.0390\n",
      "Epoch 15: val_mae did not improve from 0.02539\n",
      "735/735 [==============================] - 5s 7ms/step - loss: 0.0028 - mae: 0.0390 - val_loss: 0.0014 - val_mae: 0.0291\n"
     ]
    }
   ],
   "source": [
    "#Обучаем модель\n",
    "ff_model_history = ff_model.fit(X_train,y_train,batch_size=25,epochs=15,\n",
    "                                callbacks=callbacks_list,\n",
    "                                validation_data=(X_val,y_val))"
   ]
  },
  {
   "cell_type": "code",
   "execution_count": 21,
   "id": "929a1e9f",
   "metadata": {},
   "outputs": [
    {
     "data": {
      "image/png": "[encoded data removed]",
      "text/plain": [
       "<Figure size 640x480 with 1 Axes>"
      ]
     },
     "metadata": {},
     "output_type": "display_data"
    }
   ],
   "source": [
    "loss_function = ff_model_history.history['loss']\n",
    "val_loss_function = ff_model_history.history['val_loss']\n",
    "\n",
    "epochs=range(1,len(loss_function)+1)\n",
    "\n",
    "plt.title('MSE value (Train & Val Sets)')\n",
    "plt.plot(epochs,loss_function,color='green',label='Train MSE')\n",
    "plt.plot(epochs,val_loss_function,color='red',label='Val MSE')\n",
    "plt.xlabel('Epochs')\n",
    "plt.ylabel('Mean Squared Error')\n",
    "plt.legend()\n",
    "plt.show()"
   ]
  },
  {
   "cell_type": "markdown",
   "id": "f18dfed7",
   "metadata": {},
   "source": [
    "Вывод: график MSE быстро убывает, значит, модель улучшает свою способность предсказывать результаты на основе данных, с которыми она обучается"
   ]
  },
  {
   "cell_type": "code",
   "execution_count": 22,
   "id": "4062233f",
   "metadata": {},
   "outputs": [],
   "source": [
    "ff_model.load_weights('best_model_weights.h5')"
   ]
  },
  {
   "cell_type": "code",
   "execution_count": 23,
   "id": "3991f447",
   "metadata": {
    "scrolled": true
   },
   "outputs": [
    {
     "name": "stdout",
     "output_type": "stream",
     "text": [
      "123/123 [==============================] - 1s 4ms/step\n",
      "MAE =  1.436  K degrees\n",
      "R2-score =  0.953\n"
     ]
    }
   ],
   "source": [
    "from sklearn.metrics import mean_absolute_error,r2_score\n",
    "\n",
    "y_pred = ff_model.predict(X_test)\n",
    "y_pred_inv = min_max_scaler.inverse_transform(y_pred)\n",
    "y_test_inv = min_max_scaler.inverse_transform(y_test.reshape(-1,1))\n",
    "\n",
    "print('MAE = ',round(mean_absolute_error(y_true=y_test_inv,y_pred=y_pred_inv),3),' K degrees')\n",
    "print('R2-score = ',round(r2_score(y_test_inv,y_pred_inv),3))"
   ]
  },
  {
   "cell_type": "markdown",
   "id": "48225e4b",
   "metadata": {},
   "source": [
    "Вывод: \n",
    "* R2 = 0.953: Это очень высокое значение, которое показывает, что модель очень хорошо соответствует наблюдаемым данным.\n",
    "* MAE = 1.436: Это означает, что в среднем прогнозы отклоняются от истинных значений всего на 1.436 градуса по Кельвину. Это довольно маленькое отклонение, особенно если учесть диапазон возможных значений температуры"
   ]
  },
  {
   "cell_type": "code",
   "execution_count": 24,
   "id": "b4e9bd3b",
   "metadata": {
    "scrolled": true
   },
   "outputs": [
    {
     "data": {
      "text/plain": [
       "[<matplotlib.lines.Line2D at 0x2576a17ee20>]"
      ]
     },
     "execution_count": 24,
     "metadata": {},
     "output_type": "execute_result"
    },
    {
     "data": {
      "image/png": "[encoded data removed]",
      "text/plain": [
       "<Figure size 640x480 with 1 Axes>"
      ]
     },
     "metadata": {},
     "output_type": "display_data"
    }
   ],
   "source": [
    "#Построение графиков\n",
    "plt.plot(range(1,len(y_test_inv)+1),y_test_inv)\n",
    "plt.plot(range(1,len(y_pred_inv)+1),y_pred_inv)"
   ]
  },
  {
   "cell_type": "code",
   "execution_count": 25,
   "id": "32032869",
   "metadata": {},
   "outputs": [],
   "source": [
    "from sklearn.metrics import mean_squared_error"
   ]
  },
  {
   "cell_type": "code",
   "execution_count": 26,
   "id": "0cb77420",
   "metadata": {},
   "outputs": [
    {
     "name": "stdout",
     "output_type": "stream",
     "text": [
      "123/123 [==============================] - 1s 4ms/step\n",
      "MSE для FF-модели: 0.0010652422045027434\n"
     ]
    }
   ],
   "source": [
    "# FF-модель\n",
    "y_pred_ff = ff_model.predict(X_test)\n",
    "mse_ff = mean_squared_error(y_test, y_pred_ff)\n",
    "print(f'MSE для FF-модели: {mse_ff}')"
   ]
  },
  {
   "cell_type": "markdown",
   "id": "614a44fb",
   "metadata": {},
   "source": [
    "Вывод: MSE (Средняя квадратичная ошибка) около 0.00107. Это число говорит о том, как далеки прогнозы от истинных значений. Значение MSE близкое к нулю обычно свидетельствует о хорошей модели"
   ]
  },
  {
   "cell_type": "code",
   "execution_count": 27,
   "id": "3ac205bc",
   "metadata": {},
   "outputs": [],
   "source": [
    "#Определяем простую рекуррентную модель (RNN)\n",
    "from keras.layers import SimpleRNN\n",
    "\n",
    "simple_rnn_model = Sequential()\n",
    "simple_rnn_model.add(SimpleRNN(10,activation='relu',input_shape=(window,1)))\n",
    "simple_rnn_model.add(Dropout(0.2))  # добавляем прореживание Dropout\n",
    "simple_rnn_model.add(Dense(1,activation='linear'))"
   ]
  },
  {
   "cell_type": "code",
   "execution_count": 28,
   "id": "03fabacf",
   "metadata": {},
   "outputs": [],
   "source": [
    "#Разделяем выборки на обучающую, тестовую и валидационную\n",
    "X_train = np.reshape(X_train,(X_train.shape[0],X_train.shape[1],1))\n",
    "X_val = np.reshape(X_val,(X_val.shape[0],X_val.shape[1],1))\n",
    "X_test = np.reshape(X_test,(X_test.shape[0],X_test.shape[1],1))"
   ]
  },
  {
   "cell_type": "code",
   "execution_count": 29,
   "id": "d5edd426",
   "metadata": {},
   "outputs": [],
   "source": [
    "simple_rnn_model.compile(loss='mse',optimizer='adam',metrics='mae')"
   ]
  },
  {
   "cell_type": "code",
   "execution_count": 30,
   "id": "12833f7e",
   "metadata": {},
   "outputs": [],
   "source": [
    "early_stop = EarlyStopping(monitor='val_mae',patience=5,mode='min',verbose=1)\n",
    "checkpoint = ModelCheckpoint('best_model.h5',\n",
    "                              monitor='val_mae',verbose=1,mode='min',\n",
    "                              save_best_only=True)\n",
    "callbacks_list=[early_stop,checkpoint]"
   ]
  },
  {
   "cell_type": "code",
   "execution_count": 31,
   "id": "b9889728",
   "metadata": {},
   "outputs": [
    {
     "name": "stdout",
     "output_type": "stream",
     "text": [
      "Epoch 1/15\n",
      "731/735 [============================>.] - ETA: 0s - loss: 0.0811 - mae: 0.1959\n",
      "Epoch 1: val_mae improved from inf to 0.08499, saving model to best_model.h5\n",
      "735/735 [==============================] - 13s 13ms/step - loss: 0.0808 - mae: 0.1955 - val_loss: 0.0115 - val_mae: 0.0850\n",
      "Epoch 2/15\n",
      "  6/735 [..............................] - ETA: 7s - loss: 0.0343 - mae: 0.1285"
     ]
    },
    {
     "name": "stderr",
     "output_type": "stream",
     "text": [
      "c:\\users\\ksenia\\appdata\\local\\programs\\python\\python39\\lib\\site-packages\\keras\\src\\engine\\training.py:3079: UserWarning: You are saving your model as an HDF5 file via `model.save()`. This file format is considered legacy. We recommend using instead the native Keras format, e.g. `model.save('my_model.keras')`.\n",
      "  saving_api.save_model(\n"
     ]
    },
    {
     "name": "stdout",
     "output_type": "stream",
     "text": [
      "734/735 [============================>.] - ETA: 0s - loss: 0.0224 - mae: 0.1117\n",
      "Epoch 2: val_mae did not improve from 0.08499\n",
      "735/735 [==============================] - 9s 12ms/step - loss: 0.0224 - mae: 0.1117 - val_loss: 0.0116 - val_mae: 0.0866\n",
      "Epoch 3/15\n",
      "732/735 [============================>.] - ETA: 0s - loss: 0.0135 - mae: 0.0885\n",
      "Epoch 3: val_mae improved from 0.08499 to 0.05081, saving model to best_model.h5\n",
      "735/735 [==============================] - 9s 12ms/step - loss: 0.0135 - mae: 0.0884 - val_loss: 0.0046 - val_mae: 0.0508\n",
      "Epoch 4/15\n",
      "735/735 [==============================] - ETA: 0s - loss: 0.0062 - mae: 0.0581\n",
      "Epoch 4: val_mae improved from 0.05081 to 0.04579, saving model to best_model.h5\n",
      "735/735 [==============================] - 9s 12ms/step - loss: 0.0062 - mae: 0.0581 - val_loss: 0.0036 - val_mae: 0.0458\n",
      "Epoch 5/15\n",
      "733/735 [============================>.] - ETA: 0s - loss: 0.0051 - mae: 0.0541\n",
      "Epoch 5: val_mae improved from 0.04579 to 0.04481, saving model to best_model.h5\n",
      "735/735 [==============================] - 9s 12ms/step - loss: 0.0051 - mae: 0.0541 - val_loss: 0.0035 - val_mae: 0.0448\n",
      "Epoch 6/15\n",
      "734/735 [============================>.] - ETA: 0s - loss: 0.0048 - mae: 0.0532\n",
      "Epoch 6: val_mae improved from 0.04481 to 0.04419, saving model to best_model.h5\n",
      "735/735 [==============================] - 9s 12ms/step - loss: 0.0048 - mae: 0.0532 - val_loss: 0.0034 - val_mae: 0.0442\n",
      "Epoch 7/15\n",
      "734/735 [============================>.] - ETA: 0s - loss: 0.0046 - mae: 0.0516\n",
      "Epoch 7: val_mae improved from 0.04419 to 0.04136, saving model to best_model.h5\n",
      "735/735 [==============================] - 9s 12ms/step - loss: 0.0046 - mae: 0.0516 - val_loss: 0.0030 - val_mae: 0.0414\n",
      "Epoch 8/15\n",
      "735/735 [==============================] - ETA: 0s - loss: 0.0044 - mae: 0.0500\n",
      "Epoch 8: val_mae did not improve from 0.04136\n",
      "735/735 [==============================] - 9s 12ms/step - loss: 0.0044 - mae: 0.0500 - val_loss: 0.0030 - val_mae: 0.0419\n",
      "Epoch 9/15\n",
      "735/735 [==============================] - ETA: 0s - loss: 0.0042 - mae: 0.0492\n",
      "Epoch 9: val_mae improved from 0.04136 to 0.03982, saving model to best_model.h5\n",
      "735/735 [==============================] - 9s 12ms/step - loss: 0.0042 - mae: 0.0492 - val_loss: 0.0027 - val_mae: 0.0398\n",
      "Epoch 10/15\n",
      "734/735 [============================>.] - ETA: 0s - loss: 0.0041 - mae: 0.0483\n",
      "Epoch 10: val_mae improved from 0.03982 to 0.03680, saving model to best_model.h5\n",
      "735/735 [==============================] - 9s 12ms/step - loss: 0.0041 - mae: 0.0483 - val_loss: 0.0024 - val_mae: 0.0368\n",
      "Epoch 11/15\n",
      "735/735 [==============================] - ETA: 0s - loss: 0.0035 - mae: 0.0447\n",
      "Epoch 11: val_mae improved from 0.03680 to 0.03164, saving model to best_model.h5\n",
      "735/735 [==============================] - 9s 12ms/step - loss: 0.0035 - mae: 0.0447 - val_loss: 0.0019 - val_mae: 0.0316\n",
      "Epoch 12/15\n",
      "734/735 [============================>.] - ETA: 0s - loss: 0.0034 - mae: 0.0438\n",
      "Epoch 12: val_mae did not improve from 0.03164\n",
      "735/735 [==============================] - 9s 13ms/step - loss: 0.0034 - mae: 0.0438 - val_loss: 0.0019 - val_mae: 0.0320\n",
      "Epoch 13/15\n",
      "733/735 [============================>.] - ETA: 0s - loss: 0.0033 - mae: 0.0433\n",
      "Epoch 13: val_mae improved from 0.03164 to 0.02886, saving model to best_model.h5\n",
      "735/735 [==============================] - 9s 12ms/step - loss: 0.0033 - mae: 0.0433 - val_loss: 0.0016 - val_mae: 0.0289\n",
      "Epoch 14/15\n",
      "733/735 [============================>.] - ETA: 0s - loss: 0.0033 - mae: 0.0428\n",
      "Epoch 14: val_mae did not improve from 0.02886\n",
      "735/735 [==============================] - 9s 12ms/step - loss: 0.0033 - mae: 0.0428 - val_loss: 0.0016 - val_mae: 0.0294\n",
      "Epoch 15/15\n",
      "733/735 [============================>.] - ETA: 0s - loss: 0.0032 - mae: 0.0424\n",
      "Epoch 15: val_mae improved from 0.02886 to 0.02858, saving model to best_model.h5\n",
      "735/735 [==============================] - 9s 12ms/step - loss: 0.0032 - mae: 0.0424 - val_loss: 0.0016 - val_mae: 0.0286\n"
     ]
    }
   ],
   "source": [
    "#Обучаем модель\n",
    "simple_rnn_model_history = simple_rnn_model.fit(X_train,y_train,batch_size=25,epochs=15,\n",
    "                                callbacks=callbacks_list,\n",
    "                                validation_data=(X_val,y_val))"
   ]
  },
  {
   "cell_type": "code",
   "execution_count": 32,
   "id": "63ff9984",
   "metadata": {},
   "outputs": [],
   "source": [
    "simple_rnn_model.load_weights('best_model.h5')"
   ]
  },
  {
   "cell_type": "code",
   "execution_count": 33,
   "id": "07c6a15f",
   "metadata": {},
   "outputs": [
    {
     "name": "stdout",
     "output_type": "stream",
     "text": [
      "123/123 [==============================] - 1s 6ms/step\n",
      "MAE =  1.471  K degrees\n",
      "R2-score =  0.945\n"
     ]
    }
   ],
   "source": [
    "#Оцениваем прогнозирование\n",
    "y_pred = simple_rnn_model.predict(X_test)\n",
    "y_pred_inv = min_max_scaler.inverse_transform(y_pred)\n",
    "y_test_inv = min_max_scaler.inverse_transform(y_test.reshape(-1,1))\n",
    "\n",
    "print('MAE = ',round(mean_absolute_error(y_true=y_test_inv,y_pred=y_pred_inv),3),' K degrees')\n",
    "print('R2-score = ',round(r2_score(y_test_inv,y_pred_inv),3))"
   ]
  },
  {
   "cell_type": "markdown",
   "id": "71383b7f",
   "metadata": {},
   "source": [
    "Выводы: \n",
    "* MAE = 1.471: Это означает, что в среднем прогнозы отклоняются от истинных значений всего на 1.471 градуса по Кельвину. Это довольно маленькое отклонение, особенно если учесть диапазон возможных значений температуры\n",
    "* R2 = 0.945: Это очень высокое значение, которое показывает, что модель очень хорошо соответствует наблюдаемым данным."
   ]
  },
  {
   "cell_type": "code",
   "execution_count": 34,
   "id": "ef3b5ede",
   "metadata": {},
   "outputs": [
    {
     "name": "stdout",
     "output_type": "stream",
     "text": [
      "123/123 [==============================] - 1s 6ms/step\n",
      "MSE для SimpleRNN-модели: 0.0012361247892373217\n"
     ]
    }
   ],
   "source": [
    "# SimpleRNN-модель\n",
    "y_pred_rnn = simple_rnn_model.predict(X_test)\n",
    "mse_rnn = mean_squared_error(y_test, y_pred_rnn)\n",
    "print(f'MSE для SimpleRNN-модели: {mse_rnn}')"
   ]
  },
  {
   "cell_type": "markdown",
   "id": "417f0152",
   "metadata": {},
   "source": [
    "Вывод: MSE (Средняя квадратичная ошибка) около 0.00124. Это число говорит о том, как далеки прогнозы от истинных значений ( на сколько они \"неправильны\"). Значение MSE близкое к нулю обычно свидетельствует о хорошей модели"
   ]
  },
  {
   "cell_type": "code",
   "execution_count": 35,
   "id": "32007a00",
   "metadata": {},
   "outputs": [
    {
     "name": "stdout",
     "output_type": "stream",
     "text": [
      "Model: \"sequential_2\"\n",
      "_________________________________________________________________\n",
      " Layer (type)                Output Shape              Param #   \n",
      "=================================================================\n",
      " lstm (LSTM)                 (None, 10)                480       \n",
      "                                                                 \n",
      " dropout_2 (Dropout)         (None, 10)                0         \n",
      "                                                                 \n",
      " dense_3 (Dense)             (None, 1)                 11        \n",
      "                                                                 \n",
      "=================================================================\n",
      "Total params: 491 (1.92 KB)\n",
      "Trainable params: 491 (1.92 KB)\n",
      "Non-trainable params: 0 (0.00 Byte)\n",
      "_________________________________________________________________\n"
     ]
    }
   ],
   "source": [
    "# Определяем lSTM в скрытом слое\n",
    "from keras.models import Sequential\n",
    "from keras.layers import Dense,LSTM\n",
    "\n",
    "model = Sequential()\n",
    "model.add(LSTM(10,input_shape=(window,1)))\n",
    "model.add(Dropout(0.2))  # добавляем прореживание Dropout\n",
    "model.add(Dense(1,activation='linear'))\n",
    "\n",
    "model.summary()"
   ]
  },
  {
   "cell_type": "code",
   "execution_count": 36,
   "id": "9810b1c9",
   "metadata": {},
   "outputs": [],
   "source": [
    "model.compile(optimizer='adam',loss='mse',metrics='mae')"
   ]
  },
  {
   "cell_type": "code",
   "execution_count": 37,
   "id": "27db71a1",
   "metadata": {
    "scrolled": true
   },
   "outputs": [
    {
     "name": "stdout",
     "output_type": "stream",
     "text": [
      "Epoch 1/30\n",
      "574/574 [==============================] - 20s 22ms/step - loss: 0.0320 - mae: 0.1201 - val_loss: 0.0041 - val_mae: 0.0497\n",
      "Epoch 2/30\n",
      "574/574 [==============================] - 11s 19ms/step - loss: 0.0094 - mae: 0.0747 - val_loss: 0.0038 - val_mae: 0.0474\n",
      "Epoch 3/30\n",
      "574/574 [==============================] - 11s 19ms/step - loss: 0.0078 - mae: 0.0675 - val_loss: 0.0039 - val_mae: 0.0482\n",
      "Epoch 4/30\n",
      "574/574 [==============================] - 11s 19ms/step - loss: 0.0063 - mae: 0.0605 - val_loss: 0.0037 - val_mae: 0.0471\n",
      "Epoch 5/30\n",
      "574/574 [==============================] - 11s 19ms/step - loss: 0.0053 - mae: 0.0553 - val_loss: 0.0036 - val_mae: 0.0467\n",
      "Epoch 6/30\n",
      "574/574 [==============================] - 11s 19ms/step - loss: 0.0045 - mae: 0.0507 - val_loss: 0.0035 - val_mae: 0.0455\n",
      "Epoch 7/30\n",
      "574/574 [==============================] - 11s 19ms/step - loss: 0.0040 - mae: 0.0478 - val_loss: 0.0033 - val_mae: 0.0442\n",
      "Epoch 8/30\n",
      "574/574 [==============================] - 11s 19ms/step - loss: 0.0035 - mae: 0.0447 - val_loss: 0.0028 - val_mae: 0.0405\n",
      "Epoch 9/30\n",
      "574/574 [==============================] - 11s 19ms/step - loss: 0.0030 - mae: 0.0411 - val_loss: 0.0023 - val_mae: 0.0361\n",
      "Epoch 10/30\n",
      "574/574 [==============================] - 11s 19ms/step - loss: 0.0025 - mae: 0.0374 - val_loss: 0.0017 - val_mae: 0.0304\n",
      "Epoch 11/30\n",
      "574/574 [==============================] - 11s 19ms/step - loss: 0.0021 - mae: 0.0339 - val_loss: 0.0014 - val_mae: 0.0282\n",
      "Epoch 12/30\n",
      "574/574 [==============================] - 11s 20ms/step - loss: 0.0019 - mae: 0.0324 - val_loss: 0.0011 - val_mae: 0.0246\n",
      "Epoch 13/30\n",
      "574/574 [==============================] - 11s 20ms/step - loss: 0.0019 - mae: 0.0317 - val_loss: 0.0010 - val_mae: 0.0232\n",
      "Epoch 14/30\n",
      "574/574 [==============================] - 11s 20ms/step - loss: 0.0018 - mae: 0.0313 - val_loss: 9.9968e-04 - val_mae: 0.0229\n",
      "Epoch 15/30\n",
      "574/574 [==============================] - 11s 20ms/step - loss: 0.0018 - mae: 0.0312 - val_loss: 9.9152e-04 - val_mae: 0.0230\n",
      "Epoch 16/30\n",
      "574/574 [==============================] - 12s 21ms/step - loss: 0.0017 - mae: 0.0309 - val_loss: 9.6955e-04 - val_mae: 0.0227\n",
      "Epoch 17/30\n",
      "574/574 [==============================] - 12s 21ms/step - loss: 0.0017 - mae: 0.0303 - val_loss: 9.3328e-04 - val_mae: 0.0224\n",
      "Epoch 18/30\n",
      "574/574 [==============================] - 12s 20ms/step - loss: 0.0016 - mae: 0.0295 - val_loss: 8.7890e-04 - val_mae: 0.0215\n",
      "Epoch 19/30\n",
      "574/574 [==============================] - 11s 20ms/step - loss: 0.0016 - mae: 0.0295 - val_loss: 8.6001e-04 - val_mae: 0.0216\n",
      "Epoch 20/30\n",
      "574/574 [==============================] - 11s 20ms/step - loss: 0.0015 - mae: 0.0290 - val_loss: 9.0321e-04 - val_mae: 0.0222\n",
      "Epoch 21/30\n",
      "574/574 [==============================] - 11s 19ms/step - loss: 0.0015 - mae: 0.0285 - val_loss: 8.5030e-04 - val_mae: 0.0213\n",
      "Epoch 22/30\n",
      "574/574 [==============================] - 11s 20ms/step - loss: 0.0015 - mae: 0.0286 - val_loss: 8.7088e-04 - val_mae: 0.0218\n",
      "Epoch 23/30\n",
      "574/574 [==============================] - 12s 20ms/step - loss: 0.0014 - mae: 0.0285 - val_loss: 8.3422e-04 - val_mae: 0.0213\n",
      "Epoch 24/30\n",
      "574/574 [==============================] - 11s 20ms/step - loss: 0.0014 - mae: 0.0284 - val_loss: 8.9864e-04 - val_mae: 0.0222\n",
      "Epoch 25/30\n",
      "574/574 [==============================] - 11s 20ms/step - loss: 0.0014 - mae: 0.0281 - val_loss: 8.3838e-04 - val_mae: 0.0210\n",
      "Epoch 26/30\n",
      "574/574 [==============================] - 11s 20ms/step - loss: 0.0014 - mae: 0.0280 - val_loss: 8.2912e-04 - val_mae: 0.0213\n",
      "Epoch 27/30\n",
      "574/574 [==============================] - 12s 21ms/step - loss: 0.0014 - mae: 0.0277 - val_loss: 8.3847e-04 - val_mae: 0.0212\n",
      "Epoch 28/30\n",
      "574/574 [==============================] - 12s 21ms/step - loss: 0.0013 - mae: 0.0275 - val_loss: 8.6645e-04 - val_mae: 0.0216\n",
      "Epoch 29/30\n",
      "574/574 [==============================] - 11s 20ms/step - loss: 0.0014 - mae: 0.0277 - val_loss: 8.2457e-04 - val_mae: 0.0209\n",
      "Epoch 30/30\n",
      "574/574 [==============================] - 11s 20ms/step - loss: 0.0014 - mae: 0.0276 - val_loss: 8.1846e-04 - val_mae: 0.0207\n"
     ]
    }
   ],
   "source": [
    "#Обучаем модель\n",
    "history = model.fit(X_train,y_train,epochs=30,batch_size=32,\n",
    "                    validation_data=(X_val,y_val))"
   ]
  },
  {
   "cell_type": "code",
   "execution_count": 38,
   "id": "4f7f1082",
   "metadata": {},
   "outputs": [
    {
     "name": "stdout",
     "output_type": "stream",
     "text": [
      "123/123 [==============================] - 2s 8ms/step\n"
     ]
    }
   ],
   "source": [
    "y_pred = model.predict(X_test)\n",
    "y_pred_inv = min_max_scaler.inverse_transform(y_pred)\n",
    "y_test_inv = min_max_scaler.inverse_transform(y_test.reshape(-1,1))"
   ]
  },
  {
   "cell_type": "code",
   "execution_count": 39,
   "id": "8b510842",
   "metadata": {},
   "outputs": [
    {
     "data": {
      "image/png": "[encoded data removed]",
      "text/plain": [
       "<Figure size 640x480 with 1 Axes>"
      ]
     },
     "metadata": {},
     "output_type": "display_data"
    }
   ],
   "source": [
    "# Вычисляем метрику MAE\n",
    "mae = history.history['mae']\n",
    "val_mae = history.history['val_mae']\n",
    "epochs = range(1,len(mae)+1)\n",
    "\n",
    "plt.title('Потери на обучающей и валидационной выборках')\n",
    "plt.plot(epochs,mae,color='blue',label='Ошибка обучения (MAE)')\n",
    "plt.plot(epochs,val_mae,color='red',label='Ошибка валидации (MAE)')\n",
    "plt.xlabel('Эпоха')\n",
    "plt.ylabel('Ошибка модели (MAE)')\n",
    "plt.legend()\n",
    "plt.show()"
   ]
  },
  {
   "cell_type": "markdown",
   "id": "92321d68",
   "metadata": {},
   "source": [
    "Вывод: Кривые сначала снижались, а затем шли стабильно. Это говорит о том, что модель достаточно обучилась. Если бы кривые продолжали убывать, это говорило бы о недообучении, а при возрастании - о переобучении"
   ]
  },
  {
   "cell_type": "code",
   "execution_count": 40,
   "id": "82d203ba",
   "metadata": {},
   "outputs": [
    {
     "name": "stdout",
     "output_type": "stream",
     "text": [
      "123/123 [==============================] - 1s 7ms/step\n",
      "R2 Score (Test) =  0.967\n",
      "MAE (Test) =  1.165\n"
     ]
    }
   ],
   "source": [
    "#Оцениваем прогнозирование\n",
    "y_pred = model.predict(X_test)\n",
    "y_pred_inv = min_max_scaler.inverse_transform(y_pred)\n",
    "y_test_inv = min_max_scaler.inverse_transform(y_test.reshape(-1,1))\n",
    "\n",
    "from sklearn.metrics import r2_score,mean_absolute_error\n",
    "\n",
    "print('R2 Score (Test) = ',round(r2_score(y_true=y_test_inv,y_pred=y_pred_inv),3))\n",
    "print('MAE (Test) = ',round(mean_absolute_error(y_true=y_test_inv,\n",
    "                                                     y_pred=y_pred_inv),3))"
   ]
  },
  {
   "cell_type": "markdown",
   "id": "1039b83d",
   "metadata": {},
   "source": [
    "Вывод: \n",
    "* R2 = 0.967: Это очень высокое значение, которое показывает, что модель очень хорошо соответствует наблюдаемым данным.\n",
    "* MAE = 1.165: Это означает, что в среднем прогнозы отклоняются от истинных значений всего на 1.165 градуса по Кельвину. Это довольно маленькое отклонение, особенно если учесть диапазон возможных значений температуры"
   ]
  },
  {
   "cell_type": "code",
   "execution_count": 41,
   "id": "e71921d0",
   "metadata": {},
   "outputs": [
    {
     "data": {
      "text/plain": [
       "[<matplotlib.lines.Line2D at 0x2577075d280>]"
      ]
     },
     "execution_count": 41,
     "metadata": {},
     "output_type": "execute_result"
    },
    {
     "data": {
      "image/png": "[encoded data removed]",
      "text/plain": [
       "<Figure size 640x480 with 1 Axes>"
      ]
     },
     "metadata": {},
     "output_type": "display_data"
    }
   ],
   "source": [
    "#Построение графиков\n",
    "plt.plot(range(1,len(y_test_inv)+1),y_test_inv)\n",
    "plt.plot(range(1,len(y_pred_inv)+1),y_pred_inv)"
   ]
  },
  {
   "cell_type": "code",
   "execution_count": 48,
   "id": "dce67bcd",
   "metadata": {},
   "outputs": [
    {
     "name": "stdout",
     "output_type": "stream",
     "text": [
      "123/123 [==============================] - 1s 7ms/step\n",
      "MSE для LSTM-модели: 0.0007376451936121378\n"
     ]
    }
   ],
   "source": [
    "# LSTM-модель\n",
    "y_pred_lstm = model.predict(X_test)\n",
    "mse_lstm = mean_squared_error(y_test, y_pred_lstm)\n",
    "print(f'MSE для LSTM-модели: {mse_lstm}')"
   ]
  },
  {
   "cell_type": "markdown",
   "id": "c65bf7df",
   "metadata": {},
   "source": [
    "Вывод: MSE (Средняя квадратичная ошибка) около 0.00074. Это число говорит о том, как далеки прогнозы от истинных значений. Значение MSE близкое к нулю обычно свидетельствует о хорошей модели"
   ]
  },
  {
   "cell_type": "code",
   "execution_count": 42,
   "id": "418ae3ab",
   "metadata": {},
   "outputs": [
    {
     "name": "stdout",
     "output_type": "stream",
     "text": [
      "Model: \"sequential_3\"\n",
      "_________________________________________________________________\n",
      " Layer (type)                Output Shape              Param #   \n",
      "=================================================================\n",
      " lstm_1 (LSTM)               (None, 15, 10)            480       \n",
      "                                                                 \n",
      " dropout_3 (Dropout)         (None, 15, 10)            0         \n",
      "                                                                 \n",
      " lstm_2 (LSTM)               (None, 10)                840       \n",
      "                                                                 \n",
      " dropout_4 (Dropout)         (None, 10)                0         \n",
      "                                                                 \n",
      " dense_4 (Dense)             (None, 1)                 11        \n",
      "                                                                 \n",
      "=================================================================\n",
      "Total params: 1331 (5.20 KB)\n",
      "Trainable params: 1331 (5.20 KB)\n",
      "Non-trainable params: 0 (0.00 Byte)\n",
      "_________________________________________________________________\n"
     ]
    }
   ],
   "source": [
    "#Определяем стек из двух слоев LSTM\n",
    "from keras.models import Sequential\n",
    "from keras.layers import Dense,LSTM\n",
    "\n",
    "stacked_lstm_model = Sequential()\n",
    "stacked_lstm_model.add(LSTM(10, input_shape=(window,1), return_sequences=True)) # Первый слой LSTM\n",
    "stacked_lstm_model.add(Dropout(0.2))  # Dropout после первого слоя LSTM\n",
    "stacked_lstm_model.add(LSTM(10)) # Второй слой LSTM\n",
    "stacked_lstm_model.add(Dropout(0.2))  # Dropout после второго слоя LSTM\n",
    "stacked_lstm_model.add(Dense(1,activation='linear'))\n",
    "\n",
    "stacked_lstm_model.summary()"
   ]
  },
  {
   "cell_type": "code",
   "execution_count": 43,
   "id": "86e6bdd1",
   "metadata": {},
   "outputs": [
    {
     "name": "stdout",
     "output_type": "stream",
     "text": [
      "Epoch 1/30\n",
      "574/574 [==============================] - 35s 37ms/step - loss: 0.0243 - mae: 0.1123 - val_loss: 0.0042 - val_mae: 0.0498\n",
      "Epoch 2/30\n",
      "574/574 [==============================] - 19s 33ms/step - loss: 0.0099 - mae: 0.0771 - val_loss: 0.0039 - val_mae: 0.0483\n",
      "Epoch 3/30\n",
      "574/574 [==============================] - 19s 33ms/step - loss: 0.0073 - mae: 0.0653 - val_loss: 0.0039 - val_mae: 0.0478\n",
      "Epoch 4/30\n",
      "574/574 [==============================] - 19s 33ms/step - loss: 0.0058 - mae: 0.0580 - val_loss: 0.0038 - val_mae: 0.0477\n",
      "Epoch 5/30\n",
      "574/574 [==============================] - 19s 33ms/step - loss: 0.0049 - mae: 0.0533 - val_loss: 0.0038 - val_mae: 0.0475\n",
      "Epoch 6/30\n",
      "574/574 [==============================] - 19s 33ms/step - loss: 0.0044 - mae: 0.0507 - val_loss: 0.0038 - val_mae: 0.0481\n",
      "Epoch 7/30\n",
      "574/574 [==============================] - 19s 33ms/step - loss: 0.0042 - mae: 0.0497 - val_loss: 0.0036 - val_mae: 0.0462\n",
      "Epoch 8/30\n",
      "574/574 [==============================] - 19s 33ms/step - loss: 0.0041 - mae: 0.0493 - val_loss: 0.0036 - val_mae: 0.0461\n",
      "Epoch 9/30\n",
      "574/574 [==============================] - 19s 33ms/step - loss: 0.0041 - mae: 0.0491 - val_loss: 0.0037 - val_mae: 0.0471\n",
      "Epoch 10/30\n",
      "574/574 [==============================] - 19s 33ms/step - loss: 0.0040 - mae: 0.0484 - val_loss: 0.0037 - val_mae: 0.0468\n",
      "Epoch 11/30\n",
      "574/574 [==============================] - 19s 33ms/step - loss: 0.0034 - mae: 0.0446 - val_loss: 0.0018 - val_mae: 0.0330\n",
      "Epoch 12/30\n",
      "574/574 [==============================] - 20s 35ms/step - loss: 0.0023 - mae: 0.0370 - val_loss: 0.0013 - val_mae: 0.0275\n",
      "Epoch 13/30\n",
      "574/574 [==============================] - 19s 33ms/step - loss: 0.0020 - mae: 0.0343 - val_loss: 0.0012 - val_mae: 0.0253\n",
      "Epoch 14/30\n",
      "574/574 [==============================] - 20s 35ms/step - loss: 0.0019 - mae: 0.0329 - val_loss: 0.0010 - val_mae: 0.0240\n",
      "Epoch 15/30\n",
      "574/574 [==============================] - 19s 34ms/step - loss: 0.0018 - mae: 0.0318 - val_loss: 0.0011 - val_mae: 0.0245\n",
      "Epoch 16/30\n",
      "574/574 [==============================] - 19s 33ms/step - loss: 0.0017 - mae: 0.0312 - val_loss: 0.0011 - val_mae: 0.0249\n",
      "Epoch 17/30\n",
      "574/574 [==============================] - 19s 33ms/step - loss: 0.0017 - mae: 0.0309 - val_loss: 9.7768e-04 - val_mae: 0.0232\n",
      "Epoch 18/30\n",
      "574/574 [==============================] - 19s 34ms/step - loss: 0.0017 - mae: 0.0306 - val_loss: 9.4500e-04 - val_mae: 0.0230\n",
      "Epoch 19/30\n",
      "574/574 [==============================] - 19s 33ms/step - loss: 0.0016 - mae: 0.0302 - val_loss: 8.4091e-04 - val_mae: 0.0214\n",
      "Epoch 20/30\n",
      "574/574 [==============================] - 19s 33ms/step - loss: 0.0016 - mae: 0.0301 - val_loss: 8.8076e-04 - val_mae: 0.0221\n",
      "Epoch 21/30\n",
      "574/574 [==============================] - 19s 34ms/step - loss: 0.0016 - mae: 0.0301 - val_loss: 8.9531e-04 - val_mae: 0.0222\n",
      "Epoch 22/30\n",
      "574/574 [==============================] - 19s 34ms/step - loss: 0.0016 - mae: 0.0298 - val_loss: 8.6310e-04 - val_mae: 0.0217\n",
      "Epoch 23/30\n",
      "574/574 [==============================] - 19s 33ms/step - loss: 0.0015 - mae: 0.0296 - val_loss: 8.8652e-04 - val_mae: 0.0220\n",
      "Epoch 24/30\n",
      "574/574 [==============================] - 19s 34ms/step - loss: 0.0015 - mae: 0.0295 - val_loss: 9.7468e-04 - val_mae: 0.0235\n",
      "Epoch 25/30\n",
      "574/574 [==============================] - 19s 34ms/step - loss: 0.0015 - mae: 0.0293 - val_loss: 8.1892e-04 - val_mae: 0.0209\n",
      "Epoch 26/30\n",
      "574/574 [==============================] - 19s 34ms/step - loss: 0.0015 - mae: 0.0292 - val_loss: 8.3613e-04 - val_mae: 0.0214\n",
      "Epoch 27/30\n",
      "574/574 [==============================] - 19s 33ms/step - loss: 0.0015 - mae: 0.0295 - val_loss: 8.8387e-04 - val_mae: 0.0221\n",
      "Epoch 28/30\n",
      "574/574 [==============================] - 19s 34ms/step - loss: 0.0015 - mae: 0.0292 - val_loss: 8.3894e-04 - val_mae: 0.0214\n",
      "Epoch 29/30\n",
      "574/574 [==============================] - 19s 34ms/step - loss: 0.0015 - mae: 0.0289 - val_loss: 8.5506e-04 - val_mae: 0.0215\n",
      "Epoch 30/30\n",
      "574/574 [==============================] - 19s 33ms/step - loss: 0.0015 - mae: 0.0289 - val_loss: 9.3714e-04 - val_mae: 0.0228\n"
     ]
    }
   ],
   "source": [
    "#Обучаем модель\n",
    "stacked_lstm_model.compile(optimizer='adam',loss='mse',metrics='mae')\n",
    "\n",
    "history = stacked_lstm_model.fit(X_train,y_train,epochs=30,batch_size=32,\n",
    "                                 validation_data=(X_val,y_val))"
   ]
  },
  {
   "cell_type": "code",
   "execution_count": 44,
   "id": "b1c3c60a",
   "metadata": {},
   "outputs": [
    {
     "name": "stdout",
     "output_type": "stream",
     "text": [
      "123/123 [==============================] - 4s 11ms/step\n"
     ]
    }
   ],
   "source": [
    "# Вычисление прогноза и обратное преобразование для получения температуры\n",
    "y_pred = stacked_lstm_model.predict(X_test)\n",
    "y_pred_inv = min_max_scaler.inverse_transform(y_pred)\n",
    "y_test_inv = min_max_scaler.inverse_transform(y_test.reshape(-1,1))"
   ]
  },
  {
   "cell_type": "code",
   "execution_count": 45,
   "id": "e473be2b",
   "metadata": {},
   "outputs": [
    {
     "data": {
      "image/png": "[encoded data removed]",
      "text/plain": [
       "<Figure size 640x480 with 1 Axes>"
      ]
     },
     "metadata": {},
     "output_type": "display_data"
    }
   ],
   "source": [
    "# Вывод значений ошибок \n",
    "mae = history.history['mae']\n",
    "val_mae = history.history['val_mae']\n",
    "epochs = range(1,len(mae)+1)\n",
    "\n",
    "plt.title('Потери на обучающей и валидационной выборках')\n",
    "plt.plot(epochs,mae,color='blue',label='Ошибка обучения (MAE)')\n",
    "plt.plot(epochs,val_mae,color='red',label='Ошибка валидации (MAE)')\n",
    "plt.xlabel('Эпоха')\n",
    "plt.ylabel('Ошибка модели (MAE)')\n",
    "plt.legend()\n",
    "plt.show()"
   ]
  },
  {
   "cell_type": "markdown",
   "id": "d587b278",
   "metadata": {},
   "source": [
    "Вывод: Кривые сначала снижались, а затем шли стабильно. Это говорит о том, что модель достаточно обучилась. Если бы кривые продолжали убывать, это говорило бы о недообучении, а при возрастании - о переобучении"
   ]
  },
  {
   "cell_type": "code",
   "execution_count": 50,
   "id": "1ffb45c1",
   "metadata": {},
   "outputs": [
    {
     "name": "stdout",
     "output_type": "stream",
     "text": [
      "R2 Score (Test) =  0.962\n",
      "MAE (Test) =  1.274\n"
     ]
    }
   ],
   "source": [
    "# Выведем на экран коэффициент детерминации и среднюю абсолютную ошибку\n",
    "print('R2 Score (Test) = ',round(r2_score(y_true=y_test_inv,y_pred=y_pred_inv),3))\n",
    "print('MAE (Test) = ',round(mean_absolute_error(y_true=y_test_inv,y_pred=y_pred_inv),3))"
   ]
  },
  {
   "cell_type": "markdown",
   "id": "ded33193",
   "metadata": {},
   "source": [
    "Вывод: \n",
    "* R2 = 0.962: Это очень высокое значение, которое показывает, что модель очень хорошо соответствует наблюдаемым данным.\n",
    "* MAE = 1.274: Это означает, что в среднем прогнозы отклоняются от истинных значений всего на 1.274 градуса по Кельвину. Это довольно маленькое отклонение, особенно если учесть диапазон возможных значений температуры"
   ]
  },
  {
   "cell_type": "code",
   "execution_count": 47,
   "id": "44710d3e",
   "metadata": {},
   "outputs": [
    {
     "data": {
      "text/plain": [
       "[<matplotlib.lines.Line2D at 0x25776c9cfd0>]"
      ]
     },
     "execution_count": 47,
     "metadata": {},
     "output_type": "execute_result"
    },
    {
     "data": {
      "image/png": "[encoded data removed]",
      "text/plain": [
       "<Figure size 640x480 with 1 Axes>"
      ]
     },
     "metadata": {},
     "output_type": "display_data"
    }
   ],
   "source": [
    "# График сравнения прогнозируемых и реальных значений температуры\n",
    "plt.plot(range(1,len(y_test_inv)+1),y_test_inv)\n",
    "plt.plot(range(1,len(y_pred_inv)+1),y_pred_inv)"
   ]
  },
  {
   "cell_type": "code",
   "execution_count": 49,
   "id": "88594a4d",
   "metadata": {},
   "outputs": [
    {
     "name": "stdout",
     "output_type": "stream",
     "text": [
      "123/123 [==============================] - 1s 10ms/step\n",
      "MSE: 0.0008571855478003175\n"
     ]
    }
   ],
   "source": [
    "# Вычисляем MSE\n",
    "y_pred = stacked_lstm_model.predict(X_test)\n",
    "mse = mean_squared_error(y_test, y_pred)\n",
    "\n",
    "print('MSE:', mse)"
   ]
  },
  {
   "cell_type": "markdown",
   "id": "ef2c2cc2",
   "metadata": {},
   "source": [
    "Вывод: MSE (Средняя квадратичная ошибка) около 0.00086. Это число говорит о том, как далеки прогнозы от истинных значений. Значение MSE близкое к нулю обычно свидетельствует о хорошей модели"
   ]
  },
  {
   "cell_type": "markdown",
   "id": "b0658dc1",
   "metadata": {},
   "source": [
    "### Вывод: \n",
    "Результаты показывают, что \"Регрессор – стек двух слоёв с LSTM \" обладает наилучшей предсказательной способностью, в то время как \"Регрессор, использующий слой RNN в качестве скрытого слоя\" и \"Регрессор, ячейку LSTM в скрытом слое\" также демонстрируют хорошие результаты, но с некоторыми отличиями.\n"
   ]
  }
 ],
 "metadata": {
  "kernelspec": {
   "display_name": "Python 3 (ipykernel)",
   "language": "python",
   "name": "python3"
  },
  "language_info": {
   "codemirror_mode": {
    "name": "ipython",
    "version": 3
   },
   "file_extension": ".py",
   "mimetype": "text/x-python",
   "name": "python",
   "nbconvert_exporter": "python",
   "pygments_lexer": "ipython3",
   "version": "3.9.0"
  }
 },
 "nbformat": 4,
 "nbformat_minor": 5
}
