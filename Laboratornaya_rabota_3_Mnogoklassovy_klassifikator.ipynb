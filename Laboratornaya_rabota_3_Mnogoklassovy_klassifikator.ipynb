{
 "cells": [
  {
   "cell_type": "markdown",
   "id": "fecc3e89",
   "metadata": {},
   "source": [
    "# Мещерякова Ксения, 932003"
   ]
  },
  {
   "cell_type": "code",
   "execution_count": 1,
   "id": "3b21d9e2",
   "metadata": {},
   "outputs": [
    {
     "name": "stdout",
     "output_type": "stream",
     "text": [
      "WARNING:tensorflow:From c:\\users\\ksenia\\appdata\\local\\programs\\python\\python39\\lib\\site-packages\\keras\\src\\losses.py:2976: The name tf.losses.sparse_softmax_cross_entropy is deprecated. Please use tf.compat.v1.losses.sparse_softmax_cross_entropy instead.\n",
      "\n"
     ]
    }
   ],
   "source": [
    "import os\n",
    "import numpy as np\n",
    "import matplotlib.pyplot as plt\n",
    "import tensorflow as tf\n",
    "from tensorflow.python.keras.layers import Conv2D, MaxPooling2D\n",
    "from tensorflow.keras.preprocessing.image import ImageDataGenerator\n",
    "from tensorflow.keras.optimizers import RMSprop"
   ]
  },
  {
   "cell_type": "code",
   "execution_count": 2,
   "id": "f9e8b9dc",
   "metadata": {},
   "outputs": [],
   "source": [
    "# Гиперпараметры (закомментированные числа - это числа, которые я бы хотела использовать, но у меня не хватает терпения дождаться результатов)\n",
    "IMG_HEIGHT = IMG_WIDTH = 150\n",
    "IMG_CHANNEL = 3\n",
    "EPOCHS = 5 #30\n",
    "BATCH_SIZE = 60 #16\n",
    "TRAIN_SAMPLES = 2000 #10625\n",
    "VAL_SAMPLES = 700\n",
    "TEST_SAMPLES = 700"
   ]
  },
  {
   "cell_type": "code",
   "execution_count": 3,
   "id": "a49c892e",
   "metadata": {},
   "outputs": [],
   "source": [
    "# Каталоги с данными\n",
    "train_dir = 'train'\n",
    "validation_dir = 'val'\n",
    "test_dir = 'test'"
   ]
  },
  {
   "cell_type": "code",
   "execution_count": 4,
   "id": "80c9d2b8",
   "metadata": {},
   "outputs": [],
   "source": [
    "# Генераторы изображений\n",
    "train_datagen = ImageDataGenerator(\n",
    "    rescale=1./255,\n",
    "    rotation_range=40,\n",
    "    width_shift_range=0.2,\n",
    "    height_shift_range=0.2,\n",
    "    shear_range=0.2,\n",
    "    zoom_range=0.2,\n",
    "    horizontal_flip=True,\n",
    "    fill_mode='nearest')"
   ]
  },
  {
   "cell_type": "code",
   "execution_count": 5,
   "id": "98bf12ce",
   "metadata": {},
   "outputs": [],
   "source": [
    "test_and_val_datagen = ImageDataGenerator(rescale=1./255)"
   ]
  },
  {
   "cell_type": "code",
   "execution_count": 6,
   "id": "9504134c",
   "metadata": {},
   "outputs": [
    {
     "name": "stdout",
     "output_type": "stream",
     "text": [
      "Found 14145 images belonging to 3 classes.\n",
      "Found 950 images belonging to 3 classes.\n",
      "Found 950 images belonging to 3 classes.\n"
     ]
    }
   ],
   "source": [
    "# Обучающая, тестовая и валидационная выборки\n",
    "train_generator = train_datagen.flow_from_directory(\n",
    "    train_dir,\n",
    "    target_size=(IMG_HEIGHT, IMG_WIDTH),\n",
    "    batch_size=BATCH_SIZE,\n",
    "    class_mode='categorical')  \n",
    "\n",
    "validation_generator = test_and_val_datagen.flow_from_directory(\n",
    "    validation_dir,\n",
    "    target_size=(IMG_HEIGHT, IMG_WIDTH),\n",
    "    batch_size=BATCH_SIZE,\n",
    "    class_mode='categorical')  \n",
    "\n",
    "test_generator = test_and_val_datagen.flow_from_directory(\n",
    "    test_dir,\n",
    "    target_size=(IMG_HEIGHT, IMG_WIDTH),\n",
    "    batch_size=BATCH_SIZE,\n",
    "    class_mode='categorical')"
   ]
  },
  {
   "cell_type": "code",
   "execution_count": 10,
   "id": "5e9f0481",
   "metadata": {},
   "outputs": [
    {
     "name": "stdout",
     "output_type": "stream",
     "text": [
      "WARNING:tensorflow:From c:\\users\\ksenia\\appdata\\local\\programs\\python\\python39\\lib\\site-packages\\keras\\src\\layers\\pooling\\max_pooling2d.py:161: The name tf.nn.max_pool is deprecated. Please use tf.nn.max_pool2d instead.\n",
      "\n",
      "Downloading data from https://storage.googleapis.com/tensorflow/keras-applications/vgg16/vgg16_weights_tf_dim_ordering_tf_kernels_notop.h5\n",
      "58889256/58889256 [==============================] - 536s 9us/step\n"
     ]
    }
   ],
   "source": [
    "# Используем VGG16\n",
    "from tensorflow.keras.applications import VGG16\n",
    "\n",
    "conv_base = VGG16(weights='imagenet',\n",
    "                  include_top=False,\n",
    "                  input_shape=(IMG_HEIGHT, IMG_WIDTH, IMG_CHANNEL))"
   ]
  },
  {
   "cell_type": "code",
   "execution_count": 11,
   "id": "68abbab4",
   "metadata": {},
   "outputs": [],
   "source": [
    "# Модель обрабатывает входные данные от первого слоя к последнему\n",
    "model = tf.keras.models.Sequential()\n",
    "model.add(conv_base)\n",
    "model.add(tf.keras.layers.Flatten())\n",
    "model.add(tf.keras.layers.Dense(256, activation='relu'))\n",
    "model.add(tf.keras.layers.Dense(3, activation='softmax'))  # Three classes"
   ]
  },
  {
   "cell_type": "code",
   "execution_count": 12,
   "id": "68c35654",
   "metadata": {},
   "outputs": [],
   "source": [
    "conv_base.trainable = False"
   ]
  },
  {
   "cell_type": "code",
   "execution_count": 13,
   "id": "03ada264",
   "metadata": {},
   "outputs": [],
   "source": [
    "# Разморозка всех слоев сверточной базы\n",
    "conv_base.trainable = True\n",
    "\n",
    "# Заморозка слоев до определенного слоя по имени\n",
    "layers_to_freeze_until = 'block5_conv1'\n",
    "for layer in conv_base.layers:\n",
    "    if layer.name == layers_to_freeze_until:\n",
    "        break\n",
    "    layer.trainable = False"
   ]
  },
  {
   "cell_type": "code",
   "execution_count": 14,
   "id": "747a1e42",
   "metadata": {},
   "outputs": [
    {
     "name": "stderr",
     "output_type": "stream",
     "text": [
      "WARNING:absl:`lr` is deprecated in Keras optimizer, please use `learning_rate` or use the legacy optimizer, e.g.,tf.keras.optimizers.legacy.RMSprop.\n"
     ]
    }
   ],
   "source": [
    "#Компилируем модель после любых изменений в trainable\n",
    "model.compile(loss='categorical_crossentropy',\n",
    "              optimizer=RMSprop(lr=1e-4),\n",
    "              metrics=['acc'])"
   ]
  },
  {
   "cell_type": "code",
   "execution_count": 19,
   "id": "009aaaf1",
   "metadata": {},
   "outputs": [],
   "source": [
    "checkpoint_cb = ModelCheckpoint(\"best_model.h5\", save_best_only=True)\n"
   ]
  },
  {
   "cell_type": "code",
   "execution_count": 17,
   "id": "92274e77",
   "metadata": {},
   "outputs": [
    {
     "name": "stdout",
     "output_type": "stream",
     "text": [
      "Epoch 1/5\n",
      "33/33 [==============================] - 694s 21s/step - loss: 1.7262 - acc: 0.5000 - val_loss: 1.0950 - val_acc: 0.3750\n",
      "Epoch 2/5\n",
      "33/33 [==============================] - 756s 23s/step - loss: 1.0701 - acc: 0.5038 - val_loss: 1.0903 - val_acc: 0.3920\n",
      "Epoch 3/5\n",
      "33/33 [==============================] - 1029s 32s/step - loss: 1.0487 - acc: 0.5170 - val_loss: 1.1046 - val_acc: 0.3750\n",
      "Epoch 4/5\n",
      "33/33 [==============================] - 868s 26s/step - loss: 1.0260 - acc: 0.5284 - val_loss: 1.1308 - val_acc: 0.3693\n",
      "Epoch 5/5\n",
      "33/33 [==============================] - 803s 24s/step - loss: 1.0482 - acc: 0.4886 - val_loss: 1.1723 - val_acc: 0.3068\n"
     ]
    }
   ],
   "source": [
    "# Обучение\n",
    "history = model.fit(\n",
    "    train_generator,\n",
    "    steps_per_epoch=TRAIN_SAMPLES // BATCH_SIZE,\n",
    "    epochs=EPOCHS,\n",
    "    validation_data=validation_generator,\n",
    "    validation_steps=VAL_SAMPLES // BATCH_SIZE)"
   ]
  },
  {
   "cell_type": "code",
   "execution_count": 21,
   "id": "70802cf0",
   "metadata": {},
   "outputs": [
    {
     "name": "stdout",
     "output_type": "stream",
     "text": [
      "11/11 [==============================] - 162s 14s/step - loss: 1.1708 - acc: 0.3125\n",
      "Test loss: 1.1708487272262573\n",
      "Test accuracy: 0.3125\n"
     ]
    }
   ],
   "source": [
    "# Оценка модели на тестировании\n",
    "score = model.evaluate(test_generator, steps=TEST_SAMPLES // BATCH_SIZE)\n",
    "print('Test loss:', score[0])\n",
    "print('Test accuracy:', score[1])"
   ]
  },
  {
   "cell_type": "markdown",
   "id": "abbf3c99",
   "metadata": {},
   "source": [
    "Вывод: Test loss - это показатель ошибки на тестовом наборе данных. Большой показатель loss говорит о том, что модель делает большие ошибки при прогнозировании. Test accuracy - это показатель точности тестирования. В данном случае точность равна примерно 31.25%, что говорит о том, что модель правильно классифицировала только около 31.25% тестовых примеров."
   ]
  },
  {
   "cell_type": "code",
   "execution_count": 22,
   "id": "70b58dce",
   "metadata": {},
   "outputs": [],
   "source": [
    "# Получение данных истории обучения\n",
    "acc = history.history['acc']\n",
    "val_acc = history.history['val_acc']\n",
    "loss = history.history['loss']\n",
    "val_loss = history.history['val_loss']\n",
    "\n",
    "epochs = range(1, len(acc) + 1)"
   ]
  },
  {
   "cell_type": "code",
   "execution_count": 23,
   "id": "8c3004e0",
   "metadata": {},
   "outputs": [
    {
     "data": {
      "text/plain": [
       "<matplotlib.legend.Legend at 0x2ca24665340>"
      ]
     },
     "execution_count": 23,
     "metadata": {},
     "output_type": "execute_result"
    },
    {
     "data": {
      "image/png": "[encoded data removed]",
      "text/plain": [
       "<Figure size 1200x400 with 1 Axes>"
      ]
     },
     "metadata": {},
     "output_type": "display_data"
    }
   ],
   "source": [
    "# Создаем график точности\n",
    "plt.figure(figsize=(12, 4))\n",
    "plt.subplot(1, 2, 1)\n",
    "plt.plot(epochs, acc, 'bo', label='Training acc')\n",
    "plt.plot(epochs, val_acc, 'b', label='Validation acc')\n",
    "plt.title('Training and Validation Accuracy')\n",
    "plt.xlabel('Epochs')\n",
    "plt.ylabel('Accuracy')\n",
    "plt.legend()"
   ]
  },
  {
   "cell_type": "markdown",
   "id": "a79c2b61",
   "metadata": {},
   "source": [
    "Вывод: Training Accuracy и Validation Accuracy убывают, что означает, что модель обучается неэффективно и плохо справляется с новыми данными"
   ]
  },
  {
   "cell_type": "code",
   "execution_count": 24,
   "id": "76306066",
   "metadata": {},
   "outputs": [
    {
     "data": {
      "image/png": "[encoded data removed]",
      "text/plain": [
       "<Figure size 640x480 with 1 Axes>"
      ]
     },
     "metadata": {},
     "output_type": "display_data"
    }
   ],
   "source": [
    "# Создаем график потерь\n",
    "plt.subplot(1, 2, 2)\n",
    "plt.plot(epochs, loss, 'bo', label='Training loss')\n",
    "plt.plot(epochs, val_loss, 'b', label='Validation loss')\n",
    "plt.title('Training and Validation Loss')\n",
    "plt.xlabel('Epochs')\n",
    "plt.ylabel('Loss')\n",
    "plt.legend()\n",
    "\n",
    "plt.show()"
   ]
  },
  {
   "cell_type": "markdown",
   "id": "d9f487be",
   "metadata": {},
   "source": [
    "Вывод: Training Loss и Validation Loss возрастают, что говорит, что модель недообучена и что возможно стоит провести дополнительное обучение или увеличить сложность модели. Но, повторюсь, процесс обучения прям очень долгий и мне не хватает терпения его дождаться"
   ]
  },
  {
   "cell_type": "code",
   "execution_count": 8,
   "id": "a3125d75",
   "metadata": {},
   "outputs": [
    {
     "name": "stdout",
     "output_type": "stream",
     "text": [
      "WARNING:tensorflow:From c:\\users\\ksenia\\appdata\\local\\programs\\python\\python39\\lib\\site-packages\\keras\\src\\backend.py:1398: The name tf.executing_eagerly_outside_functions is deprecated. Please use tf.compat.v1.executing_eagerly_outside_functions instead.\n",
      "\n",
      "WARNING:tensorflow:From c:\\users\\ksenia\\appdata\\local\\programs\\python\\python39\\lib\\site-packages\\keras\\src\\layers\\normalization\\batch_normalization.py:979: The name tf.nn.fused_batch_norm is deprecated. Please use tf.compat.v1.nn.fused_batch_norm instead.\n",
      "\n",
      "Downloading data from https://storage.googleapis.com/tensorflow/keras-applications/resnet/resnet50_weights_tf_dim_ordering_tf_kernels_notop.h5\n",
      "94765736/94765736 [==============================] - 73s 1us/step\n"
     ]
    }
   ],
   "source": [
    "# Используем ResNet\n",
    "from tensorflow.keras.applications import ResNet50\n",
    "conv_base = ResNet50(weights='imagenet',\n",
    "include_top=False,\n",
    "input_shape=(IMG_HEIGHT, IMG_WIDTH, IMG_CHANNEL))\n",
    "\n",
    "model = tf.keras.models.Sequential()\n",
    "model.add(conv_base)\n",
    "model.add(tf.keras.layers.Flatten())\n",
    "model.add(tf.keras.layers.Dense(256, activation='relu'))\n",
    "model.add(tf.keras.layers.Dense(3, activation='softmax')) # Three classes"
   ]
  },
  {
   "cell_type": "code",
   "execution_count": 9,
   "id": "7c23d955",
   "metadata": {},
   "outputs": [],
   "source": [
    "conv_base.trainable = False"
   ]
  },
  {
   "cell_type": "code",
   "execution_count": 10,
   "id": "91f75fe4",
   "metadata": {},
   "outputs": [],
   "source": [
    "# Размораживаем несколько верхних слоев\n",
    "conv_base.trainable = True\n",
    "fine_tune_at = 100\n",
    "\n",
    "for layer in conv_base.layers[:fine_tune_at]:\n",
    "    layer.trainable =  False"
   ]
  },
  {
   "cell_type": "code",
   "execution_count": 11,
   "id": "501f9488",
   "metadata": {},
   "outputs": [
    {
     "name": "stderr",
     "output_type": "stream",
     "text": [
      "WARNING:absl:`lr` is deprecated in Keras optimizer, please use `learning_rate` or use the legacy optimizer, e.g.,tf.keras.optimizers.legacy.RMSprop.\n"
     ]
    }
   ],
   "source": [
    "#Компилируем модель после любых изменений в trainable\n",
    "model.compile(loss='categorical_crossentropy',\n",
    "optimizer=RMSprop(lr=1e-4),\n",
    "metrics=['acc'])"
   ]
  },
  {
   "cell_type": "code",
   "execution_count": 12,
   "id": "2e287e4a",
   "metadata": {},
   "outputs": [
    {
     "name": "stdout",
     "output_type": "stream",
     "text": [
      "Epoch 1/5\n",
      "WARNING:tensorflow:From c:\\users\\ksenia\\appdata\\local\\programs\\python\\python39\\lib\\site-packages\\keras\\src\\utils\\tf_utils.py:492: The name tf.ragged.RaggedTensorValue is deprecated. Please use tf.compat.v1.ragged.RaggedTensorValue instead.\n",
      "\n"
     ]
    },
    {
     "name": "stderr",
     "output_type": "stream",
     "text": [
      "WARNING:tensorflow:From c:\\users\\ksenia\\appdata\\local\\programs\\python\\python39\\lib\\site-packages\\keras\\src\\utils\\tf_utils.py:492: The name tf.ragged.RaggedTensorValue is deprecated. Please use tf.compat.v1.ragged.RaggedTensorValue instead.\n",
      "\n"
     ]
    },
    {
     "name": "stdout",
     "output_type": "stream",
     "text": [
      "WARNING:tensorflow:From c:\\users\\ksenia\\appdata\\local\\programs\\python\\python39\\lib\\site-packages\\keras\\src\\engine\\base_layer_utils.py:384: The name tf.executing_eagerly_outside_functions is deprecated. Please use tf.compat.v1.executing_eagerly_outside_functions instead.\n",
      "\n"
     ]
    },
    {
     "name": "stderr",
     "output_type": "stream",
     "text": [
      "WARNING:tensorflow:From c:\\users\\ksenia\\appdata\\local\\programs\\python\\python39\\lib\\site-packages\\keras\\src\\engine\\base_layer_utils.py:384: The name tf.executing_eagerly_outside_functions is deprecated. Please use tf.compat.v1.executing_eagerly_outside_functions instead.\n",
      "\n"
     ]
    },
    {
     "name": "stdout",
     "output_type": "stream",
     "text": [
      "33/33 [==============================] - 1219s 36s/step - loss: 7.7960 - acc: 0.4490 - val_loss: 90.6383 - val_acc: 0.3788\n",
      "Epoch 2/5\n",
      "33/33 [==============================] - 2330s 71s/step - loss: 1.0893 - acc: 0.5212 - val_loss: 26.8756 - val_acc: 0.3818\n",
      "Epoch 3/5\n",
      "33/33 [==============================] - 1218s 37s/step - loss: 1.0790 - acc: 0.5288 - val_loss: 10.3386 - val_acc: 0.3682\n",
      "Epoch 4/5\n",
      "33/33 [==============================] - 1353s 41s/step - loss: 1.0735 - acc: 0.5071 - val_loss: 3.8016 - val_acc: 0.3561\n",
      "Epoch 5/5\n",
      "33/33 [==============================] - 1211s 37s/step - loss: 1.0641 - acc: 0.5177 - val_loss: 1.4915 - val_acc: 0.3727\n"
     ]
    }
   ],
   "source": [
    "# Обучение\n",
    "history = model.fit(\n",
    "    train_generator,\n",
    "    steps_per_epoch=TRAIN_SAMPLES // BATCH_SIZE,\n",
    "    epochs=EPOCHS,\n",
    "    validation_data=validation_generator,\n",
    "    validation_steps=VAL_SAMPLES // BATCH_SIZE)"
   ]
  },
  {
   "cell_type": "code",
   "execution_count": 13,
   "id": "0efb30bf",
   "metadata": {},
   "outputs": [
    {
     "name": "stdout",
     "output_type": "stream",
     "text": [
      "11/11 [==============================] - 180s 16s/step - loss: 1.5296 - acc: 0.3652\n",
      "Test loss: 1.5295593738555908\n",
      "Test accuracy: 0.3651515245437622\n"
     ]
    }
   ],
   "source": [
    "# Оценка модели на тестировании\n",
    "score = model.evaluate(test_generator, steps=TEST_SAMPLES // BATCH_SIZE)\n",
    "print('Test loss:', score[0])\n",
    "print('Test accuracy:', score[1])"
   ]
  },
  {
   "cell_type": "markdown",
   "id": "4536f85f",
   "metadata": {},
   "source": [
    "Вывод: Test loss - это показатель ошибки на тестовом наборе данных. Большой показатель loss говорит о том, что модель делает большие ошибки при прогнозировании. Test accuracy - это показатель точности тестирования. В данном случае точность равна примерно 36.52%, что говорит о том, что модель правильно классифицировала только около 36.52% тестовых примеров."
   ]
  },
  {
   "cell_type": "code",
   "execution_count": 16,
   "id": "cefff820",
   "metadata": {},
   "outputs": [
    {
     "data": {
      "text/plain": [
       "<matplotlib.legend.Legend at 0x25b93251550>"
      ]
     },
     "execution_count": 16,
     "metadata": {},
     "output_type": "execute_result"
    },
    {
     "data": {
      "image/png": "[encoded data removed]",
      "text/plain": [
       "<Figure size 1000x500 with 1 Axes>"
      ]
     },
     "metadata": {},
     "output_type": "display_data"
    }
   ],
   "source": [
    "# Создаем график потерь\n",
    "plt.figure(figsize=(10,5))\n",
    "plt.subplot(1, 2, 1)\n",
    "plt.plot(history.history['loss'])\n",
    "plt.plot(history.history['val_loss'])\n",
    "plt.title('Model loss')\n",
    "plt.ylabel('Loss')\n",
    "plt.xlabel('Epoch')\n",
    "plt.legend(['Train', 'Validation'], loc='upper left')\n"
   ]
  },
  {
   "cell_type": "markdown",
   "id": "4f8b2c3e",
   "metadata": {},
   "source": [
    "Вывод: Обе линии сходятся - это хороший знак. Это означает, что модель хорошо обучается и обобщает на новых данных"
   ]
  },
  {
   "cell_type": "code",
   "execution_count": 26,
   "id": "3cb14b8c",
   "metadata": {},
   "outputs": [
    {
     "data": {
      "image/png": "[encoded data removed]",
      "text/plain": [
       "<Figure size 800x800 with 1 Axes>"
      ]
     },
     "metadata": {},
     "output_type": "display_data"
    }
   ],
   "source": [
    "# Создаем график точности\n",
    "plt.figure(figsize=(8, 8))\n",
    "plt.subplot(2, 1, 1)\n",
    "plt.plot(history.history['acc'], label='Training Accuracy')\n",
    "plt.plot(history.history['val_acc'], label='Validation Accuracy')\n",
    "plt.title('Training and Validation Accuracy')\n",
    "plt.legend(loc='lower right')\n",
    "plt.show()"
   ]
  },
  {
   "cell_type": "markdown",
   "id": "581260ca",
   "metadata": {},
   "source": [
    "Вывод: Training Accuracy и Validation Accuracy сначала убывают, а затем возрастают, что означает, что модель обучается эффективно и начинает справлятся с новыми данными, но лучше бы модель обучить побольше для улучшения точности, однако не хватает терпения это выжидать"
   ]
  },
  {
   "cell_type": "code",
   "execution_count": 27,
   "id": "018721ef",
   "metadata": {},
   "outputs": [
    {
     "name": "stderr",
     "output_type": "stream",
     "text": [
      "c:\\users\\ksenia\\appdata\\local\\programs\\python\\python39\\lib\\site-packages\\keras\\src\\engine\\training.py:3103: UserWarning: You are saving your model as an HDF5 file via `model.save()`. This file format is considered legacy. We recommend using instead the native Keras format, e.g. `model.save('my_model.keras')`.\n",
      "  saving_api.save_model(\n"
     ]
    }
   ],
   "source": [
    "# Сохранение модели\n",
    "model.save('model.h5')"
   ]
  },
  {
   "cell_type": "markdown",
   "id": "71bd5aaf",
   "metadata": {},
   "source": [
    "### Вывод\n",
    "В данной работе была построена модель многоклассового классификаторас использованием сверточной основы VGG и ResNet. Результаты обучения примерно одинаковы, модели обучились не полностью (всё из-за слишком долгого обучения), однако я думаю, что втора модель вышла удачнее, поэтому было решено сохранить её"
   ]
  }
 ],
 "metadata": {
  "kernelspec": {
   "display_name": "Python 3 (ipykernel)",
   "language": "python",
   "name": "python3"
  },
  "language_info": {
   "codemirror_mode": {
    "name": "ipython",
    "version": 3
   },
   "file_extension": ".py",
   "mimetype": "text/x-python",
   "name": "python",
   "nbconvert_exporter": "python",
   "pygments_lexer": "ipython3",
   "version": "3.10.9"
  }
 },
 "nbformat": 4,
 "nbformat_minor": 5
}
